{
 "cells": [
  {
   "cell_type": "code",
   "execution_count": 1,
   "id": "0e0738f6",
   "metadata": {},
   "outputs": [
    {
     "name": "stdout",
     "output_type": "stream",
     "text": [
      "%pylab is deprecated, use %matplotlib inline and import the required libraries.\n",
      "Populating the interactive namespace from numpy and matplotlib\n"
     ]
    }
   ],
   "source": [
    "%pylab inline\n",
    "plt.rcParams[\"figure.figsize\"] = (8, 1)\n",
    "#plt.style.use('dark_background')\n",
    "import numpy as np\n",
    "import numpyro\n",
    "import jax\n",
    "import jax.numpy as jnp\n",
    "numpyro.set_host_device_count(8)\n",
    "import arviz as az"
   ]
  },
  {
   "cell_type": "markdown",
   "id": "ebbf5f1a",
   "metadata": {},
   "source": [
    "## multimodal posterior\n",
    "\n",
    "### with HMC"
   ]
  },
  {
   "cell_type": "code",
   "execution_count": 2,
   "id": "112d8ebb",
   "metadata": {},
   "outputs": [
    {
     "data": {
      "image/png": "[encoded data removed]",
      "text/plain": [
       "<Figure size 800x100 with 1 Axes>"
      ]
     },
     "metadata": {},
     "output_type": "display_data"
    }
   ],
   "source": [
    "from numpyro import sample\n",
    "from numpyro.distributions import Normal as N\n",
    "\n",
    "def model1():\n",
    "    x = numpyro.sample('xh', N(0.0, 10.0))\n",
    "    y = jnp.sin(x)**8\n",
    "    sample('yh', N(y, 0.2), obs=jnp.array(1.0))\n",
    "\n",
    "nuts_kernel = numpyro.infer.NUTS(model1)\n",
    "mcmc = numpyro.infer.MCMC(nuts_kernel, num_chains=8, num_warmup=500, num_samples=500, progress_bar=False)\n",
    "key = jax.random.PRNGKey(0)\n",
    "mcmc.run(key);\n",
    "xh = mcmc.get_samples()['xh']\n",
    "figure(figsize=(8,1)); hist(xh, 1000); grid(1)"
   ]
  },
  {
   "cell_type": "markdown",
   "id": "8e34f62c",
   "metadata": {},
   "source": [
    "### with MvNormal guide"
   ]
  },
  {
   "cell_type": "code",
   "execution_count": 3,
   "id": "b441cb6a",
   "metadata": {},
   "outputs": [
    {
     "name": "stderr",
     "output_type": "stream",
     "text": [
      "100%|█████████████████████████████████████| 2000/2000 [00:00<00:00, 3197.75it/s, init loss: 16.4090, avg. loss [1901-2000]: 3.2134]\n"
     ]
    },
    {
     "data": {
      "image/png": "[encoded data removed]",
      "text/plain": [
       "<Figure size 800x100 with 1 Axes>"
      ]
     },
     "metadata": {},
     "output_type": "display_data"
    }
   ],
   "source": [
    "guide1 = numpyro.infer.autoguide.AutoMultivariateNormal(model1)\n",
    "svi = numpyro.infer.SVI(\n",
    "    model1,\n",
    "    guide1,\n",
    "    numpyro.optim.Adam(step_size=1e-2),\n",
    "    loss=numpyro.infer.Trace_ELBO()\n",
    ")\n",
    "result = svi.run(key, 2000)\n",
    "vi_pred = numpyro.infer.Predictive(guide1, params=result.params, num_samples=4000)\n",
    "vi_samp = vi_pred(key)\n",
    "figure(figsize=(8,1)); hist(vi_samp['xh'], 50); grid(1)"
   ]
  },
  {
   "cell_type": "markdown",
   "id": "c70890df",
   "metadata": {},
   "source": [
    "This is expected, but now we can try some of the more interesting possibilities.\n",
    "\n",
    "### custom guide\n",
    "\n",
    "such as creating a custom guide.  for that we need a distribution we can sample from.  To match the model used above, we need some extra work to create a CDF for sampling,"
   ]
  },
  {
   "cell_type": "code",
   "execution_count": 4,
   "id": "8f1a4a57",
   "metadata": {},
   "outputs": [
    {
     "data": {
      "text/plain": [
       "([<matplotlib.lines.Line2D at 0x28dcbb5e0>], None)"
      ]
     },
     "execution_count": 4,
     "metadata": {},
     "output_type": "execute_result"
    },
    {
     "data": {
      "image/png": "[encoded data removed]",
      "text/plain": [
       "<Figure size 800x100 with 1 Axes>"
      ]
     },
     "metadata": {},
     "output_type": "display_data"
    }
   ],
   "source": [
    "d = N(0,10)\n",
    "x = jnp.r_[-30:30:500j]\n",
    "lf = d.log_prob(x) + 2*jnp.sin(x)**8\n",
    "f = jnp.exp(lf)\n",
    "f = f / f.sum()\n",
    "F = jnp.cumsum(f)\n",
    "plot(x, F), grid(1)"
   ]
  },
  {
   "cell_type": "markdown",
   "id": "98568c2c",
   "metadata": {},
   "source": [
    "With a CDF we can evaluate log prob and sample,"
   ]
  },
  {
   "cell_type": "code",
   "execution_count": 5,
   "id": "1302e62a",
   "metadata": {},
   "outputs": [
    {
     "data": {
      "image/png": "[encoded data removed]",
      "text/plain": [
       "<Figure size 800x100 with 1 Axes>"
      ]
     },
     "metadata": {},
     "output_type": "display_data"
    }
   ],
   "source": [
    "hist(\n",
    "    jnp.interp(jax.random.uniform(key,shape=(4000,)), F, x),\n",
    "    500\n",
    ");"
   ]
  },
  {
   "cell_type": "code",
   "execution_count": 6,
   "id": "d98a844b",
   "metadata": {},
   "outputs": [],
   "source": [
    "class CustomDistribution(numpyro.distributions.Distribution):\n",
    "    support = numpyro.distributions.constraints.real\n",
    "    \n",
    "    def __init__(self):\n",
    "        super().__init__()\n",
    "        d = N(0,10)\n",
    "        x = jnp.r_[-30:30:500j]\n",
    "        lf = d.log_prob(x) + 2*jnp.sin(x)**8\n",
    "        f = jnp.exp(lf)\n",
    "        f = f / f.sum()\n",
    "        F = jnp.cumsum(f)\n",
    "        self.parts = x, lf, F\n",
    "\n",
    "    def sample(self, key, sample_shape=()):\n",
    "        x, lf, F = self.parts\n",
    "        u = jax.random.uniform(key, shape=sample_shape)\n",
    "        return jnp.interp(u, F, x)\n",
    "\n",
    "    def log_prob(self, value):\n",
    "        x, lf, F = self.parts\n",
    "        return jnp.interp(value, x, lf)"
   ]
  },
  {
   "cell_type": "code",
   "execution_count": 7,
   "id": "dd1a1f4c",
   "metadata": {},
   "outputs": [
    {
     "name": "stderr",
     "output_type": "stream",
     "text": [
      "  0%|                                                                                                     | 0/2000 [00:00<?, ?it/s]/Users/duke/.local/share/virtualenvs/vbjax-l9CsAOUn/lib/python3.9/site-packages/jax/_src/linear_util.py:165: UserWarning: Found non-auxiliary vars in guide but not model, consider marking these infer={'is_auxiliary': True}:\n",
      "{'a'}\n",
      "  ans = self.f(*args, **dict(self.params, **kwargs))\n",
      "100%|██████████████████████████████████████| 2000/2000 [00:00<00:00, 3552.06it/s, init loss: 2.1111, avg. loss [1901-2000]: 6.4880]\n"
     ]
    },
    {
     "data": {
      "image/png": "[encoded data removed]",
      "text/plain": [
       "<Figure size 800x100 with 1 Axes>"
      ]
     },
     "metadata": {},
     "output_type": "display_data"
    }
   ],
   "source": [
    "def myguide1():\n",
    "    a = numpyro.sample('a', CustomDistribution())\n",
    "    x = numpyro.sample('xh', N(a, 0.1))\n",
    "\n",
    "svi = numpyro.infer.SVI(\n",
    "    model1,\n",
    "    myguide1,\n",
    "    numpyro.optim.Adam(step_size=1e-2),\n",
    "    loss=numpyro.infer.Trace_ELBO()\n",
    ")\n",
    "result = svi.run(key, 2000)\n",
    "vi_pred = numpyro.infer.Predictive(guide1, params=result.params, num_samples=4000)\n",
    "vi_samp = vi_pred(key)\n",
    "figure(figsize=(8,1)); hist(vi_samp['xh'], 50); grid(1)"
   ]
  },
  {
   "cell_type": "code",
   "execution_count": 8,
   "id": "2ba841b9",
   "metadata": {},
   "outputs": [
    {
     "data": {
      "text/plain": [
       "{}"
      ]
     },
     "execution_count": 8,
     "metadata": {},
     "output_type": "execute_result"
    }
   ],
   "source": [
    "result.params"
   ]
  },
  {
   "cell_type": "markdown",
   "id": "8af0acd2",
   "metadata": {},
   "source": [
    "That's not nearly as effective as expected: there's a missing piece somewhere.  Let's try Stein VI anyway,"
   ]
  },
  {
   "cell_type": "markdown",
   "id": "49d95e46",
   "metadata": {},
   "source": [
    "### Stein guide\n",
    "\n",
    "The Stein implementation here works by creating a guide per Stein particle. "
   ]
  },
  {
   "cell_type": "code",
   "execution_count": 9,
   "id": "cc298324",
   "metadata": {},
   "outputs": [
    {
     "name": "stderr",
     "output_type": "stream",
     "text": [
      "100%|██████████████████████████████████████████████████████████████████████████████████████████| 2000/2000 [01:38<00:00, 20.39it/s]\n"
     ]
    },
    {
     "data": {
      "image/png": "[encoded data removed]",
      "text/plain": [
       "<Figure size 800x100 with 2 Axes>"
      ]
     },
     "metadata": {},
     "output_type": "display_data"
    }
   ],
   "source": [
    "from numpyro.contrib.einstein import RBFKernel, SteinVI\n",
    "\n",
    "guide1 = numpyro.infer.autoguide.AutoDiagonalNormal(model1)\n",
    "\n",
    "svi = SteinVI(\n",
    "    model1,\n",
    "    guide1,\n",
    "    numpyro.optim.Adam(step_size=1e-3),\n",
    "    numpyro.infer.Trace_ELBO(),\n",
    "    RBFKernel(),\n",
    "    num_particles=400,  # number of Stein particles\n",
    "    repulsion_temperature=15.0\n",
    ")\n",
    "\n",
    "result = svi.run(key, 2000)\n",
    "vi_pred = numpyro.infer.Predictive(guide1, params=result.params, num_samples=50)\n",
    "vi_samp = vi_pred(key)\n",
    "subplot(121); plot(result.losses)\n",
    "subplot(122); hist(vi_samp['xh'].ravel(), 50); grid(1)"
   ]
  },
  {
   "cell_type": "code",
   "execution_count": null,
   "id": "d1058dbc",
   "metadata": {},
   "outputs": [],
   "source": []
  }
 ],
 "metadata": {
  "kernelspec": {
   "display_name": "Python 3 (ipykernel)",
   "language": "python",
   "name": "python3"
  },
  "language_info": {
   "codemirror_mode": {
    "name": "ipython",
    "version": 3
   },
   "file_extension": ".py",
   "mimetype": "text/x-python",
   "name": "python",
   "nbconvert_exporter": "python",
   "pygments_lexer": "ipython3",
   "version": "3.9.6"
  }
 },
 "nbformat": 4,
 "nbformat_minor": 5
}
