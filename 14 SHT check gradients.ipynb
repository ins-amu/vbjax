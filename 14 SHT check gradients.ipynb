{
 "cells": [
  {
   "cell_type": "markdown",
   "id": "e61f4cff",
   "metadata": {},
   "source": [
    "# SHT Check Gradients\n",
    "\n",
    "Here we're checking that the gradients computed for the SHT coupling are valid."
   ]
  },
  {
   "cell_type": "code",
   "execution_count": 3,
   "id": "8a5b22aa",
   "metadata": {
    "ExecuteTime": {
     "end_time": "2022-12-15T09:32:13.574899Z",
     "start_time": "2022-12-15T09:32:13.168189Z"
    }
   },
   "outputs": [
    {
     "name": "stdout",
     "output_type": "stream",
     "text": [
      "%pylab is deprecated, use %matplotlib inline and import the required libraries.\n",
      "Populating the interactive namespace from numpy and matplotlib\n"
     ]
    }
   ],
   "source": [
    "%pylab inline\n",
    "%load_ext autoreload\n",
    "%autoreload 2\n",
    "import numpy as np\n",
    "import jax\n",
    "import jax.numpy as jnp\n",
    "import nfjax.shtlc as lc\n",
    "import autograd\n",
    "import autograd.numpy as anp"
   ]
  },
  {
   "cell_type": "markdown",
   "id": "892ca049",
   "metadata": {},
   "source": [
    "## With NumPy & Autograd\n",
    "\n",
    "Let's first try out the plain NumPy with autograd,"
   ]
  },
  {
   "cell_type": "code",
   "execution_count": 4,
   "id": "af820d29",
   "metadata": {
    "ExecuteTime": {
     "end_time": "2022-12-15T09:32:14.028851Z",
     "start_time": "2022-12-15T09:32:13.775993Z"
    }
   },
   "outputs": [],
   "source": [
    "lmax, nlat, nlon, D = 31, 32, 64, 0.0004\n",
    "_, L = lc.make_shtdiff(lmax=lmax, nlat=nlat, nlon=nlon, D=D, return_L=True, np=anp)\n",
    "np.testing.assert_equal(0, L.imag)\n",
    "L = L.real.astype('f')"
   ]
  },
  {
   "cell_type": "markdown",
   "id": "c66eaa80",
   "metadata": {},
   "source": [
    "but using our new grad compatible implementation of `f`,"
   ]
  },
  {
   "cell_type": "code",
   "execution_count": 12,
   "id": "56d4c23c",
   "metadata": {
    "ExecuteTime": {
     "end_time": "2022-12-15T09:33:33.921807Z",
     "start_time": "2022-12-15T09:33:33.897866Z"
    }
   },
   "outputs": [],
   "source": [
    "def apply_L(L, x, np=np):\n",
    "    X = np.fft.rfft(x, axis=1)\n",
    "    X = np.hstack(\n",
    "        (np.einsum('abc,ca->ba', L, X[:,:lmax]),\n",
    "         np.zeros((X.shape[0], X.shape[1] - lmax), jnp.complex64)\n",
    "        )\n",
    "    )\n",
    "    y = np.real(np.fft.irfft(X, axis=1))\n",
    "    return y"
   ]
  },
  {
   "cell_type": "markdown",
   "id": "41638453",
   "metadata": {},
   "source": [
    "have a test value,"
   ]
  },
  {
   "cell_type": "code",
   "execution_count": 13,
   "id": "29887490",
   "metadata": {
    "ExecuteTime": {
     "end_time": "2022-12-15T09:33:34.369303Z",
     "start_time": "2022-12-15T09:33:34.248782Z"
    }
   },
   "outputs": [
    {
     "data": {
      "text/plain": [
       "<matplotlib.image.AxesImage at 0x1621c9f60>"
      ]
     },
     "execution_count": 13,
     "metadata": {},
     "output_type": "execute_result"
    },
    {
     "data": {
      "image/png": "[encoded data removed]",
      "text/plain": [
       "<Figure size 640x480 with 2 Axes>"
      ]
     },
     "metadata": {},
     "output_type": "display_data"
    }
   ],
   "source": [
    "x0 = np.random.randn(nlat, nlon)\n",
    "x1 = apply_L(L, x0)\n",
    "subplot(121); imshow(x0); subplot(122); imshow(x1)"
   ]
  },
  {
   "cell_type": "markdown",
   "id": "55c2d03b",
   "metadata": {},
   "source": [
    "a loss function"
   ]
  },
  {
   "cell_type": "code",
   "execution_count": 14,
   "id": "3690b924",
   "metadata": {
    "ExecuteTime": {
     "end_time": "2022-12-15T09:33:35.576471Z",
     "start_time": "2022-12-15T09:33:35.549517Z"
    }
   },
   "outputs": [
    {
     "data": {
      "text/plain": [
       "(0.0, 2424.7795671679014)"
      ]
     },
     "execution_count": 14,
     "metadata": {},
     "output_type": "execute_result"
    }
   ],
   "source": [
    "def loss(x0h):\n",
    "    x1h = apply_L(L, x0h, np=anp)\n",
    "    sse = anp.sum(anp.square(x1 - x1h))\n",
    "    return sse\n",
    "\n",
    "x0h = np.random.randn(nlat, nlon)\n",
    "loss(x0), loss(x0h)"
   ]
  },
  {
   "cell_type": "markdown",
   "id": "b5706a63",
   "metadata": {},
   "source": [
    "and it's gradient"
   ]
  },
  {
   "cell_type": "code",
   "execution_count": 15,
   "id": "e81f3192",
   "metadata": {
    "ExecuteTime": {
     "end_time": "2022-12-15T09:33:45.176137Z",
     "start_time": "2022-12-15T09:33:36.221490Z"
    }
   },
   "outputs": [
    {
     "name": "stdout",
     "output_type": "stream",
     "text": [
      "71.2 µs ± 1.01 µs per loop (mean ± std. dev. of 7 runs, 10,000 loops each)\n",
      "387 µs ± 4.84 µs per loop (mean ± std. dev. of 7 runs, 1,000 loops each)\n"
     ]
    }
   ],
   "source": [
    "g_loss = autograd.grad(loss)\n",
    "\n",
    "%timeit loss(x0h)\n",
    "%timeit g_loss(x0h)"
   ]
  },
  {
   "cell_type": "markdown",
   "id": "d2bdefa5",
   "metadata": {},
   "source": [
    "Here we see the overhead of autograd is fairly heavy.  Anyway, a simple optimization loop"
   ]
  },
  {
   "cell_type": "code",
   "execution_count": 18,
   "id": "2aceac5d",
   "metadata": {
    "ExecuteTime": {
     "end_time": "2022-12-15T09:34:37.303693Z",
     "start_time": "2022-12-15T09:34:37.272789Z"
    }
   },
   "outputs": [
    {
     "name": "stdout",
     "output_type": "stream",
     "text": [
      "0 2308.188219324211\n",
      "1 688.4211479701916\n",
      "2 375.1683573666386\n",
      "3 250.17372101642454\n",
      "4 183.68622706876872\n"
     ]
    }
   ],
   "source": [
    "x0h = np.random.randn(nlat, nlon)\n",
    "for i in range(5):\n",
    "    print(i, loss(x0h))\n",
    "    x0h -= 0.1 * g_loss(x0h)"
   ]
  },
  {
   "cell_type": "markdown",
   "id": "fc7d5d37",
   "metadata": {},
   "source": [
    "shows that our gradients here are correct. \n",
    "\n",
    "## With Jax\n",
    "\n",
    "Let's try that with Jax,"
   ]
  },
  {
   "cell_type": "code",
   "execution_count": 34,
   "id": "676e6bb8",
   "metadata": {
    "ExecuteTime": {
     "end_time": "2022-12-15T09:56:32.209136Z",
     "start_time": "2022-12-15T09:56:23.136317Z"
    }
   },
   "outputs": [
    {
     "name": "stdout",
     "output_type": "stream",
     "text": [
      "3.051985e-11 2398.42\n",
      "729 µs ± 6.38 µs per loop (mean ± std. dev. of 7 runs, 1,000 loops each)\n",
      "3.76 ms ± 13.7 µs per loop (mean ± std. dev. of 7 runs, 100 loops each)\n",
      "0 2398.42\n",
      "1 666.4641\n",
      "2 354.6015\n",
      "3 233.0774\n",
      "4 169.769\n"
     ]
    }
   ],
   "source": [
    "L = jnp.array(L)\n",
    "x1 = jnp.array(x1)\n",
    "\n",
    "#@jax.jit\n",
    "def loss(x0h):\n",
    "    x1h = apply_L(L, x0h, np=jnp)\n",
    "    sse = jnp.sum(jnp.square(x1 - x1h))\n",
    "    return sse\n",
    "\n",
    "x0h = jnp.array(np.random.randn(nlat, nlon).astype('f'))\n",
    "print(loss(x0), loss(x0h))\n",
    "\n",
    "g_loss = jax.grad(loss)\n",
    "\n",
    "%timeit loss(x0h)\n",
    "%timeit g_loss(x0h)\n",
    "\n",
    "for i in range(5):\n",
    "    print(i, loss(x0h))\n",
    "    x0h -= 0.1 * g_loss(x0h)"
   ]
  },
  {
   "cell_type": "markdown",
   "id": "4b2d7a55",
   "metadata": {},
   "source": [
    "This also works, and about 6x faster than `autograd.grad` with `jax.jit`."
   ]
  },
  {
   "cell_type": "markdown",
   "id": "4af75960",
   "metadata": {},
   "source": [
    "## Inside a scan\n",
    "\n",
    "With working gradients for `apply_L` let's try the filter from notebook [13](13%20SHT%20Matrix%20form%20parallelism.ipynb#Inside-a-scan),"
   ]
  },
  {
   "cell_type": "code",
   "execution_count": 42,
   "id": "a3feecd4",
   "metadata": {
    "ExecuteTime": {
     "end_time": "2022-12-15T09:57:55.982200Z",
     "start_time": "2022-12-15T09:57:55.876738Z"
    }
   },
   "outputs": [],
   "source": [
    "ts = jnp.r_[:500]*0.1\n",
    "k = 0.2\n",
    "\n",
    "@jax.jit\n",
    "def simulate(ts, x0, k):\n",
    "    dt = ts[1] - ts[0]\n",
    "    def f(x, t):\n",
    "        lx = 3.14*x + apply_L(L, x, np=jnp)\n",
    "        x = x + dt * (-x + k * lx)\n",
    "        return x, x\n",
    "    _, x_t = jax.lax.scan(f, x0, ts)\n",
    "    return x_t\n",
    "\n",
    "xt = simulate(ts, x0, k)"
   ]
  },
  {
   "cell_type": "code",
   "execution_count": 43,
   "id": "8fc7987a",
   "metadata": {
    "ExecuteTime": {
     "end_time": "2022-12-15T09:57:56.194843Z",
     "start_time": "2022-12-15T09:57:56.069290Z"
    }
   },
   "outputs": [
    {
     "data": {
      "text/plain": [
       "(Array(0., dtype=float32), Array(44571.504, dtype=float32))"
      ]
     },
     "execution_count": 43,
     "metadata": {},
     "output_type": "execute_result"
    }
   ],
   "source": [
    "@jax.jit\n",
    "def loss(x0h):\n",
    "    xth = simulate(ts, x0h, k)\n",
    "    sse = jnp.sum(jnp.square(xt - xth))\n",
    "    return sse\n",
    "\n",
    "loss(x0), loss(x0h)"
   ]
  },
  {
   "cell_type": "code",
   "execution_count": 44,
   "id": "99a2fd96",
   "metadata": {
    "ExecuteTime": {
     "end_time": "2022-12-15T09:58:09.312025Z",
     "start_time": "2022-12-15T09:57:56.515552Z"
    }
   },
   "outputs": [
    {
     "name": "stdout",
     "output_type": "stream",
     "text": [
      "12.5 ms ± 12.5 µs per loop (mean ± std. dev. of 7 runs, 100 loops each)\n",
      "29.8 ms ± 50.5 µs per loop (mean ± std. dev. of 7 runs, 10 loops each)\n"
     ]
    }
   ],
   "source": [
    "g = jax.jit(jax.grad(loss))\n",
    "g(x0h)\n",
    "%timeit simulate(ts, x0, k)\n",
    "%timeit g(x0h)"
   ]
  },
  {
   "cell_type": "code",
   "execution_count": 46,
   "id": "b9d9ee50",
   "metadata": {
    "ExecuteTime": {
     "end_time": "2022-12-15T09:59:17.677626Z",
     "start_time": "2022-12-15T09:59:17.410533Z"
    }
   },
   "outputs": [
    {
     "name": "stdout",
     "output_type": "stream",
     "text": [
      "0 606728.5\n",
      "1 3587954400.0\n",
      "2 32858192000000.0\n",
      "3 3.6287412e+17\n",
      "4 4.6620014e+21\n"
     ]
    }
   ],
   "source": [
    "x0h = jnp.array(np.random.randn(nlat, nlon).astype('f'))\n",
    "\n",
    "for i in range(5):\n",
    "    print(i, loss(x0h))\n",
    "    x0h -= 0.01 * g(x0h)"
   ]
  },
  {
   "cell_type": "markdown",
   "id": "f4ff3757",
   "metadata": {},
   "source": [
    "ensmaller the step size:"
   ]
  },
  {
   "cell_type": "code",
   "execution_count": 47,
   "id": "9a8775b4",
   "metadata": {
    "ExecuteTime": {
     "end_time": "2022-12-15T09:59:41.547824Z",
     "start_time": "2022-12-15T09:59:39.943389Z"
    }
   },
   "outputs": [
    {
     "name": "stdout",
     "output_type": "stream",
     "text": [
      "0 824430.7\n",
      "10 76615.72\n",
      "20 61376.21\n",
      "30 53723.953\n",
      "40 48314.34\n"
     ]
    }
   ],
   "source": [
    "x0h = jnp.array(np.random.randn(nlat, nlon).astype('f'))\n",
    "\n",
    "for i in range(50):\n",
    "    if i % 10 == 0:\n",
    "        print(i, loss(x0h))\n",
    "    x0h -= 0.0001 * g(x0h)"
   ]
  },
  {
   "cell_type": "markdown",
   "id": "fa815edd",
   "metadata": {},
   "source": [
    "Looks good. "
   ]
  }
 ],
 "metadata": {
  "kernelspec": {
   "display_name": "Python 3 (ipykernel)",
   "language": "python",
   "name": "python3"
  },
  "language_info": {
   "codemirror_mode": {
    "name": "ipython",
    "version": 3
   },
   "file_extension": ".py",
   "mimetype": "text/x-python",
   "name": "python",
   "nbconvert_exporter": "python",
   "pygments_lexer": "ipython3",
   "version": "3.10.8"
  },
  "varInspector": {
   "cols": {
    "lenName": 16,
    "lenType": 16,
    "lenVar": 40
   },
   "kernels_config": {
    "python": {
     "delete_cmd_postfix": "",
     "delete_cmd_prefix": "del ",
     "library": "var_list.py",
     "varRefreshCmd": "print(var_dic_list())"
    },
    "r": {
     "delete_cmd_postfix": ") ",
     "delete_cmd_prefix": "rm(",
     "library": "var_list.r",
     "varRefreshCmd": "cat(var_dic_list()) "
    }
   },
   "types_to_exclude": [
    "module",
    "function",
    "builtin_function_or_method",
    "instance",
    "_Feature"
   ],
   "window_display": false
  }
 },
 "nbformat": 4,
 "nbformat_minor": 5
}
