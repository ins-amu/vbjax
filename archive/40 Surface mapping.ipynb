{
 "cells": [
  {
   "cell_type": "markdown",
   "id": "094d8cd6",
   "metadata": {},
   "source": [
    "The sections below were included as a function in the library, so now the notebook isn't really needed, but this is what usage would look like:"
   ]
  },
  {
   "cell_type": "code",
   "execution_count": 1,
   "id": "df059712",
   "metadata": {},
   "outputs": [],
   "source": [
    "%load_ext autoreload\n",
    "%autoreload 2"
   ]
  },
  {
   "cell_type": "code",
   "execution_count": 3,
   "id": "752f38bb",
   "metadata": {},
   "outputs": [
    {
     "name": "stdout",
     "output_type": "stream",
     "text": [
      "** shtns is not available\n"
     ]
    }
   ],
   "source": [
    "import vbjax.regmap"
   ]
  },
  {
   "cell_type": "code",
   "execution_count": 4,
   "id": "f99ed6d0",
   "metadata": {},
   "outputs": [],
   "source": [
    "import jax.numpy as np"
   ]
  },
  {
   "cell_type": "code",
   "execution_count": 9,
   "id": "fdadd94d",
   "metadata": {},
   "outputs": [],
   "source": [
    "rm = np.r_[0, 0, 0, 1, 1, 2]\n",
    "to_surface, to_region = vbjax.regmap.make_region_mapping(rm)"
   ]
  },
  {
   "cell_type": "code",
   "execution_count": 10,
   "id": "9fcfdd19",
   "metadata": {},
   "outputs": [
    {
     "data": {
      "text/plain": [
       "Array([ 0.3,  0.3,  0.3, -0.2, -0.2,  0.1], dtype=float32, weak_type=True)"
      ]
     },
     "execution_count": 10,
     "metadata": {},
     "output_type": "execute_result"
    }
   ],
   "source": [
    "x_surface = to_surface(np.r_[0.3, -0.2, 0.1])\n",
    "x_surface"
   ]
  },
  {
   "cell_type": "code",
   "execution_count": 11,
   "id": "52e0c087",
   "metadata": {},
   "outputs": [
    {
     "data": {
      "text/plain": [
       "Array([ 0.3, -0.2,  0.1], dtype=float32)"
      ]
     },
     "execution_count": 11,
     "metadata": {},
     "output_type": "execute_result"
    }
   ],
   "source": [
    "to_region(x_surface)"
   ]
  },
  {
   "cell_type": "code",
   "execution_count": 13,
   "id": "9fa126c5",
   "metadata": {},
   "outputs": [],
   "source": [
    "x_r = np.r_[0.1, 0.2, 0.3]\n",
    "assert (to_region(to_surface(x_r))==x_r).all()"
   ]
  },
  {
   "cell_type": "markdown",
   "id": "5baa0483",
   "metadata": {},
   "source": [
    "\n",
    "# Surface mapping\n",
    "\n",
    "When we create surface based simulations or pseudospectral simulations we need to map data using index vectors.  This notebook explores what code in Jax to use for that.\n"
   ]
  },
  {
   "cell_type": "code",
   "execution_count": 2,
   "id": "07b4bfb8",
   "metadata": {},
   "outputs": [
    {
     "name": "stderr",
     "output_type": "stream",
     "text": [
      "/Users/duke/.local/share/virtualenvs/vbjax-l9CsAOUn/lib/python3.9/site-packages/tvb/datatypes/surfaces.py:60: UserWarning: Geodesic distance module is unavailable; some functionality for surfaces will be unavailable.\n",
      "  warnings.warn(msg)\n"
     ]
    },
    {
     "data": {
      "text/html": [
       "<table>\n",
       "<h3>Cortex</h3>\n",
       "<thead><tr><th></th><th style=\"text-align:left;width:40%\">value</th></tr></thead>\n",
       "<tbody>\n",
       "<tr><td>Type</td><td style=\"text-align:left;\"><pre>Cortex</pre></td>\n",
       "<tr><td>coupling_strength [min, median, max]</td><td style=\"text-align:left;\"><pre>[1, 1, 1]</pre></td>\n",
       "<tr><td>coupling_strength dtype</td><td style=\"text-align:left;\"><pre>float64</pre></td>\n",
       "<tr><td>coupling_strength shape</td><td style=\"text-align:left;\"><pre>(1,)</pre></td>\n",
       "<tr><td>gid</td><td style=\"text-align:left;\"><pre>UUID('d0e5ce3d-be19-400e-b06a-15f4bfb73881')</pre></td>\n",
       "<tr><td>local_connectivity</td><td style=\"text-align:left;\"><pre>None</pre></td>\n",
       "<tr><td>region_mapping_data</td><td style=\"text-align:left;\"><pre>RegionMapping gid: a7910f59-cf7b-4b1a-bea0-28a48bffb7e5</pre></td>\n",
       "<tr><td>title</td><td style=\"text-align:left;\"><pre>Cortex gid: d0e5ce3d-be19-400e-b06a-15f4bfb73881</pre></td>\n",
       "</tbody></table>"
      ],
      "text/plain": [
       "<tvb.datatypes.cortex.Cortex at 0x1209964f0>"
      ]
     },
     "execution_count": 2,
     "metadata": {},
     "output_type": "execute_result"
    }
   ],
   "source": [
    "import tvb.datatypes.cortex \n",
    "cortex = tvb.datatypes.cortex.Cortex.from_file()\n",
    "cortex"
   ]
  },
  {
   "cell_type": "code",
   "execution_count": 3,
   "id": "2efaf539",
   "metadata": {},
   "outputs": [],
   "source": [
    "region_map = cortex.region_mapping_data.array_data"
   ]
  },
  {
   "cell_type": "code",
   "execution_count": 4,
   "id": "8fab1cd9",
   "metadata": {},
   "outputs": [
    {
     "data": {
      "text/plain": [
       "((16384,), 0, 75)"
      ]
     },
     "execution_count": 4,
     "metadata": {},
     "output_type": "execute_result"
    }
   ],
   "source": [
    "region_map.shape, region_map.min(), region_map.max()"
   ]
  },
  {
   "cell_type": "code",
   "execution_count": 5,
   "id": "417c5536",
   "metadata": {},
   "outputs": [
    {
     "name": "stdout",
     "output_type": "stream",
     "text": [
      "2023-02-08 10:17:23,496 - WARNING - tvb.basic.readers - File 'hemispheres' not found in ZIP.\n"
     ]
    },
    {
     "data": {
      "text/plain": [
       "(76, 76)"
      ]
     },
     "execution_count": 5,
     "metadata": {},
     "output_type": "execute_result"
    }
   ],
   "source": [
    "import tvb.datatypes.connectivity\n",
    "conn = tvb.datatypes.connectivity.Connectivity.from_file()\n",
    "conn.weights.shape"
   ]
  },
  {
   "cell_type": "markdown",
   "id": "30f3ca6f",
   "metadata": {},
   "source": [
    "Move those arrays to Jax"
   ]
  },
  {
   "cell_type": "code",
   "execution_count": 6,
   "id": "74db5927",
   "metadata": {},
   "outputs": [],
   "source": [
    "import jax.numpy as np\n",
    "import jax\n",
    "\n",
    "region_map = np.array(region_map)"
   ]
  },
  {
   "cell_type": "markdown",
   "id": "582a12d0",
   "metadata": {},
   "source": [
    "## From region vector to surface\n",
    "\n",
    "This is the easiest operation since it just uses the `region_map` as indices"
   ]
  },
  {
   "cell_type": "code",
   "execution_count": 7,
   "id": "fc94c55e",
   "metadata": {},
   "outputs": [
    {
     "data": {
      "text/plain": [
       "(16384,)"
      ]
     },
     "execution_count": 7,
     "metadata": {},
     "output_type": "execute_result"
    }
   ],
   "source": [
    "x = np.ones((76, ))\n",
    "\n",
    "x[region_map].shape"
   ]
  },
  {
   "cell_type": "markdown",
   "id": "06ffce14",
   "metadata": {},
   "source": [
    "## From surface to region vector\n",
    "\n",
    "The inverse operation is more interesting: TVB uses an average over vertices in a region to compute the corresponding regional value.  Computing the average is easier if we first count vertices in each region:"
   ]
  },
  {
   "cell_type": "code",
   "execution_count": 8,
   "id": "38e996ba",
   "metadata": {},
   "outputs": [],
   "source": [
    "vtx_count = np.bincount(region_map)"
   ]
  },
  {
   "cell_type": "markdown",
   "id": "b9e3c390",
   "metadata": {},
   "source": [
    "Jax doesn't do the `np.add.at` thing, however the array update has the correct semantics with a surprisingly similar name.  We can check that against `vtx_count` like so:"
   ]
  },
  {
   "cell_type": "code",
   "execution_count": 9,
   "id": "4da131e5",
   "metadata": {},
   "outputs": [
    {
     "data": {
      "text/plain": [
       "Array([ True,  True,  True,  True,  True,  True,  True,  True,  True,\n",
       "        True,  True,  True,  True,  True,  True,  True,  True,  True,\n",
       "        True,  True,  True,  True,  True,  True,  True,  True,  True,\n",
       "        True,  True,  True,  True,  True,  True,  True,  True,  True,\n",
       "        True,  True,  True,  True,  True,  True,  True,  True,  True,\n",
       "        True,  True,  True,  True,  True,  True,  True,  True,  True,\n",
       "        True,  True,  True,  True,  True,  True,  True,  True,  True,\n",
       "        True,  True,  True,  True,  True,  True,  True,  True,  True,\n",
       "        True,  True,  True,  True], dtype=bool)"
      ]
     },
     "execution_count": 9,
     "metadata": {},
     "output_type": "execute_result"
    }
   ],
   "source": [
    "x = x.at[:].set(0)\n",
    "\n",
    "x = x.at[region_map].add(1)\n",
    "\n",
    "x == vtx_count"
   ]
  },
  {
   "cell_type": "markdown",
   "id": "72ce2963",
   "metadata": {},
   "source": [
    "now with a full random surface vector,"
   ]
  },
  {
   "cell_type": "code",
   "execution_count": 2,
   "id": "6b520572",
   "metadata": {},
   "outputs": [
    {
     "ename": "NameError",
     "evalue": "name 'jax' is not defined",
     "output_type": "error",
     "traceback": [
      "\u001b[0;31m---------------------------------------------------------------------------\u001b[0m",
      "\u001b[0;31mNameError\u001b[0m                                 Traceback (most recent call last)",
      "Cell \u001b[0;32mIn[2], line 1\u001b[0m\n\u001b[0;32m----> 1\u001b[0m key \u001b[38;5;241m=\u001b[39m \u001b[43mjax\u001b[49m\u001b[38;5;241m.\u001b[39mrandom\u001b[38;5;241m.\u001b[39mPRNGKey(\u001b[38;5;241m42\u001b[39m)\n\u001b[1;32m      2\u001b[0m surf_x \u001b[38;5;241m=\u001b[39m jax\u001b[38;5;241m.\u001b[39mrandom\u001b[38;5;241m.\u001b[39mnormal(key, shape\u001b[38;5;241m=\u001b[39m(\u001b[38;5;28mlen\u001b[39m(region_map), ))\n\u001b[1;32m      4\u001b[0m surf_x_roi_mean \u001b[38;5;241m=\u001b[39m np\u001b[38;5;241m.\u001b[39mzeros(vtx_count\u001b[38;5;241m.\u001b[39msize)\n",
      "\u001b[0;31mNameError\u001b[0m: name 'jax' is not defined"
     ]
    }
   ],
   "source": [
    "key = jax.random.PRNGKey(42)\n",
    "surf_x = jax.random.normal(key, shape=(len(region_map), ))\n",
    "\n",
    "surf_x_roi_mean = np.zeros(vtx_count.size)\n",
    "surf_x_roi_mean = surf_x_roi_mean.at[region_map].add(surf_x)/vtx_count"
   ]
  },
  {
   "cell_type": "markdown",
   "id": "289283ee",
   "metadata": {},
   "source": [
    "\"Yes, but did it work?\" with a scan"
   ]
  },
  {
   "cell_type": "code",
   "execution_count": 13,
   "id": "291c5056",
   "metadata": {},
   "outputs": [],
   "source": [
    "def surf_roi_mean_check(surf_x):\n",
    "    def op(c, args):\n",
    "        j, sx = args\n",
    "        c = c.at[j].add(sx)\n",
    "        return c, None\n",
    "    c = np.zeros_like(x)\n",
    "    c, _ = jax.lax.scan(op, c, (region_map, surf_x))\n",
    "    return c / vtx_count\n",
    "\n",
    "assert (surf_roi_mean_check(surf_x) == surf_x_roi_mean).all()"
   ]
  },
  {
   "cell_type": "markdown",
   "id": "e958cf6f",
   "metadata": {},
   "source": [
    "obligatory micro benchmark"
   ]
  },
  {
   "cell_type": "code",
   "execution_count": 14,
   "id": "536a33fd",
   "metadata": {},
   "outputs": [
    {
     "name": "stdout",
     "output_type": "stream",
     "text": [
      "15.8 ms ± 147 µs per loop (mean ± std. dev. of 7 runs, 100 loops each)\n",
      "602 µs ± 4.79 µs per loop (mean ± std. dev. of 7 runs, 1,000 loops each)\n"
     ]
    }
   ],
   "source": [
    "%timeit surf_roi_mean_check(surf_x).block_until_ready()\n",
    "%timeit (np.zeros_like(x).at[region_map].add(surf_x)/vtx_count).block_until_ready()"
   ]
  }
 ],
 "metadata": {
  "kernelspec": {
   "display_name": "Python 3 (ipykernel)",
   "language": "python",
   "name": "python3"
  },
  "language_info": {
   "codemirror_mode": {
    "name": "ipython",
    "version": 3
   },
   "file_extension": ".py",
   "mimetype": "text/x-python",
   "name": "python",
   "nbconvert_exporter": "python",
   "pygments_lexer": "ipython3",
   "version": "3.9.6"
  }
 },
 "nbformat": 4,
 "nbformat_minor": 5
}
