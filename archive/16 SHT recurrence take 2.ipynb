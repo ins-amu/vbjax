{
 "cells": [
  {
   "cell_type": "code",
   "execution_count": 1,
   "id": "d56d5b9e",
   "metadata": {
    "ExecuteTime": {
     "end_time": "2022-12-19T16:00:24.068454Z",
     "start_time": "2022-12-19T16:00:23.605684Z"
    }
   },
   "outputs": [
    {
     "name": "stdout",
     "output_type": "stream",
     "text": [
      "%pylab is deprecated, use %matplotlib inline and import the required libraries.\n",
      "Populating the interactive namespace from numpy and matplotlib\n"
     ]
    }
   ],
   "source": [
    "%pylab inline\n",
    "import numpy as np\n",
    "import jax\n",
    "import jax.numpy as jnp\n",
    "import shtns"
   ]
  },
  {
   "cell_type": "code",
   "execution_count": 36,
   "id": "e0aaec3b",
   "metadata": {
    "ExecuteTime": {
     "end_time": "2022-12-19T16:31:00.275582Z",
     "start_time": "2022-12-19T16:31:00.268500Z"
    }
   },
   "outputs": [
    {
     "data": {
      "text/plain": [
       "Array(0.4641322, dtype=float32)"
      ]
     },
     "execution_count": 36,
     "metadata": {},
     "output_type": "execute_result"
    }
   ],
   "source": [
    "def j_amm_m(m):\n",
    "    k = jnp.arange(1, m + 1)\n",
    "    return jnp.sqrt(jnp.prod((2*k+1)/(2*k))/(4*jnp.pi))\n",
    "\n",
    "j_amm_m(5)"
   ]
  },
  {
   "cell_type": "code",
   "execution_count": 70,
   "id": "6b25efe5",
   "metadata": {
    "ExecuteTime": {
     "end_time": "2022-12-19T16:44:43.250868Z",
     "start_time": "2022-12-19T16:44:43.246369Z"
    }
   },
   "outputs": [],
   "source": [
    "@jax.jit\n",
    "def j_amm(m):\n",
    "    def f(el, k):\n",
    "        el *= (2*k + 1) / (2*k)\n",
    "        return el, k\n",
    "    el, _ = jax.lax.scan(f, 1.0, jnp.r_[1:m])\n",
    "    return jnp.sqrt(el/(4*jnp.pi))"
   ]
  },
  {
   "cell_type": "code",
   "execution_count": 135,
   "id": "1269eab7",
   "metadata": {
    "ExecuteTime": {
     "end_time": "2022-12-19T18:36:32.853055Z",
     "start_time": "2022-12-19T18:36:32.847743Z"
    }
   },
   "outputs": [
    {
     "name": "stdout",
     "output_type": "stream",
     "text": [
      "0 []\n",
      "0 1.0\n",
      "1 [1]\n",
      "1 1.5\n",
      "2 [1, 2]\n",
      "2 1.875\n",
      "3 [1, 2, 3]\n",
      "3 2.1875\n",
      "4 [1, 2, 3, 4]\n",
      "4 2.4609375\n",
      "5 [1, 2, 3, 4, 5]\n",
      "5 2.70703125\n"
     ]
    },
    {
     "data": {
      "text/plain": [
       "array([0.28209479, 0.34549415, 0.3862742 , 0.41722382, 0.44253269,\n",
       "       0.4641322 ])"
      ]
     },
     "execution_count": 135,
     "metadata": {},
     "output_type": "execute_result"
    }
   ],
   "source": [
    "all_amm(5)"
   ]
  },
  {
   "cell_type": "code",
   "execution_count": 134,
   "id": "42902a6d",
   "metadata": {
    "ExecuteTime": {
     "end_time": "2022-12-19T18:36:31.812110Z",
     "start_time": "2022-12-19T18:36:31.792817Z"
    }
   },
   "outputs": [],
   "source": [
    "def gen_ml(N):\n",
    "    return np.array([[m, l] for m in range(N+1) for l in range(N+1) if m<=l])\n",
    "\n",
    "def all_amm(N):\n",
    "    amm = []\n",
    "    for m in range(N+1):\n",
    "        els = []\n",
    "        print(m, list(range(1,m+1)))\n",
    "        for k in range(1,m+1):\n",
    "            els.append((2*k+1)/(2*k))\n",
    "        print(m, np.prod(els))\n",
    "        el = np.prod(els)/(4*np.pi)\n",
    "        amm.append(np.sqrt(el))\n",
    "    amm = np.array(amm)\n",
    "    return amm\n",
    "\n",
    "def all_amm_jitable(amm_out):\n",
    "    # N = amm_out.size - 1\n",
    "    for m in range(amm_out.size):\n",
    "        el = numba.float64(1.0)\n",
    "        for k in range(1,m+1):\n",
    "            el *= (2*k+1)/(2*k)\n",
    "        el /= 4*np.pi\n",
    "        amm_out[m] = np.sqrt(el)\n",
    "\n",
    "@jax.jit\n",
    "def amn(m, n):\n",
    "    nom = 4*n*n - 1\n",
    "    den = n*n - m*m\n",
    "    out = jnp.sqrt(nom/den)\n",
    "    return out\n",
    "\n",
    "@jax.jit\n",
    "def bmn(m, n):\n",
    "    l = (2*n + 1)/(2*n - 3)\n",
    "    r = ((n - 1)*(n - 1) - m*m)/(n*n - m*m)\n",
    "    return - jnp.sqrt(l*r)\n",
    "\n",
    "def lat_grid(nlat):\n",
    "    x = np.r_[:nlat] / nlat * np.pi\n",
    "    cx = np.cos(x)\n",
    "    return cx"
   ]
  },
  {
   "cell_type": "code",
   "execution_count": 136,
   "id": "51471fad",
   "metadata": {
    "ExecuteTime": {
     "end_time": "2022-12-19T18:37:42.965350Z",
     "start_time": "2022-12-19T18:37:42.954540Z"
    }
   },
   "outputs": [
    {
     "data": {
      "text/plain": [
       "array([0, 1, 2, 3, 4])"
      ]
     },
     "execution_count": 136,
     "metadata": {},
     "output_type": "execute_result"
    }
   ],
   "source": [
    "np.r_[:5]"
   ]
  },
  {
   "cell_type": "code",
   "execution_count": 3,
   "id": "10150018",
   "metadata": {
    "ExecuteTime": {
     "end_time": "2022-12-19T16:00:25.570609Z",
     "start_time": "2022-12-19T16:00:25.561831Z"
    }
   },
   "outputs": [],
   "source": [
    "# @jax.jit\n",
    "def LT(amm: np.ndarray[1,np.float32],\n",
    "       cx: np.ndarray[1,np.float32],\n",
    "       fx: np.ndarray[2,np.complex64]) -> np.ndarray[1,np.complex64]:\n",
    "    \n",
    "    N = amm.size - 1  # lmax\n",
    "    nlat = cx.size\n",
    "    i = 0\n",
    "    \n",
    "    # since cx is a vector, this is vectorized over latitudes\n",
    "    # TODO convert to scan, it won't really work otherwise\n",
    "    acc = jnp.zeros_like(cx)\n",
    "    for m in range(N+1):\n",
    "        # eq 13\n",
    "        n = m\n",
    "        p0 = amm[m]*(1 - cx*cx)**(m/2)*(-1)**m\n",
    "        print(i, m, n, p0[0]); i+=1\n",
    "        if n == N:\n",
    "            break\n",
    "        # eq 14\n",
    "        n += 1\n",
    "        p1 = amn(m, n) * cx * p0\n",
    "        print(i, m, n, p1[0]); i+=1\n",
    "        if n == N:\n",
    "            continue\n",
    "        # eq 15 base case\n",
    "        n += 1\n",
    "        p2 = amn(m, n)*cx*p1 + bmn(m, n)*p0\n",
    "        print(i, m, n, p2[0]); i+=1\n",
    "        if n == N:\n",
    "            continue\n",
    "        # eq 15 iterate\n",
    "        while n < N:\n",
    "            p0, p1 = p1, p2\n",
    "            n += 1\n",
    "            p2 = amn(m, n)*cx*p1 + bmn(m, n)*p0\n",
    "            print(i, m, n, p2[0]); i+=1\n",
    "    return p2"
   ]
  },
  {
   "cell_type": "markdown",
   "id": "e8c3841e",
   "metadata": {},
   "source": [
    "The above doesn't actually do the transform, just a complex loop to generate the coefficients.  Since Jax wants a more functional approach, and that loop above could result in many extra nodes in the graph, we want to convert that in to a scan over `m,n` sequence, where we carry whatever required, and the result will be just the `m,n` vector which is the result.\n",
    "\n",
    "When including the `fx` Fourier transformed data, it may be helpful to transpose the array for locality."
   ]
  },
  {
   "cell_type": "markdown",
   "id": "f40b9c7d",
   "metadata": {},
   "source": [
    "First we need to break the loop above into cases and a function to map a given step to the specific case,"
   ]
  },
  {
   "cell_type": "code",
   "execution_count": 104,
   "id": "09b56df4",
   "metadata": {
    "ExecuteTime": {
     "end_time": "2022-12-19T17:20:20.815337Z",
     "start_time": "2022-12-19T17:20:20.682482Z"
    }
   },
   "outputs": [],
   "source": [
    "# TODO may be useful/necessary to do all this as a closure over some constant data arrays?\n",
    "# TODO may be useful to have a pytree to collect arrays?\n",
    "\n",
    "from collections import namedtuple\n",
    "\n",
    "# instances of this instead of many args, jax will flatten automatically\n",
    "# LTRecurState = namedtuple('LTRecurState', 'stop m n p0 p1 p2'.split(' '))\n",
    "\n",
    "from scipy.special import sph_harm\n",
    "check_Pmn = lambda p, m, n, cx: \\\n",
    "    np.testing.assert_allclose(p, \n",
    "        sph_harm(m, n, 0, np.arccos(cx)).real, rtol=1e-3, atol=1e-3)\n",
    "\n",
    "# DONE test coefficients match sph_harm\n",
    "def make_lt_recur(lmax, nlat):\n",
    "    \n",
    "    amm = all_amm(lmax)\n",
    "    cx = lat_grid(nlat)\n",
    "    N = amm.size - 1\n",
    "    ml = np.array([[m, l] for m in range(N+1) for l in range(N+1) if m<=l])\n",
    "    amm_ = amm[ml[:,0]]\n",
    "\n",
    "    def eq13(amm_m, m, n, _1, _2, _3):\n",
    "        p0 = amm_m*(1 - cx*cx)**(m/2)*(-1)**m\n",
    "        return p0, (p0, p1, p2)\n",
    "\n",
    "    def eq14(_1, m, n, p0, _2, _3):\n",
    "        p1 = amn(m, n) * cx * p0\n",
    "        return p1, (p0, p1, p2)\n",
    "\n",
    "    def eq15_base(_1, m, n, p0, p1, _2):\n",
    "        p2 = amn(m, n)*cx*p1 + bmn(m, n)*p0\n",
    "        return p2, (p0, p1, p2)\n",
    "\n",
    "    def eq15_iter(_1, m, n, p0, p1, p2):\n",
    "        p0, p1 = p1, p2\n",
    "        p2 = amn(m, n)*cx*p1 + bmn(m, n)*p0\n",
    "        return p2, (p0, p1, p2)\n",
    "    \n",
    "    def choose_eqn(ps, amm_m, m, n):\n",
    "        return jax.lax.switch(\n",
    "            n - m,\n",
    "            [eq13, eq14, eq15_base, eq15_iter],\n",
    "            amm_m, m, n, *ps)\n",
    "\n",
    "    def scan_pmn_op(ps, x):\n",
    "        amm_m, (m, n) = x['amm_'], x['ml']\n",
    "        pmn, ps = choose_eqn(ps, amm_m, m, n)\n",
    "        return ps, pmn\n",
    "\n",
    "    p0, p1, p2 = jnp.zeros((3,nlat))\n",
    "    scan_pmn_init = p0, p1, p2\n",
    "    scan_pmn_seq = {'amm_': amm_, 'ml': ml}\n",
    "    \n",
    "    @jax.jit\n",
    "    def scan_pmn():\n",
    "        _, pmns = jax.lax.scan(scan_pmn_op, scan_pmn_init, scan_pmn_seq)\n",
    "        return pmns\n",
    "\n",
    "    return ml, cx, scan_pmn\n",
    "\n",
    "ml, cx, gen_pmn = make_lt_recur(6, 32)\n",
    "for (m, n), pmn in zip(ml, gen_pmn()):\n",
    "    check_Pmn(pmn, m, n, cx)"
   ]
  },
  {
   "cell_type": "code",
   "execution_count": 142,
   "id": "4692f331",
   "metadata": {
    "ExecuteTime": {
     "end_time": "2022-12-19T19:04:22.182134Z",
     "start_time": "2022-12-19T19:04:21.786649Z"
    }
   },
   "outputs": [
    {
     "name": "stdout",
     "output_type": "stream",
     "text": [
      "0 []\n",
      "0 1.0\n",
      "1 [1]\n",
      "1 1.5\n",
      "2 [1, 2]\n",
      "2 1.875\n",
      "3 [1, 2, 3]\n",
      "3 2.1875\n",
      "4 [1, 2, 3, 4]\n",
      "4 2.4609375\n",
      "5 [1, 2, 3, 4, 5]\n",
      "5 2.70703125\n",
      "6 [1, 2, 3, 4, 5, 6]\n",
      "6 2.9326171875\n",
      "7 [1, 2, 3, 4, 5, 6, 7]\n",
      "7 3.14208984375\n",
      "8 [1, 2, 3, 4, 5, 6, 7, 8]\n",
      "8 3.338470458984375\n",
      "9 [1, 2, 3, 4, 5, 6, 7, 8, 9]\n",
      "9 3.5239410400390625\n",
      "10 [1, 2, 3, 4, 5, 6, 7, 8, 9, 10]\n",
      "10 3.7001380920410156\n",
      "11 [1, 2, 3, 4, 5, 6, 7, 8, 9, 10, 11]\n",
      "11 3.868326187133789\n",
      "12 [1, 2, 3, 4, 5, 6, 7, 8, 9, 10, 11, 12]\n",
      "12 4.02950644493103\n",
      "13 [1, 2, 3, 4, 5, 6, 7, 8, 9, 10, 11, 12, 13]\n",
      "13 4.184487462043762\n",
      "14 [1, 2, 3, 4, 5, 6, 7, 8, 9, 10, 11, 12, 13, 14]\n",
      "14 4.333933442831039\n",
      "15 [1, 2, 3, 4, 5, 6, 7, 8, 9, 10, 11, 12, 13, 14, 15]\n",
      "15 4.478397890925408\n",
      "16 [1, 2, 3, 4, 5, 6, 7, 8, 9, 10, 11, 12, 13, 14, 15, 16]\n",
      "16 4.618347825016827\n",
      "17 [1, 2, 3, 4, 5, 6, 7, 8, 9, 10, 11, 12, 13, 14, 15, 16, 17]\n",
      "17 4.754181584576145\n",
      "18 [1, 2, 3, 4, 5, 6, 7, 8, 9, 10, 11, 12, 13, 14, 15, 16, 17, 18]\n",
      "18 4.8862421841477035\n",
      "19 [1, 2, 3, 4, 5, 6, 7, 8, 9, 10, 11, 12, 13, 14, 15, 16, 17, 18, 19]\n",
      "19 5.014827504783169\n",
      "20 [1, 2, 3, 4, 5, 6, 7, 8, 9, 10, 11, 12, 13, 14, 15, 16, 17, 18, 19, 20]\n",
      "20 5.140198192402748\n",
      "21 [1, 2, 3, 4, 5, 6, 7, 8, 9, 10, 11, 12, 13, 14, 15, 16, 17, 18, 19, 20, 21]\n",
      "21 5.262583863650431\n",
      "22 [1, 2, 3, 4, 5, 6, 7, 8, 9, 10, 11, 12, 13, 14, 15, 16, 17, 18, 19, 20, 21, 22]\n",
      "22 5.3821880423697595\n",
      "23 [1, 2, 3, 4, 5, 6, 7, 8, 9, 10, 11, 12, 13, 14, 15, 16, 17, 18, 19, 20, 21, 22, 23]\n",
      "23 5.499192130247364\n",
      "24 [1, 2, 3, 4, 5, 6, 7, 8, 9, 10, 11, 12, 13, 14, 15, 16, 17, 18, 19, 20, 21, 22, 23, 24]\n",
      "24 5.613758632960851\n",
      "25 [1, 2, 3, 4, 5, 6, 7, 8, 9, 10, 11, 12, 13, 14, 15, 16, 17, 18, 19, 20, 21, 22, 23, 24, 25]\n",
      "25 5.726033805620068\n",
      "26 [1, 2, 3, 4, 5, 6, 7, 8, 9, 10, 11, 12, 13, 14, 15, 16, 17, 18, 19, 20, 21, 22, 23, 24, 25, 26]\n",
      "26 5.836149840343531\n",
      "27 [1, 2, 3, 4, 5, 6, 7, 8, 9, 10, 11, 12, 13, 14, 15, 16, 17, 18, 19, 20, 21, 22, 23, 24, 25, 26, 27]\n",
      "27 5.944226689238782\n",
      "28 [1, 2, 3, 4, 5, 6, 7, 8, 9, 10, 11, 12, 13, 14, 15, 16, 17, 18, 19, 20, 21, 22, 23, 24, 25, 26, 27, 28]\n",
      "28 6.0503735944037595\n",
      "29 [1, 2, 3, 4, 5, 6, 7, 8, 9, 10, 11, 12, 13, 14, 15, 16, 17, 18, 19, 20, 21, 22, 23, 24, 25, 26, 27, 28, 29]\n",
      "29 6.154690380514169\n",
      "30 [1, 2, 3, 4, 5, 6, 7, 8, 9, 10, 11, 12, 13, 14, 15, 16, 17, 18, 19, 20, 21, 22, 23, 24, 25, 26, 27, 28, 29, 30]\n",
      "30 6.257268553522739\n",
      "31 [1, 2, 3, 4, 5, 6, 7, 8, 9, 10, 11, 12, 13, 14, 15, 16, 17, 18, 19, 20, 21, 22, 23, 24, 25, 26, 27, 28, 29, 30, 31]\n",
      "31 6.358192239869879\n",
      "(528, 32)\n"
     ]
    }
   ],
   "source": [
    "ml, cx, gen_pmn = make_lt_recur(31, 32)\n",
    "print(gen_pmn().shape)"
   ]
  },
  {
   "cell_type": "code",
   "execution_count": 141,
   "id": "571094dc",
   "metadata": {
    "ExecuteTime": {
     "end_time": "2022-12-19T18:47:57.800690Z",
     "start_time": "2022-12-19T18:47:57.667023Z"
    }
   },
   "outputs": [
    {
     "data": {
      "text/plain": [
       "<matplotlib.colorbar.Colorbar at 0x28dba8a90>"
      ]
     },
     "execution_count": 141,
     "metadata": {},
     "output_type": "execute_result"
    },
    {
     "data": {
      "image/png": "[encoded data removed]",
      "text/plain": [
       "<Figure size 640x480 with 2 Axes>"
      ]
     },
     "metadata": {},
     "output_type": "display_data"
    }
   ],
   "source": [
    "imshow(gen_pmn().T, aspect='auto'); colorbar()"
   ]
  },
  {
   "cell_type": "markdown",
   "id": "25ccdc80",
   "metadata": {},
   "source": [
    "It seems the values are correct now and in a scan, how long for different problem sizes?"
   ]
  },
  {
   "cell_type": "code",
   "execution_count": 112,
   "id": "dba28d50",
   "metadata": {
    "ExecuteTime": {
     "end_time": "2022-12-19T17:29:19.487715Z",
     "start_time": "2022-12-19T17:29:06.610925Z"
    }
   },
   "outputs": [
    {
     "name": "stdout",
     "output_type": "stream",
     "text": [
      "21.7 µs ± 70.4 ns per loop (mean ± std. dev. of 7 runs, 10,000 loops each)\n",
      "134 µs ± 318 ns per loop (mean ± std. dev. of 7 runs, 10,000 loops each)\n"
     ]
    }
   ],
   "source": [
    "for lmax, nlat in [(31, 32), (63, 64)]:\n",
    "    ml, cx, gen_pmn = make_lt_recur(lmax, nlat)\n",
    "    gen_pmn()\n",
    "    %timeit gen_pmn()"
   ]
  },
  {
   "cell_type": "code",
   "execution_count": 143,
   "id": "4b7d51f6",
   "metadata": {
    "ExecuteTime": {
     "end_time": "2022-12-20T06:27:27.459666Z",
     "start_time": "2022-12-20T06:26:57.480816Z"
    }
   },
   "outputs": [
    {
     "name": "stdout",
     "output_type": "stream",
     "text": [
      "20.4 µs ± 61.7 ns per loop (mean ± std. dev. of 7 runs, 10,000 loops each)\n",
      "0 []\n",
      "0 1.0\n",
      "1 [1]\n",
      "1 1.5\n",
      "2 [1, 2]\n",
      "2 1.875\n",
      "3 [1, 2, 3]\n",
      "3 2.1875\n",
      "4 [1, 2, 3, 4]\n",
      "4 2.4609375\n",
      "5 [1, 2, 3, 4, 5]\n",
      "5 2.70703125\n",
      "6 [1, 2, 3, 4, 5, 6]\n",
      "6 2.9326171875\n",
      "7 [1, 2, 3, 4, 5, 6, 7]\n",
      "7 3.14208984375\n",
      "8 [1, 2, 3, 4, 5, 6, 7, 8]\n",
      "8 3.338470458984375\n",
      "9 [1, 2, 3, 4, 5, 6, 7, 8, 9]\n",
      "9 3.5239410400390625\n",
      "10 [1, 2, 3, 4, 5, 6, 7, 8, 9, 10]\n",
      "10 3.7001380920410156\n",
      "11 [1, 2, 3, 4, 5, 6, 7, 8, 9, 10, 11]\n",
      "11 3.868326187133789\n",
      "12 [1, 2, 3, 4, 5, 6, 7, 8, 9, 10, 11, 12]\n",
      "12 4.02950644493103\n",
      "13 [1, 2, 3, 4, 5, 6, 7, 8, 9, 10, 11, 12, 13]\n",
      "13 4.184487462043762\n",
      "14 [1, 2, 3, 4, 5, 6, 7, 8, 9, 10, 11, 12, 13, 14]\n",
      "14 4.333933442831039\n",
      "15 [1, 2, 3, 4, 5, 6, 7, 8, 9, 10, 11, 12, 13, 14, 15]\n",
      "15 4.478397890925408\n",
      "16 [1, 2, 3, 4, 5, 6, 7, 8, 9, 10, 11, 12, 13, 14, 15, 16]\n",
      "16 4.618347825016827\n",
      "8.18 µs ± 16.3 ns per loop (mean ± std. dev. of 7 runs, 100,000 loops each)\n",
      "30 µs ± 37 ns per loop (mean ± std. dev. of 7 runs, 10,000 loops each)\n",
      "0 []\n",
      "0 1.0\n",
      "1 [1]\n",
      "1 1.5\n",
      "2 [1, 2]\n",
      "2 1.875\n",
      "3 [1, 2, 3]\n",
      "3 2.1875\n",
      "4 [1, 2, 3, 4]\n",
      "4 2.4609375\n",
      "5 [1, 2, 3, 4, 5]\n",
      "5 2.70703125\n",
      "6 [1, 2, 3, 4, 5, 6]\n",
      "6 2.9326171875\n",
      "7 [1, 2, 3, 4, 5, 6, 7]\n",
      "7 3.14208984375\n",
      "8 [1, 2, 3, 4, 5, 6, 7, 8]\n",
      "8 3.338470458984375\n",
      "9 [1, 2, 3, 4, 5, 6, 7, 8, 9]\n",
      "9 3.5239410400390625\n",
      "10 [1, 2, 3, 4, 5, 6, 7, 8, 9, 10]\n",
      "10 3.7001380920410156\n",
      "11 [1, 2, 3, 4, 5, 6, 7, 8, 9, 10, 11]\n",
      "11 3.868326187133789\n",
      "12 [1, 2, 3, 4, 5, 6, 7, 8, 9, 10, 11, 12]\n",
      "12 4.02950644493103\n",
      "13 [1, 2, 3, 4, 5, 6, 7, 8, 9, 10, 11, 12, 13]\n",
      "13 4.184487462043762\n",
      "14 [1, 2, 3, 4, 5, 6, 7, 8, 9, 10, 11, 12, 13, 14]\n",
      "14 4.333933442831039\n",
      "15 [1, 2, 3, 4, 5, 6, 7, 8, 9, 10, 11, 12, 13, 14, 15]\n",
      "15 4.478397890925408\n",
      "16 [1, 2, 3, 4, 5, 6, 7, 8, 9, 10, 11, 12, 13, 14, 15, 16]\n",
      "16 4.618347825016827\n",
      "17 [1, 2, 3, 4, 5, 6, 7, 8, 9, 10, 11, 12, 13, 14, 15, 16, 17]\n",
      "17 4.754181584576145\n",
      "18 [1, 2, 3, 4, 5, 6, 7, 8, 9, 10, 11, 12, 13, 14, 15, 16, 17, 18]\n",
      "18 4.8862421841477035\n",
      "19 [1, 2, 3, 4, 5, 6, 7, 8, 9, 10, 11, 12, 13, 14, 15, 16, 17, 18, 19]\n",
      "19 5.014827504783169\n",
      "20 [1, 2, 3, 4, 5, 6, 7, 8, 9, 10, 11, 12, 13, 14, 15, 16, 17, 18, 19, 20]\n",
      "20 5.140198192402748\n",
      "21 [1, 2, 3, 4, 5, 6, 7, 8, 9, 10, 11, 12, 13, 14, 15, 16, 17, 18, 19, 20, 21]\n",
      "21 5.262583863650431\n",
      "22 [1, 2, 3, 4, 5, 6, 7, 8, 9, 10, 11, 12, 13, 14, 15, 16, 17, 18, 19, 20, 21, 22]\n",
      "22 5.3821880423697595\n",
      "23 [1, 2, 3, 4, 5, 6, 7, 8, 9, 10, 11, 12, 13, 14, 15, 16, 17, 18, 19, 20, 21, 22, 23]\n",
      "23 5.499192130247364\n",
      "24 [1, 2, 3, 4, 5, 6, 7, 8, 9, 10, 11, 12, 13, 14, 15, 16, 17, 18, 19, 20, 21, 22, 23, 24]\n",
      "24 5.613758632960851\n",
      "25 [1, 2, 3, 4, 5, 6, 7, 8, 9, 10, 11, 12, 13, 14, 15, 16, 17, 18, 19, 20, 21, 22, 23, 24, 25]\n",
      "25 5.726033805620068\n",
      "26 [1, 2, 3, 4, 5, 6, 7, 8, 9, 10, 11, 12, 13, 14, 15, 16, 17, 18, 19, 20, 21, 22, 23, 24, 25, 26]\n",
      "26 5.836149840343531\n",
      "27 [1, 2, 3, 4, 5, 6, 7, 8, 9, 10, 11, 12, 13, 14, 15, 16, 17, 18, 19, 20, 21, 22, 23, 24, 25, 26, 27]\n",
      "27 5.944226689238782\n",
      "28 [1, 2, 3, 4, 5, 6, 7, 8, 9, 10, 11, 12, 13, 14, 15, 16, 17, 18, 19, 20, 21, 22, 23, 24, 25, 26, 27, 28]\n",
      "28 6.0503735944037595\n",
      "29 [1, 2, 3, 4, 5, 6, 7, 8, 9, 10, 11, 12, 13, 14, 15, 16, 17, 18, 19, 20, 21, 22, 23, 24, 25, 26, 27, 28, 29]\n",
      "29 6.154690380514169\n",
      "30 [1, 2, 3, 4, 5, 6, 7, 8, 9, 10, 11, 12, 13, 14, 15, 16, 17, 18, 19, 20, 21, 22, 23, 24, 25, 26, 27, 28, 29, 30]\n",
      "30 6.257268553522739\n",
      "31 [1, 2, 3, 4, 5, 6, 7, 8, 9, 10, 11, 12, 13, 14, 15, 16, 17, 18, 19, 20, 21, 22, 23, 24, 25, 26, 27, 28, 29, 30, 31]\n",
      "31 6.358192239869879\n",
      "8.23 µs ± 51.7 ns per loop (mean ± std. dev. of 7 runs, 100,000 loops each)\n",
      "280 µs ± 1.26 µs per loop (mean ± std. dev. of 7 runs, 1,000 loops each)\n",
      "0 []\n",
      "0 1.0\n",
      "1 [1]\n",
      "1 1.5\n",
      "2 [1, 2]\n",
      "2 1.875\n",
      "3 [1, 2, 3]\n",
      "3 2.1875\n",
      "4 [1, 2, 3, 4]\n",
      "4 2.4609375\n",
      "5 [1, 2, 3, 4, 5]\n",
      "5 2.70703125\n",
      "6 [1, 2, 3, 4, 5, 6]\n",
      "6 2.9326171875\n",
      "7 [1, 2, 3, 4, 5, 6, 7]\n",
      "7 3.14208984375\n",
      "8 [1, 2, 3, 4, 5, 6, 7, 8]\n",
      "8 3.338470458984375\n",
      "9 [1, 2, 3, 4, 5, 6, 7, 8, 9]\n",
      "9 3.5239410400390625\n",
      "10 [1, 2, 3, 4, 5, 6, 7, 8, 9, 10]\n",
      "10 3.7001380920410156\n",
      "11 [1, 2, 3, 4, 5, 6, 7, 8, 9, 10, 11]\n",
      "11 3.868326187133789\n",
      "12 [1, 2, 3, 4, 5, 6, 7, 8, 9, 10, 11, 12]\n",
      "12 4.02950644493103\n",
      "13 [1, 2, 3, 4, 5, 6, 7, 8, 9, 10, 11, 12, 13]\n",
      "13 4.184487462043762\n",
      "14 [1, 2, 3, 4, 5, 6, 7, 8, 9, 10, 11, 12, 13, 14]\n",
      "14 4.333933442831039\n",
      "15 [1, 2, 3, 4, 5, 6, 7, 8, 9, 10, 11, 12, 13, 14, 15]\n",
      "15 4.478397890925408\n",
      "16 [1, 2, 3, 4, 5, 6, 7, 8, 9, 10, 11, 12, 13, 14, 15, 16]\n",
      "16 4.618347825016827\n",
      "17 [1, 2, 3, 4, 5, 6, 7, 8, 9, 10, 11, 12, 13, 14, 15, 16, 17]\n",
      "17 4.754181584576145\n",
      "18 [1, 2, 3, 4, 5, 6, 7, 8, 9, 10, 11, 12, 13, 14, 15, 16, 17, 18]\n",
      "18 4.8862421841477035\n",
      "19 [1, 2, 3, 4, 5, 6, 7, 8, 9, 10, 11, 12, 13, 14, 15, 16, 17, 18, 19]\n",
      "19 5.014827504783169\n",
      "20 [1, 2, 3, 4, 5, 6, 7, 8, 9, 10, 11, 12, 13, 14, 15, 16, 17, 18, 19, 20]\n",
      "20 5.140198192402748\n",
      "21 [1, 2, 3, 4, 5, 6, 7, 8, 9, 10, 11, 12, 13, 14, 15, 16, 17, 18, 19, 20, 21]\n",
      "21 5.262583863650431\n",
      "22 [1, 2, 3, 4, 5, 6, 7, 8, 9, 10, 11, 12, 13, 14, 15, 16, 17, 18, 19, 20, 21, 22]\n",
      "22 5.3821880423697595\n",
      "23 [1, 2, 3, 4, 5, 6, 7, 8, 9, 10, 11, 12, 13, 14, 15, 16, 17, 18, 19, 20, 21, 22, 23]\n",
      "23 5.499192130247364\n",
      "24 [1, 2, 3, 4, 5, 6, 7, 8, 9, 10, 11, 12, 13, 14, 15, 16, 17, 18, 19, 20, 21, 22, 23, 24]\n",
      "24 5.613758632960851\n",
      "25 [1, 2, 3, 4, 5, 6, 7, 8, 9, 10, 11, 12, 13, 14, 15, 16, 17, 18, 19, 20, 21, 22, 23, 24, 25]\n",
      "25 5.726033805620068\n",
      "26 [1, 2, 3, 4, 5, 6, 7, 8, 9, 10, 11, 12, 13, 14, 15, 16, 17, 18, 19, 20, 21, 22, 23, 24, 25, 26]\n",
      "26 5.836149840343531\n",
      "27 [1, 2, 3, 4, 5, 6, 7, 8, 9, 10, 11, 12, 13, 14, 15, 16, 17, 18, 19, 20, 21, 22, 23, 24, 25, 26, 27]\n",
      "27 5.944226689238782\n",
      "28 [1, 2, 3, 4, 5, 6, 7, 8, 9, 10, 11, 12, 13, 14, 15, 16, 17, 18, 19, 20, 21, 22, 23, 24, 25, 26, 27, 28]\n",
      "28 6.0503735944037595\n",
      "29 [1, 2, 3, 4, 5, 6, 7, 8, 9, 10, 11, 12, 13, 14, 15, 16, 17, 18, 19, 20, 21, 22, 23, 24, 25, 26, 27, 28, 29]\n",
      "29 6.154690380514169\n",
      "30 [1, 2, 3, 4, 5, 6, 7, 8, 9, 10, 11, 12, 13, 14, 15, 16, 17, 18, 19, 20, 21, 22, 23, 24, 25, 26, 27, 28, 29, 30]\n",
      "30 6.257268553522739\n",
      "31 [1, 2, 3, 4, 5, 6, 7, 8, 9, 10, 11, 12, 13, 14, 15, 16, 17, 18, 19, 20, 21, 22, 23, 24, 25, 26, 27, 28, 29, 30, 31]\n",
      "31 6.358192239869879\n",
      "32 [1, 2, 3, 4, 5, 6, 7, 8, 9, 10, 11, 12, 13, 14, 15, 16, 17, 18, 19, 20, 21, 22, 23, 24, 25, 26, 27, 28, 29, 30, 31, 32]\n",
      "32 6.457538993617846\n",
      "33 [1, 2, 3, 4, 5, 6, 7, 8, 9, 10, 11, 12, 13, 14, 15, 16, 17, 18, 19, 20, 21, 22, 23, 24, 25, 26, 27, 28, 29, 30, 31, 32, 33]\n",
      "33 6.555380493521147\n",
      "34 [1, 2, 3, 4, 5, 6, 7, 8, 9, 10, 11, 12, 13, 14, 15, 16, 17, 18, 19, 20, 21, 22, 23, 24, 25, 26, 27, 28, 29, 30, 31, 32, 33, 34]\n",
      "34 6.651783147837635\n",
      "35 [1, 2, 3, 4, 5, 6, 7, 8, 9, 10, 11, 12, 13, 14, 15, 16, 17, 18, 19, 20, 21, 22, 23, 24, 25, 26, 27, 28, 29, 30, 31, 32, 33, 34, 35]\n",
      "35 6.746808621378172\n",
      "36 [1, 2, 3, 4, 5, 6, 7, 8, 9, 10, 11, 12, 13, 14, 15, 16, 17, 18, 19, 20, 21, 22, 23, 24, 25, 26, 27, 28, 29, 30, 31, 32, 33, 34, 35, 36]\n",
      "36 6.8405142966750905\n",
      "37 [1, 2, 3, 4, 5, 6, 7, 8, 9, 10, 11, 12, 13, 14, 15, 16, 17, 18, 19, 20, 21, 22, 23, 24, 25, 26, 27, 28, 29, 30, 31, 32, 33, 34, 35, 36, 37]\n",
      "37 6.932953679062592\n",
      "38 [1, 2, 3, 4, 5, 6, 7, 8, 9, 10, 11, 12, 13, 14, 15, 16, 17, 18, 19, 20, 21, 22, 23, 24, 25, 26, 27, 28, 29, 30, 31, 32, 33, 34, 35, 36, 37, 38]\n",
      "38 7.0241767537871\n",
      "39 [1, 2, 3, 4, 5, 6, 7, 8, 9, 10, 11, 12, 13, 14, 15, 16, 17, 18, 19, 20, 21, 22, 23, 24, 25, 26, 27, 28, 29, 30, 31, 32, 33, 34, 35, 36, 37, 38, 39]\n",
      "39 7.114230301912575\n",
      "40 [1, 2, 3, 4, 5, 6, 7, 8, 9, 10, 11, 12, 13, 14, 15, 16, 17, 18, 19, 20, 21, 22, 23, 24, 25, 26, 27, 28, 29, 30, 31, 32, 33, 34, 35, 36, 37, 38, 39, 40]\n",
      "40 7.203158180686482\n",
      "41 [1, 2, 3, 4, 5, 6, 7, 8, 9, 10, 11, 12, 13, 14, 15, 16, 17, 18, 19, 20, 21, 22, 23, 24, 25, 26, 27, 28, 29, 30, 31, 32, 33, 34, 35, 36, 37, 38, 39, 40, 41]\n",
      "41 7.291001573133878\n",
      "42 [1, 2, 3, 4, 5, 6, 7, 8, 9, 10, 11, 12, 13, 14, 15, 16, 17, 18, 19, 20, 21, 22, 23, 24, 25, 26, 27, 28, 29, 30, 31, 32, 33, 34, 35, 36, 37, 38, 39, 40, 41, 42]\n",
      "42 7.377799210909281\n",
      "43 [1, 2, 3, 4, 5, 6, 7, 8, 9, 10, 11, 12, 13, 14, 15, 16, 17, 18, 19, 20, 21, 22, 23, 24, 25, 26, 27, 28, 29, 30, 31, 32, 33, 34, 35, 36, 37, 38, 39, 40, 41, 42, 43]\n",
      "43 7.463587573826831\n",
      "44 [1, 2, 3, 4, 5, 6, 7, 8, 9, 10, 11, 12, 13, 14, 15, 16, 17, 18, 19, 20, 21, 22, 23, 24, 25, 26, 27, 28, 29, 30, 31, 32, 33, 34, 35, 36, 37, 38, 39, 40, 41, 42, 43, 44]\n",
      "44 7.548401068983955\n",
      "45 [1, 2, 3, 4, 5, 6, 7, 8, 9, 10, 11, 12, 13, 14, 15, 16, 17, 18, 19, 20, 21, 22, 23, 24, 25, 26, 27, 28, 29, 30, 31, 32, 33, 34, 35, 36, 37, 38, 39, 40, 41, 42, 43, 44, 45]\n",
      "45 7.632272191972665\n",
      "46 [1, 2, 3, 4, 5, 6, 7, 8, 9, 10, 11, 12, 13, 14, 15, 16, 17, 18, 19, 20, 21, 22, 23, 24, 25, 26, 27, 28, 29, 30, 31, 32, 33, 34, 35, 36, 37, 38, 39, 40, 41, 42, 43, 44, 45, 46]\n",
      "46 7.715231672320194\n",
      "47 [1, 2, 3, 4, 5, 6, 7, 8, 9, 10, 11, 12, 13, 14, 15, 16, 17, 18, 19, 20, 21, 22, 23, 24, 25, 26, 27, 28, 29, 30, 31, 32, 33, 34, 35, 36, 37, 38, 39, 40, 41, 42, 43, 44, 45, 46, 47]\n",
      "47 7.797308605004452\n",
      "48 [1, 2, 3, 4, 5, 6, 7, 8, 9, 10, 11, 12, 13, 14, 15, 16, 17, 18, 19, 20, 21, 22, 23, 24, 25, 26, 27, 28, 29, 30, 31, 32, 33, 34, 35, 36, 37, 38, 39, 40, 41, 42, 43, 44, 45, 46, 47, 48]\n",
      "48 7.878530569639915\n",
      "49 [1, 2, 3, 4, 5, 6, 7, 8, 9, 10, 11, 12, 13, 14, 15, 16, 17, 18, 19, 20, 21, 22, 23, 24, 25, 26, 27, 28, 29, 30, 31, 32, 33, 34, 35, 36, 37, 38, 39, 40, 41, 42, 43, 44, 45, 46, 47, 48, 49]\n",
      "49 7.958923738717873\n",
      "50 [1, 2, 3, 4, 5, 6, 7, 8, 9, 10, 11, 12, 13, 14, 15, 16, 17, 18, 19, 20, 21, 22, 23, 24, 25, 26, 27, 28, 29, 30, 31, 32, 33, 34, 35, 36, 37, 38, 39, 40, 41, 42, 43, 44, 45, 46, 47, 48, 49, 50]\n",
      "50 8.038512976105052\n",
      "51 [1, 2, 3, 4, 5, 6, 7, 8, 9, 10, 11, 12, 13, 14, 15, 16, 17, 18, 19, 20, 21, 22, 23, 24, 25, 26, 27, 28, 29, 30, 31, 32, 33, 34, 35, 36, 37, 38, 39, 40, 41, 42, 43, 44, 45, 46, 47, 48, 49, 50, 51]\n",
      "51 8.11732192685118\n",
      "52 [1, 2, 3, 4, 5, 6, 7, 8, 9, 10, 11, 12, 13, 14, 15, 16, 17, 18, 19, 20, 21, 22, 23, 24, 25, 26, 27, 28, 29, 30, 31, 32, 33, 34, 35, 36, 37, 38, 39, 40, 41, 42, 43, 44, 45, 46, 47, 48, 49, 50, 51, 52]\n",
      "52 8.195373099224748\n",
      "53 [1, 2, 3, 4, 5, 6, 7, 8, 9, 10, 11, 12, 13, 14, 15, 16, 17, 18, 19, 20, 21, 22, 23, 24, 25, 26, 27, 28, 29, 30, 31, 32, 33, 34, 35, 36, 37, 38, 39, 40, 41, 42, 43, 44, 45, 46, 47, 48, 49, 50, 51, 52, 53]\n",
      "53 8.272687939783472\n",
      "54 [1, 2, 3, 4, 5, 6, 7, 8, 9, 10, 11, 12, 13, 14, 15, 16, 17, 18, 19, 20, 21, 22, 23, 24, 25, 26, 27, 28, 29, 30, 31, 32, 33, 34, 35, 36, 37, 38, 39, 40, 41, 42, 43, 44, 45, 46, 47, 48, 49, 50, 51, 52, 53, 54]\n",
      "54 8.349286902188874\n",
      "55 [1, 2, 3, 4, 5, 6, 7, 8, 9, 10, 11, 12, 13, 14, 15, 16, 17, 18, 19, 20, 21, 22, 23, 24, 25, 26, 27, 28, 29, 30, 31, 32, 33, 34, 35, 36, 37, 38, 39, 40, 41, 42, 43, 44, 45, 46, 47, 48, 49, 50, 51, 52, 53, 54, 55]\n",
      "55 8.42518951039059\n",
      "56 [1, 2, 3, 4, 5, 6, 7, 8, 9, 10, 11, 12, 13, 14, 15, 16, 17, 18, 19, 20, 21, 22, 23, 24, 25, 26, 27, 28, 29, 30, 31, 32, 33, 34, 35, 36, 37, 38, 39, 40, 41, 42, 43, 44, 45, 46, 47, 48, 49, 50, 51, 52, 53, 54, 55, 56]\n",
      "56 8.500414416733364\n",
      "57 [1, 2, 3, 4, 5, 6, 7, 8, 9, 10, 11, 12, 13, 14, 15, 16, 17, 18, 19, 20, 21, 22, 23, 24, 25, 26, 27, 28, 29, 30, 31, 32, 33, 34, 35, 36, 37, 38, 39, 40, 41, 42, 43, 44, 45, 46, 47, 48, 49, 50, 51, 52, 53, 54, 55, 56, 57]\n",
      "57 8.574979455476639\n",
      "58 [1, 2, 3, 4, 5, 6, 7, 8, 9, 10, 11, 12, 13, 14, 15, 16, 17, 18, 19, 20, 21, 22, 23, 24, 25, 26, 27, 28, 29, 30, 31, 32, 33, 34, 35, 36, 37, 38, 39, 40, 41, 42, 43, 44, 45, 46, 47, 48, 49, 50, 51, 52, 53, 54, 55, 56, 57, 58]\n",
      "58 8.648901692161783\n",
      "59 [1, 2, 3, 4, 5, 6, 7, 8, 9, 10, 11, 12, 13, 14, 15, 16, 17, 18, 19, 20, 21, 22, 23, 24, 25, 26, 27, 28, 29, 30, 31, 32, 33, 34, 35, 36, 37, 38, 39, 40, 41, 42, 43, 44, 45, 46, 47, 48, 49, 50, 51, 52, 53, 54, 55, 56, 57, 58, 59]\n",
      "59 8.722197469214\n",
      "60 [1, 2, 3, 4, 5, 6, 7, 8, 9, 10, 11, 12, 13, 14, 15, 16, 17, 18, 19, 20, 21, 22, 23, 24, 25, 26, 27, 28, 29, 30, 31, 32, 33, 34, 35, 36, 37, 38, 39, 40, 41, 42, 43, 44, 45, 46, 47, 48, 49, 50, 51, 52, 53, 54, 55, 56, 57, 58, 59, 60]\n",
      "60 8.794882448124117\n",
      "61 [1, 2, 3, 4, 5, 6, 7, 8, 9, 10, 11, 12, 13, 14, 15, 16, 17, 18, 19, 20, 21, 22, 23, 24, 25, 26, 27, 28, 29, 30, 31, 32, 33, 34, 35, 36, 37, 38, 39, 40, 41, 42, 43, 44, 45, 46, 47, 48, 49, 50, 51, 52, 53, 54, 55, 56, 57, 58, 59, 60, 61]\n",
      "61 8.866971648518575\n",
      "62 [1, 2, 3, 4, 5, 6, 7, 8, 9, 10, 11, 12, 13, 14, 15, 16, 17, 18, 19, 20, 21, 22, 23, 24, 25, 26, 27, 28, 29, 30, 31, 32, 33, 34, 35, 36, 37, 38, 39, 40, 41, 42, 43, 44, 45, 46, 47, 48, 49, 50, 51, 52, 53, 54, 55, 56, 57, 58, 59, 60, 61, 62]\n",
      "62 8.938479484393724\n",
      "63 [1, 2, 3, 4, 5, 6, 7, 8, 9, 10, 11, 12, 13, 14, 15, 16, 17, 18, 19, 20, 21, 22, 23, 24, 25, 26, 27, 28, 29, 30, 31, 32, 33, 34, 35, 36, 37, 38, 39, 40, 41, 42, 43, 44, 45, 46, 47, 48, 49, 50, 51, 52, 53, 54, 55, 56, 57, 58, 59, 60, 61, 62, 63]\n",
      "63 9.009419797761929\n"
     ]
    },
    {
     "name": "stdout",
     "output_type": "stream",
     "text": [
      "21 µs ± 108 ns per loop (mean ± std. dev. of 7 runs, 10,000 loops each)\n"
     ]
    }
   ],
   "source": [
    "import nfjax.shtlc as lc\n",
    "\n",
    "for lmax, nlat in [(16, 32), (31, 32), (63, 64)]:\n",
    "    nlon, D = 2*nlat, 0.0004\n",
    "    _, L = lc.make_shtdiff(lmax=lmax, nlat=nlat, nlon=nlon, D=D, return_L=True)\n",
    "    np.testing.assert_equal(0, L.imag)\n",
    "    L = L.real.astype('f')\n",
    "\n",
    "    @jax.jit\n",
    "    def apply_L(L, x, np=jnp):\n",
    "        X = np.fft.rfft(x, axis=1)\n",
    "        X = np.hstack(\n",
    "            (np.einsum('abc,ca->ba', L, X[:,:lmax]),\n",
    "             np.zeros((X.shape[0], X.shape[1] - lmax), jnp.complex64)\n",
    "            )\n",
    "        )\n",
    "        y = np.real(np.fft.irfft(X, axis=1))\n",
    "        return y\n",
    "\n",
    "    x0 = jnp.array(np.random.randn(nlat, nlon).astype('f'))\n",
    "    x1 = apply_L(L, x0)\n",
    "    %timeit apply_L(L, x0)\n",
    "    \n",
    "    ml, cx, gen_pmn = make_lt_recur(lmax, nlat)\n",
    "    gen_pmn()\n",
    "    @jax.jit\n",
    "    def just_FFT(x, np=jnp):\n",
    "        X = np.fft.rfft(x, axis=1)\n",
    "        #gen_pmn()\n",
    "        y = np.real(np.fft.irfft(X, axis=1))\n",
    "        return y\n",
    "    x1 = just_FFT(x0)\n",
    "    %timeit just_FFT(x0)"
   ]
  },
  {
   "cell_type": "code",
   "execution_count": 145,
   "id": "18464199",
   "metadata": {
    "ExecuteTime": {
     "end_time": "2022-12-20T06:28:42.501849Z",
     "start_time": "2022-12-20T06:28:42.421429Z"
    }
   },
   "outputs": [],
   "source": [
    "L.shape\n",
    "import scipy.io\n",
    "scipy.io.savemat('L_63_64.mat', {'L': L})"
   ]
  },
  {
   "cell_type": "markdown",
   "id": "9bea27c1",
   "metadata": {},
   "source": [
    "So the two sizes have cost about 22us and 250us w/ matrix form, and recur (estimating at 2x gen_pmn above) is about 40us and 270us, so about equal for the 64x128 grid.  It seems worthwhile to continue implementing since it requires  less memory than the `lmax*nlat*nlat` form, though even then it isn't much: "
   ]
  },
  {
   "cell_type": "code",
   "execution_count": 116,
   "id": "0a3c2cc4",
   "metadata": {
    "ExecuteTime": {
     "end_time": "2022-12-19T17:35:18.118882Z",
     "start_time": "2022-12-19T17:35:18.114911Z"
    }
   },
   "outputs": [
    {
     "name": "stdout",
     "output_type": "stream",
     "text": [
      "124.0 kB\n",
      "1008.0 kB\n",
      "8128.0 kB\n"
     ]
    }
   ],
   "source": [
    "for lmax, nlat in [(31, 32), (63, 64), (127, 128)]:\n",
    "    print(lmax*nlat*nlat * 4 / 1024, 'kB')"
   ]
  }
 ],
 "metadata": {
  "kernelspec": {
   "display_name": "Python 3 (ipykernel)",
   "language": "python",
   "name": "python3"
  },
  "language_info": {
   "codemirror_mode": {
    "name": "ipython",
    "version": 3
   },
   "file_extension": ".py",
   "mimetype": "text/x-python",
   "name": "python",
   "nbconvert_exporter": "python",
   "pygments_lexer": "ipython3",
   "version": "3.10.8"
  },
  "varInspector": {
   "cols": {
    "lenName": 16,
    "lenType": 16,
    "lenVar": 40
   },
   "kernels_config": {
    "python": {
     "delete_cmd_postfix": "",
     "delete_cmd_prefix": "del ",
     "library": "var_list.py",
     "varRefreshCmd": "print(var_dic_list())"
    },
    "r": {
     "delete_cmd_postfix": ") ",
     "delete_cmd_prefix": "rm(",
     "library": "var_list.r",
     "varRefreshCmd": "cat(var_dic_list()) "
    }
   },
   "types_to_exclude": [
    "module",
    "function",
    "builtin_function_or_method",
    "instance",
    "_Feature"
   ],
   "window_display": false
  }
 },
 "nbformat": 4,
 "nbformat_minor": 5
}
