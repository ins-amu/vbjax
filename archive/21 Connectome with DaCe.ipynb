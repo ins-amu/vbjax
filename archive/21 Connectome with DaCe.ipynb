{
 "cells": [
  {
   "cell_type": "code",
   "execution_count": 1,
   "id": "ca3480a0",
   "metadata": {
    "ExecuteTime": {
     "end_time": "2022-12-21T18:02:52.354218Z",
     "start_time": "2022-12-21T18:02:51.653246Z"
    }
   },
   "outputs": [
    {
     "name": "stdout",
     "output_type": "stream",
     "text": [
      "%pylab is deprecated, use %matplotlib inline and import the required libraries.\n",
      "Populating the interactive namespace from numpy and matplotlib\n"
     ]
    },
    {
     "data": {
      "text/html": [
       "<link href=\"https://fonts.googleapis.com/icon?family=Material+Icons\" rel=\"stylesheet\"><script src=\"https://spcl.github.io/dace/webclient2/dist/sdfv.js\"></script>\n",
       "<link href=\"https://spcl.github.io/dace/webclient2/sdfv.css\" rel=\"stylesheet\">\n"
      ],
      "text/plain": [
       "<IPython.core.display.HTML object>"
      ]
     },
     "metadata": {},
     "output_type": "display_data"
    }
   ],
   "source": [
    "%pylab inline\n",
    "import numpy as np\n",
    "import dace"
   ]
  },
  {
   "cell_type": "code",
   "execution_count": 2,
   "id": "461759ad",
   "metadata": {
    "ExecuteTime": {
     "end_time": "2022-12-21T18:02:53.141845Z",
     "start_time": "2022-12-21T18:02:53.134197Z"
    }
   },
   "outputs": [],
   "source": [
    "nn = 84\n",
    "weights = np.random.normal (size=(nn, nn)).astype('f')\n",
    "lengths = np.random.randint(0, 255, (nn, nn)).astype('i')\n",
    "buffer  = np.random.normal(size=(nn, lengths.max()+1)).astype('f')\n",
    "ns = np.tile(np.r_[:nn],(nn,1))"
   ]
  },
  {
   "cell_type": "code",
   "execution_count": 3,
   "id": "1a2d76e1",
   "metadata": {
    "ExecuteTime": {
     "end_time": "2022-12-21T18:03:03.907552Z",
     "start_time": "2022-12-21T18:02:53.499114Z"
    }
   },
   "outputs": [
    {
     "name": "stdout",
     "output_type": "stream",
     "text": [
      "33.6 µs ± 51.8 ns per loop (mean ± std. dev. of 7 runs, 10,000 loops each)\n",
      "93.9 µs ± 1.17 µs per loop (mean ± std. dev. of 7 runs, 10,000 loops each)\n"
     ]
    }
   ],
   "source": [
    "def fwd(buffer):\n",
    "    return np.sum(weights*buffer[ns,lengths], axis=1)\n",
    "\n",
    "def vjp(g,buffer,gbuf=None):\n",
    "    gb = np.tile(g[:,None],(1,nn)) # rev of sum(a, axis=1)\n",
    "    gbuf = gbuf if isinstance(gbuf,np.ndarray) else np.zeros_like(buffer)\n",
    "    gbuf[ns,lengths.T] += weights.T * gb # TODO check works for duplicates\n",
    "    return gbuf\n",
    "\n",
    "gbuf = vjp(np.ones(nn), buffer)\n",
    "%timeit fwd(buffer)\n",
    "%timeit vjp(np.ones(nn), buffer)"
   ]
  },
  {
   "cell_type": "markdown",
   "id": "c4751569",
   "metadata": {},
   "source": [
    "With the kernels defined in NumPy, let's try DaCe"
   ]
  },
  {
   "cell_type": "code",
   "execution_count": 4,
   "id": "aefaa19b",
   "metadata": {
    "ExecuteTime": {
     "end_time": "2022-12-21T18:03:03.923551Z",
     "start_time": "2022-12-21T18:03:03.921453Z"
    }
   },
   "outputs": [],
   "source": [
    "fwd_dace = dace.program(fwd)"
   ]
  },
  {
   "cell_type": "code",
   "execution_count": 5,
   "id": "bfe8ae2e",
   "metadata": {
    "ExecuteTime": {
     "end_time": "2022-12-21T18:03:10.326391Z",
     "start_time": "2022-12-21T18:03:03.940665Z"
    }
   },
   "outputs": [
    {
     "ename": "TypeError",
     "evalue": "Passing a numpy view (e.g., sub-array or \"A.T\") \"__g_ns\" to DaCe programs is not allowed in order to retain analyzability. Please make a copy with \"numpy.copy(...)\". If you know what you are doing, you can override this error in the configuration by setting compiler.allow_view_arguments to True.",
     "output_type": "error",
     "traceback": [
      "\u001b[0;31m---------------------------------------------------------------------------\u001b[0m",
      "\u001b[0;31mTypeError\u001b[0m                                 Traceback (most recent call last)",
      "Cell \u001b[0;32mIn[5], line 1\u001b[0m\n\u001b[0;32m----> 1\u001b[0m \u001b[43mfwd_dace\u001b[49m\u001b[43m(\u001b[49m\u001b[43mbuffer\u001b[49m\u001b[43m)\u001b[49m\n",
      "File \u001b[0;32m~/.local/share/virtualenvs/nfjax-Y-MGz7Lr/lib/python3.10/site-packages/dace/frontend/python/parser.py:431\u001b[0m, in \u001b[0;36mDaceProgram.__call__\u001b[0;34m(self, *args, **kwargs)\u001b[0m\n\u001b[1;32m    428\u001b[0m \u001b[38;5;28mself\u001b[39m\u001b[38;5;241m.\u001b[39m_cache\u001b[38;5;241m.\u001b[39madd(cachekey, sdfg, binaryobj)\n\u001b[1;32m    430\u001b[0m \u001b[38;5;66;03m# Call SDFG\u001b[39;00m\n\u001b[0;32m--> 431\u001b[0m result \u001b[38;5;241m=\u001b[39m \u001b[43mbinaryobj\u001b[49m\u001b[43m(\u001b[49m\u001b[38;5;241;43m*\u001b[39;49m\u001b[38;5;241;43m*\u001b[39;49m\u001b[43msdfg_args\u001b[49m\u001b[43m)\u001b[49m\n\u001b[1;32m    433\u001b[0m \u001b[38;5;28;01mreturn\u001b[39;00m result\n",
      "File \u001b[0;32m~/.local/share/virtualenvs/nfjax-Y-MGz7Lr/lib/python3.10/site-packages/dace/codegen/compiled_sdfg.py:295\u001b[0m, in \u001b[0;36mCompiledSDFG.__call__\u001b[0;34m(self, *args, **kwargs)\u001b[0m\n\u001b[1;32m    292\u001b[0m     kwargs\u001b[38;5;241m.\u001b[39mupdate({aname: arg \u001b[38;5;28;01mfor\u001b[39;00m aname, arg \u001b[38;5;129;01min\u001b[39;00m \u001b[38;5;28mzip\u001b[39m(\u001b[38;5;28mself\u001b[39m\u001b[38;5;241m.\u001b[39margnames, args)})\n\u001b[1;32m    294\u001b[0m \u001b[38;5;28;01mtry\u001b[39;00m:\n\u001b[0;32m--> 295\u001b[0m     argtuple, initargtuple \u001b[38;5;241m=\u001b[39m \u001b[38;5;28;43mself\u001b[39;49m\u001b[38;5;241;43m.\u001b[39;49m\u001b[43m_construct_args\u001b[49m\u001b[43m(\u001b[49m\u001b[43mkwargs\u001b[49m\u001b[43m)\u001b[49m\n\u001b[1;32m    297\u001b[0m     \u001b[38;5;66;03m# Call initializer function if necessary, then SDFG\u001b[39;00m\n\u001b[1;32m    298\u001b[0m     \u001b[38;5;28;01mif\u001b[39;00m \u001b[38;5;28mself\u001b[39m\u001b[38;5;241m.\u001b[39m_initialized \u001b[38;5;129;01mis\u001b[39;00m \u001b[38;5;28;01mFalse\u001b[39;00m:\n",
      "File \u001b[0;32m~/.local/share/virtualenvs/nfjax-Y-MGz7Lr/lib/python3.10/site-packages/dace/codegen/compiled_sdfg.py:397\u001b[0m, in \u001b[0;36mCompiledSDFG._construct_args\u001b[0;34m(self, kwargs)\u001b[0m\n\u001b[1;32m    393\u001b[0m             \u001b[38;5;28mprint\u001b[39m(\u001b[38;5;124m'\u001b[39m\u001b[38;5;124mWARNING: Passing \u001b[39m\u001b[38;5;132;01m%s\u001b[39;00m\u001b[38;5;124m array argument \u001b[39m\u001b[38;5;124m\"\u001b[39m\u001b[38;5;132;01m%s\u001b[39;00m\u001b[38;5;124m\"\u001b[39m\u001b[38;5;124m to a \u001b[39m\u001b[38;5;132;01m%s\u001b[39;00m\u001b[38;5;124m array\u001b[39m\u001b[38;5;124m'\u001b[39m \u001b[38;5;241m%\u001b[39m\n\u001b[1;32m    394\u001b[0m                   (arg\u001b[38;5;241m.\u001b[39mdtype, a, atype\u001b[38;5;241m.\u001b[39mdtype\u001b[38;5;241m.\u001b[39mtype\u001b[38;5;241m.\u001b[39m\u001b[38;5;18m__name__\u001b[39m))\n\u001b[1;32m    395\u001b[0m     \u001b[38;5;28;01melif\u001b[39;00m (\u001b[38;5;28misinstance\u001b[39m(atype, dt\u001b[38;5;241m.\u001b[39mArray) \u001b[38;5;129;01mand\u001b[39;00m \u001b[38;5;28misinstance\u001b[39m(arg, np\u001b[38;5;241m.\u001b[39mndarray) \u001b[38;5;129;01mand\u001b[39;00m arg\u001b[38;5;241m.\u001b[39mbase \u001b[38;5;129;01mis\u001b[39;00m \u001b[38;5;129;01mnot\u001b[39;00m \u001b[38;5;28;01mNone\u001b[39;00m\n\u001b[1;32m    396\u001b[0m           \u001b[38;5;129;01mand\u001b[39;00m \u001b[38;5;129;01mnot\u001b[39;00m \u001b[38;5;124m'\u001b[39m\u001b[38;5;124m__return\u001b[39m\u001b[38;5;124m'\u001b[39m \u001b[38;5;129;01min\u001b[39;00m a \u001b[38;5;129;01mand\u001b[39;00m \u001b[38;5;129;01mnot\u001b[39;00m Config\u001b[38;5;241m.\u001b[39mget_bool(\u001b[38;5;124m'\u001b[39m\u001b[38;5;124mcompiler\u001b[39m\u001b[38;5;124m'\u001b[39m, \u001b[38;5;124m'\u001b[39m\u001b[38;5;124mallow_view_arguments\u001b[39m\u001b[38;5;124m'\u001b[39m)):\n\u001b[0;32m--> 397\u001b[0m         \u001b[38;5;28;01mraise\u001b[39;00m \u001b[38;5;167;01mTypeError\u001b[39;00m(\u001b[38;5;124mf\u001b[39m\u001b[38;5;124m'\u001b[39m\u001b[38;5;124mPassing a numpy view (e.g., sub-array or \u001b[39m\u001b[38;5;124m\"\u001b[39m\u001b[38;5;124mA.T\u001b[39m\u001b[38;5;124m\"\u001b[39m\u001b[38;5;124m) \u001b[39m\u001b[38;5;124m\"\u001b[39m\u001b[38;5;132;01m{\u001b[39;00ma\u001b[38;5;132;01m}\u001b[39;00m\u001b[38;5;124m\"\u001b[39m\u001b[38;5;124m to DaCe \u001b[39m\u001b[38;5;124m'\u001b[39m\n\u001b[1;32m    398\u001b[0m                         \u001b[38;5;124m'\u001b[39m\u001b[38;5;124mprograms is not allowed in order to retain analyzability. \u001b[39m\u001b[38;5;124m'\u001b[39m\n\u001b[1;32m    399\u001b[0m                         \u001b[38;5;124m'\u001b[39m\u001b[38;5;124mPlease make a copy with \u001b[39m\u001b[38;5;124m\"\u001b[39m\u001b[38;5;124mnumpy.copy(...)\u001b[39m\u001b[38;5;124m\"\u001b[39m\u001b[38;5;124m. If you know what \u001b[39m\u001b[38;5;124m'\u001b[39m\n\u001b[1;32m    400\u001b[0m                         \u001b[38;5;124m'\u001b[39m\u001b[38;5;124myou are doing, you can override this error in the \u001b[39m\u001b[38;5;124m'\u001b[39m\n\u001b[1;32m    401\u001b[0m                         \u001b[38;5;124m'\u001b[39m\u001b[38;5;124mconfiguration by setting compiler.allow_view_arguments \u001b[39m\u001b[38;5;124m'\u001b[39m\n\u001b[1;32m    402\u001b[0m                         \u001b[38;5;124m'\u001b[39m\u001b[38;5;124mto True.\u001b[39m\u001b[38;5;124m'\u001b[39m)\n\u001b[1;32m    404\u001b[0m \u001b[38;5;66;03m# Explicit casting\u001b[39;00m\n\u001b[1;32m    405\u001b[0m \u001b[38;5;28;01mfor\u001b[39;00m index, (arg, argtype) \u001b[38;5;129;01min\u001b[39;00m \u001b[38;5;28menumerate\u001b[39m(\u001b[38;5;28mzip\u001b[39m(arglist, argtypes)):\n\u001b[1;32m    406\u001b[0m     \u001b[38;5;66;03m# Call a wrapper function to make NumPy arrays from pointers.\u001b[39;00m\n",
      "\u001b[0;31mTypeError\u001b[0m: Passing a numpy view (e.g., sub-array or \"A.T\") \"__g_ns\" to DaCe programs is not allowed in order to retain analyzability. Please make a copy with \"numpy.copy(...)\". If you know what you are doing, you can override this error in the configuration by setting compiler.allow_view_arguments to True."
     ]
    }
   ],
   "source": [
    "fwd_dace(buffer)"
   ]
  },
  {
   "cell_type": "code",
   "execution_count": null,
   "id": "6e84bb76",
   "metadata": {
    "ExecuteTime": {
     "end_time": "2022-12-21T18:03:10.329647Z",
     "start_time": "2022-12-21T18:03:10.329642Z"
    }
   },
   "outputs": [],
   "source": [
    "%timeit fwd_dace(buffer)"
   ]
  }
 ],
 "metadata": {
  "kernelspec": {
   "display_name": "Python 3 (ipykernel)",
   "language": "python",
   "name": "python3"
  },
  "language_info": {
   "codemirror_mode": {
    "name": "ipython",
    "version": 3
   },
   "file_extension": ".py",
   "mimetype": "text/x-python",
   "name": "python",
   "nbconvert_exporter": "python",
   "pygments_lexer": "ipython3",
   "version": "3.10.8"
  },
  "varInspector": {
   "cols": {
    "lenName": 16,
    "lenType": 16,
    "lenVar": 40
   },
   "kernels_config": {
    "python": {
     "delete_cmd_postfix": "",
     "delete_cmd_prefix": "del ",
     "library": "var_list.py",
     "varRefreshCmd": "print(var_dic_list())"
    },
    "r": {
     "delete_cmd_postfix": ") ",
     "delete_cmd_prefix": "rm(",
     "library": "var_list.r",
     "varRefreshCmd": "cat(var_dic_list()) "
    }
   },
   "types_to_exclude": [
    "module",
    "function",
    "builtin_function_or_method",
    "instance",
    "_Feature"
   ],
   "window_display": false
  }
 },
 "nbformat": 4,
 "nbformat_minor": 5
}
