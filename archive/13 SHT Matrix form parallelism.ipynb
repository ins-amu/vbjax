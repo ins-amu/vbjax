{
 "cells": [
  {
   "cell_type": "markdown",
   "id": "2b0c8f6f",
   "metadata": {},
   "source": [
    "Is it worth pushing Jax to use multiple cores at this point?  tl;dr on a laptop, no, but maybe for larger devices, to be tested."
   ]
  },
  {
   "cell_type": "code",
   "execution_count": 1,
   "id": "ec1cf8a0",
   "metadata": {
    "ExecuteTime": {
     "end_time": "2022-12-14T22:36:41.331082Z",
     "start_time": "2022-12-14T22:36:41.328177Z"
    }
   },
   "outputs": [],
   "source": [
    "import os\n",
    "# tells XLA to use many cores\n",
    "os.environ[\"XLA_FLAGS\"] = '--xla_force_host_platform_device_count=4'"
   ]
  },
  {
   "cell_type": "code",
   "execution_count": 2,
   "id": "5a809be6",
   "metadata": {
    "ExecuteTime": {
     "end_time": "2022-12-14T22:36:41.919307Z",
     "start_time": "2022-12-14T22:36:41.333911Z"
    }
   },
   "outputs": [
    {
     "name": "stdout",
     "output_type": "stream",
     "text": [
      "%pylab is deprecated, use %matplotlib inline and import the required libraries.\n",
      "Populating the interactive namespace from numpy and matplotlib\n"
     ]
    }
   ],
   "source": [
    "%load_ext autoreload\n",
    "%load_ext memory_profiler\n",
    "%autoreload 2\n",
    "%pylab inline\n",
    "import numpy as np\n",
    "import tqdm\n",
    "import shtns\n",
    "import jax\n",
    "import jax.numpy as jnp\n",
    "import nfjax.shtlc as lc"
   ]
  },
  {
   "cell_type": "code",
   "execution_count": 3,
   "id": "bba561b3",
   "metadata": {
    "ExecuteTime": {
     "end_time": "2022-12-14T22:36:41.959995Z",
     "start_time": "2022-12-14T22:36:41.921262Z"
    }
   },
   "outputs": [
    {
     "data": {
      "text/plain": [
       "[32, 64]"
      ]
     },
     "execution_count": 3,
     "metadata": {},
     "output_type": "execute_result"
    }
   ],
   "source": [
    "lmax, nlat, nlon = 31, 32, 64\n",
    "\n",
    "sht = shtns.sht(lmax)\n",
    "sht.set_grid(nlat=nlat, nphi=nlon)"
   ]
  },
  {
   "cell_type": "code",
   "execution_count": 4,
   "id": "09416aad",
   "metadata": {
    "ExecuteTime": {
     "end_time": "2022-12-14T22:36:41.995992Z",
     "start_time": "2022-12-14T22:36:41.979125Z"
    }
   },
   "outputs": [],
   "source": [
    "lm = lc.make_lm(lmax)\n",
    "phi, _, gw = lc.make_grid(nlat, nlon)"
   ]
  },
  {
   "cell_type": "code",
   "execution_count": 5,
   "id": "cc531587",
   "metadata": {
    "ExecuteTime": {
     "end_time": "2022-12-14T22:36:42.350693Z",
     "start_time": "2022-12-14T22:36:41.998120Z"
    }
   },
   "outputs": [],
   "source": [
    "from scipy.special import sph_harm\n",
    "\n",
    "# forward & inverse Legendre transform matrices\n",
    "LT = []\n",
    "iLT = []\n",
    "L = []\n",
    "D = 0.00047108\n",
    "\n",
    "# each longitudinal frequency mode `m` needs its own forward & inverse matrices\n",
    "for m in range(lmax):\n",
    "    l = lm[0, lm[0]>=m]\n",
    "    LT.append( gw[None, :] * sph_harm(m, l[:, None], 0, phi[None, :]).conjugate() )\n",
    "    iLT.append(              sph_harm(m, l[None, :], 0, phi[:, None])             )\n",
    "    dll = D * l * (l + 1)\n",
    "    L.append(iLT[-1].dot(dll[:, None] * LT[-1]))"
   ]
  },
  {
   "cell_type": "code",
   "execution_count": 6,
   "id": "2313b104",
   "metadata": {
    "ExecuteTime": {
     "end_time": "2022-12-14T22:36:42.428125Z",
     "start_time": "2022-12-14T22:36:42.352952Z"
    }
   },
   "outputs": [],
   "source": [
    "fLT = [_.astype(np.complex64) for _ in LT]\n",
    "fiLT = [_.astype(np.complex64) for _ in iLT]\n",
    "jLT = [jnp.array(_) for _ in fLT]\n",
    "jiLT = [jnp.array(_) for _ in fiLT]"
   ]
  },
  {
   "cell_type": "code",
   "execution_count": 7,
   "id": "67361539",
   "metadata": {
    "ExecuteTime": {
     "end_time": "2022-12-14T22:36:42.670781Z",
     "start_time": "2022-12-14T22:36:42.431762Z"
    }
   },
   "outputs": [],
   "source": [
    "def compute_L(jLT, jiLT, jdll):\n",
    "    return jnp.array(jax.tree_map(\n",
    "        lambda lj, ilj: jnp.dot(ilj, jdll[:lj.shape[0]]*lj).real,\n",
    "        jLT, jiLT,\n",
    "    ))\n",
    "\n",
    "def close_L_for_D(jLT, jiLT, l):\n",
    "    @jax.jit\n",
    "    def L_for_D(D):\n",
    "        jdll = D * l * (l + 1)\n",
    "        return compute_L(jLT, jiLT, jdll)\n",
    "    return L_for_D\n",
    "\n",
    "@jax.jit\n",
    "def apply_L(L, x):\n",
    "    X = jnp.fft.rfft(x, axis=1)\n",
    "    # X[:,:lmax] = jnp.einsum('abc,ca->ba',L,X[:,:lmax])\n",
    "    # X[:,lmax:] = 0.0\n",
    "    X = jnp.hstack(\n",
    "        (jnp.einsum('abc,ca->ba', L, X[:,:lmax]),\n",
    "         jnp.zeros((X.shape[0], X.shape[1] - lmax), jnp.complex64)\n",
    "        )\n",
    "    )\n",
    "    y = jnp.fft.irfft(X, axis=1).real\n",
    "    return y\n",
    "\n",
    "jl = jnp.array(sht.l)[:,None]\n",
    "l4d = close_L_for_D(jLT, jiLT, jl)\n",
    "L = l4d(D)"
   ]
  },
  {
   "cell_type": "code",
   "execution_count": 8,
   "id": "469958cf",
   "metadata": {
    "ExecuteTime": {
     "end_time": "2022-12-14T22:37:20.929772Z",
     "start_time": "2022-12-14T22:36:42.671595Z"
    }
   },
   "outputs": [
    {
     "name": "stdout",
     "output_type": "stream",
     "text": [
      "188 µs ± 842 ns per loop (mean ± std. dev. of 7 runs, 10,000 loops each)\n",
      "121 µs ± 813 ns per loop (mean ± std. dev. of 7 runs, 10,000 loops each)\n",
      "509 µs ± 4 µs per loop (mean ± std. dev. of 7 runs, 1,000 loops each)\n",
      "226 µs ± 999 ns per loop (mean ± std. dev. of 7 runs, 1,000 loops each)\n",
      "5.71 ms ± 66.2 µs per loop (mean ± std. dev. of 7 runs, 100 loops each)\n",
      "2.92 ms ± 59.5 µs per loop (mean ± std. dev. of 7 runs, 100 loops each)\n"
     ]
    }
   ],
   "source": [
    "apply_1 = lambda x: apply_L(L, x)\n",
    "apply_batch = jax.vmap(apply_1)\n",
    "apply_batch_batch = jax.pmap(apply_batch)\n",
    "\n",
    "dc = jax.device_count()\n",
    "for n in (dc, 32, 512):\n",
    "    xs = jnp.zeros((dc, n//dc, nlat, nlon))\n",
    "    xs_ = xs.reshape((-1, nlat, nlon))\n",
    "    %timeit apply_batch(xs_).block_until_ready()\n",
    "    %timeit apply_batch_batch(xs).block_until_ready()"
   ]
  },
  {
   "cell_type": "markdown",
   "id": "bd9825f3",
   "metadata": {},
   "source": [
    "In this case, there's not an enormous benefit because the ops within the `apply_L` are already doing well.  From 4 to 8 cores on m1 is not beneficial (makes sense) but worth a try on larger CPUs. Still, with parallelism,\n",
    "\n",
    "- 325 us for 32, ~10 us per\n",
    "- 2610 us for 512, ~5 us per\n",
    "\n",
    "this suggests that a windowed approach will be efficient. "
   ]
  },
  {
   "cell_type": "code",
   "execution_count": 9,
   "id": "3c21ae5e",
   "metadata": {
    "ExecuteTime": {
     "end_time": "2022-12-14T22:37:23.099226Z",
     "start_time": "2022-12-14T22:37:20.930776Z"
    }
   },
   "outputs": [
    {
     "name": "stdout",
     "output_type": "stream",
     "text": [
      "248 µs ± 467 ns per loop (mean ± std. dev. of 7 runs, 1,000 loops each)\n"
     ]
    }
   ],
   "source": [
    "@jax.jit\n",
    "def filter(ts, x0, k):\n",
    "    dt = ts[1] - ts[0]\n",
    "    def f(x, t):\n",
    "        lx = 3.14*x + apply_L(L, x)\n",
    "        x = x + dt * (-x + k * lx)\n",
    "        return x, x\n",
    "    _, x_t = jax.lax.scan(f, x0, ts)\n",
    "    return x_t[-1]\n",
    "\n",
    "x0 = jnp.zeros((nlat, nlon))\n",
    "x0 = x0.at[23:29,45:50].set(1.0)\n",
    "\n",
    "ts = jnp.r_[:10]*0.1\n",
    "k = 0.2\n",
    "x1 = filter(ts, x0, k)\n",
    "\n",
    "run_1 = lambda x: filter(ts, x0, k)\n",
    "%timeit run_1(x0)"
   ]
  },
  {
   "cell_type": "code",
   "execution_count": 10,
   "id": "11a1ecdb",
   "metadata": {
    "ExecuteTime": {
     "end_time": "2022-12-14T22:37:23.125149Z",
     "start_time": "2022-12-14T22:37:23.101487Z"
    }
   },
   "outputs": [
    {
     "data": {
      "text/plain": [
       "(8, 32, 64)"
      ]
     },
     "execution_count": 10,
     "metadata": {},
     "output_type": "execute_result"
    }
   ],
   "source": [
    "jax.vmap(run_1)(jnp.zeros((8, nlat, nlon))).shape"
   ]
  },
  {
   "cell_type": "code",
   "execution_count": 11,
   "id": "e6caa32b",
   "metadata": {
    "ExecuteTime": {
     "end_time": "2022-12-14T22:37:48.690715Z",
     "start_time": "2022-12-14T22:37:23.126022Z"
    }
   },
   "outputs": [
    {
     "name": "stdout",
     "output_type": "stream",
     "text": [
      "339 µs ± 2.32 µs per loop (mean ± std. dev. of 7 runs, 1,000 loops each)\n",
      "388 µs ± 1.27 µs per loop (mean ± std. dev. of 7 runs, 1,000 loops each)\n",
      "347 µs ± 4.96 µs per loop (mean ± std. dev. of 7 runs, 1,000 loops each)\n",
      "408 µs ± 3.91 µs per loop (mean ± std. dev. of 7 runs, 1,000 loops each)\n",
      "672 µs ± 19.2 µs per loop (mean ± std. dev. of 7 runs, 1,000 loops each)\n",
      "959 µs ± 17.7 µs per loop (mean ± std. dev. of 7 runs, 1,000 loops each)\n"
     ]
    }
   ],
   "source": [
    "run_batch = jax.vmap(run_1)\n",
    "run_batch_batch = jax.pmap(run_batch)\n",
    "\n",
    "dc = jax.device_count()\n",
    "for n in (dc, 32, 512):\n",
    "    xs = jnp.zeros((dc, n//dc, nlat, nlon))\n",
    "    xs_ = xs.reshape((-1, nlat, nlon))\n",
    "    %timeit run_batch(xs_).block_until_ready()\n",
    "    %timeit run_batch_batch(xs).block_until_ready()"
   ]
  },
  {
   "cell_type": "markdown",
   "id": "6c7aaa06",
   "metadata": {},
   "source": [
    "Running the time stepping here is not better with `pmap`, maybe it's the `scan` inside `map`, maybe just memory bandwidth? "
   ]
  },
  {
   "cell_type": "code",
   "execution_count": 12,
   "id": "493cab19",
   "metadata": {
    "ExecuteTime": {
     "end_time": "2022-12-14T22:38:30.964548Z",
     "start_time": "2022-12-14T22:38:25.415367Z"
    }
   },
   "outputs": [
    {
     "name": "stdout",
     "output_type": "stream",
     "text": [
      "678 µs ± 6.45 µs per loop (mean ± std. dev. of 7 runs, 1,000 loops each)\n"
     ]
    }
   ],
   "source": [
    "%timeit run_batch(xs_).block_until_ready()"
   ]
  },
  {
   "cell_type": "markdown",
   "id": "2cd41dc7",
   "metadata": {},
   "source": [
    "Neither manually rewriting with batched sized arrays nor using alternate constructs like `jax.lax.while_loop` is faster, so for now the simple answer is the best."
   ]
  },
  {
   "cell_type": "markdown",
   "id": "c7ebe5c3",
   "metadata": {},
   "source": [
    "## Inside a scan\n",
    "\n",
    "This is close to the form we might use for inversion.  A simple ground truth,"
   ]
  },
  {
   "cell_type": "code",
   "execution_count": 67,
   "id": "a7837e94",
   "metadata": {
    "ExecuteTime": {
     "end_time": "2022-12-15T09:18:34.019464Z",
     "start_time": "2022-12-15T09:18:33.947367Z"
    }
   },
   "outputs": [
    {
     "data": {
      "text/plain": [
       "(500, 32, 64)"
      ]
     },
     "execution_count": 67,
     "metadata": {},
     "output_type": "execute_result"
    }
   ],
   "source": [
    "x0 = jnp.zeros((nlat, nlon))\n",
    "x0 = x0.at[23:29,45:50].set(1.0)\n",
    "ts = jnp.r_[:500]*0.1\n",
    "k = 0.2\n",
    "\n",
    "@jax.jit\n",
    "def simulate(ts, x0, k):\n",
    "    dt = ts[1] - ts[0]\n",
    "    def f(x, t):\n",
    "        # gradients currently wrong, so drop this term for now\n",
    "        lx = 0 # 3.14*x + apply_L(L, x)\n",
    "        x = x + dt * (-x + k * lx)\n",
    "        return x, x\n",
    "    _, x_t = jax.lax.scan(f, x0, ts)\n",
    "    return x_t\n",
    "\n",
    "x1 = simulate(ts, x0, k)\n",
    "x1.shape"
   ]
  },
  {
   "cell_type": "markdown",
   "id": "539643aa",
   "metadata": {},
   "source": [
    "with a loss function,"
   ]
  },
  {
   "cell_type": "code",
   "execution_count": 62,
   "id": "f4df8789",
   "metadata": {
    "ExecuteTime": {
     "end_time": "2022-12-15T09:17:07.999063Z",
     "start_time": "2022-12-15T09:17:07.883058Z"
    }
   },
   "outputs": [
    {
     "data": {
      "text/plain": [
       "(Array(0., dtype=float32),\n",
       " Array(8.731306e-05, dtype=float32),\n",
       " Array(127.89471, dtype=float32))"
      ]
     },
     "execution_count": 62,
     "metadata": {},
     "output_type": "execute_result"
    }
   ],
   "source": [
    "@jax.jit\n",
    "def loss(x0):\n",
    "    x2 = simulate(ts, x0, k)\n",
    "    sse = jnp.sum(jnp.square(x1 - x2))\n",
    "    return sse\n",
    "\n",
    "x0h = jnp.zeros_like(x0)\n",
    "loss(x0), loss(x0+1e-4), loss(x0h)"
   ]
  },
  {
   "cell_type": "markdown",
   "id": "d6c967fe",
   "metadata": {},
   "source": [
    "and some gradients,"
   ]
  },
  {
   "cell_type": "code",
   "execution_count": 63,
   "id": "debc2818",
   "metadata": {
    "ExecuteTime": {
     "end_time": "2022-12-15T09:17:25.212647Z",
     "start_time": "2022-12-15T09:17:09.427288Z"
    }
   },
   "outputs": [
    {
     "name": "stdout",
     "output_type": "stream",
     "text": [
      "670 µs ± 7.27 µs per loop (mean ± std. dev. of 7 runs, 1,000 loops each)\n",
      "1.25 ms ± 3.18 µs per loop (mean ± std. dev. of 7 runs, 1,000 loops each)\n"
     ]
    }
   ],
   "source": [
    "g = jax.jit(jax.grad(loss))\n",
    "g(x0h)\n",
    "%timeit simulate(ts, x0, k)\n",
    "%timeit g(x0h)"
   ]
  },
  {
   "cell_type": "markdown",
   "id": "eb8bc123",
   "metadata": {},
   "source": [
    "Note how gradient eval is a little bit more than 2x forward simulation. \n",
    "\n",
    "And optimize,"
   ]
  },
  {
   "cell_type": "code",
   "execution_count": 66,
   "id": "ed1d5288",
   "metadata": {
    "ExecuteTime": {
     "end_time": "2022-12-15T09:17:39.652373Z",
     "start_time": "2022-12-15T09:17:39.602619Z"
    }
   },
   "outputs": [
    {
     "name": "stdout",
     "output_type": "stream",
     "text": [
      "0 87.30969\n",
      "1 73.05178\n",
      "2 61.12939\n",
      "3 51.147156\n",
      "4 42.79853\n"
     ]
    }
   ],
   "source": [
    "x0h = x0.copy() + 1e-1\n",
    "for i in range(5):\n",
    "    print(i, loss(x0h))\n",
    "    x0h -= 0.01 * g(x0h)"
   ]
  }
 ],
 "metadata": {
  "kernelspec": {
   "display_name": "Python 3 (ipykernel)",
   "language": "python",
   "name": "python3"
  },
  "language_info": {
   "codemirror_mode": {
    "name": "ipython",
    "version": 3
   },
   "file_extension": ".py",
   "mimetype": "text/x-python",
   "name": "python",
   "nbconvert_exporter": "python",
   "pygments_lexer": "ipython3",
   "version": "3.10.6"
  },
  "varInspector": {
   "cols": {
    "lenName": 16,
    "lenType": 16,
    "lenVar": 40
   },
   "kernels_config": {
    "python": {
     "delete_cmd_postfix": "",
     "delete_cmd_prefix": "del ",
     "library": "var_list.py",
     "varRefreshCmd": "print(var_dic_list())"
    },
    "r": {
     "delete_cmd_postfix": ") ",
     "delete_cmd_prefix": "rm(",
     "library": "var_list.r",
     "varRefreshCmd": "cat(var_dic_list()) "
    }
   },
   "types_to_exclude": [
    "module",
    "function",
    "builtin_function_or_method",
    "instance",
    "_Feature"
   ],
   "window_display": false
  }
 },
 "nbformat": 4,
 "nbformat_minor": 5
}
