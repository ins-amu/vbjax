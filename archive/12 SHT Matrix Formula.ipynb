{
 "cells": [
  {
   "cell_type": "code",
   "execution_count": 4,
   "id": "641b521a",
   "metadata": {
    "ExecuteTime": {
     "end_time": "2022-12-14T19:15:33.827847Z",
     "start_time": "2022-12-14T19:15:33.218229Z"
    }
   },
   "outputs": [
    {
     "name": "stdout",
     "output_type": "stream",
     "text": [
      "%pylab is deprecated, use %matplotlib inline and import the required libraries.\n",
      "Populating the interactive namespace from numpy and matplotlib\n"
     ]
    }
   ],
   "source": [
    "%load_ext autoreload\n",
    "%load_ext memory_profiler\n",
    "%autoreload 2\n",
    "%pylab inline\n",
    "import numpy as np\n",
    "import tqdm\n",
    "import shtns\n",
    "import jax\n",
    "import jax.numpy as jnp\n",
    "import nfjax.shtlc as lc"
   ]
  },
  {
   "cell_type": "markdown",
   "id": "33999635",
   "metadata": {},
   "source": [
    "# SHT in Jax\n",
    "\n",
    "The shtns library is very fast for single transforms but sometimes we want a high level implementation for e.g. autograd.  Here, we develop and test a drop-in replacement for the `shtns.sht` object.\n",
    "\n",
    "Let's set up an SHT object for testing,"
   ]
  },
  {
   "cell_type": "code",
   "execution_count": 5,
   "id": "c2a658cc",
   "metadata": {
    "ExecuteTime": {
     "end_time": "2022-12-14T19:15:33.902210Z",
     "start_time": "2022-12-14T19:15:33.882571Z"
    }
   },
   "outputs": [
    {
     "data": {
      "text/plain": [
       "[32, 64]"
      ]
     },
     "execution_count": 5,
     "metadata": {},
     "output_type": "execute_result"
    }
   ],
   "source": [
    "lmax, nlat, nlon = 31, 32, 64\n",
    "\n",
    "sht = shtns.sht(lmax)\n",
    "sht.set_grid(nlat=nlat, nphi=nlon)"
   ]
  },
  {
   "cell_type": "markdown",
   "id": "10bfab7d",
   "metadata": {},
   "source": [
    "What methods do we use?"
   ]
  },
  {
   "cell_type": "code",
   "execution_count": 6,
   "id": "ce55e211",
   "metadata": {
    "ExecuteTime": {
     "end_time": "2022-12-14T19:15:34.850091Z",
     "start_time": "2022-12-14T19:15:34.692734Z"
    }
   },
   "outputs": [
    {
     "name": "stdout",
     "output_type": "stream",
     "text": [
      "    sht.set_grid(nlat=nlat, nphi=nlon)\r\n",
      "    \"For shtns sht return random spatial array captured by sht.\"\r\n",
      "    return sht.synth(sht.analys(np.random.randn(*sht.spat_array().shape)))\r\n",
      "    K = sht.analys(k)\r\n",
      "    im0 = np.array([sht.idx(int(_l), 0) for _l in sht.l])\r\n",
      "    return 2*np.pi*np.sqrt(4*np.pi/(2*sht.l+1)) * K[im0]\r\n",
      "    \"Estimate effective kernel for kernel k with state x0 for shtns object sht.\"\r\n",
      "    f = lambda x: sht.synth(k * sht.analys(x))\r\n",
      "    gw = sht.gauss_wts()\r\n"
     ]
    }
   ],
   "source": [
    "!grep 'sht\\.' nfjax/shtlc.py"
   ]
  },
  {
   "cell_type": "markdown",
   "id": "afd35f96",
   "metadata": {},
   "source": [
    "most things are about the grid,\n",
    "\n",
    "- `sht.__init__(lmax: int)` inits with trunction `lmax` set\n",
    "- `sht.set_grid(nlat: int=nlat, nphi: int=nlon) -> tuple[int]` sets the grid\n",
    "- `sht.l: ndarray[1, int32]` is sequence of `l` for elements of spectra\n",
    "- `sht.m: ndarray[1, int32]` is sequence of `m` for elements of spectra\n",
    "- `sht.guass_wts() -> ndarray[1, float64]` are weights for the latitudes on grid\n",
    "- `sht.spat_array() -> np.ndarray` returns a correctly shaped array for the spatial grid\n",
    "\n",
    "then just the forward & inverse transforms,\n",
    "\n",
    "- `sht.analys(ndarray[2,float64]) -> ndarray[1,complex128]` transforms spatial to spectral data\n",
    "- `sht.synth(ndarray[1,complex128]) -> ndarray[2,float64]` transforms spectral to spatial data"
   ]
  },
  {
   "cell_type": "markdown",
   "id": "9ffd83a2",
   "metadata": {},
   "source": [
    "Let's start with the grid parts:"
   ]
  },
  {
   "cell_type": "code",
   "execution_count": 7,
   "id": "aa83145b",
   "metadata": {
    "ExecuteTime": {
     "end_time": "2022-12-14T19:15:36.389969Z",
     "start_time": "2022-12-14T19:15:36.358234Z"
    }
   },
   "outputs": [],
   "source": [
    "lm = lc.make_lm(lmax)\n",
    "phi, _, gw = lc.make_grid(nlat, nlon)\n",
    "\n",
    "# l & m determine which spherical harmonics are used\n",
    "np.testing.assert_equal(lm[0], sht.l)\n",
    "np.testing.assert_equal(lm[1], sht.m)\n",
    "\n",
    "# phi are latitudes\n",
    "np.testing.assert_equal(phi, np.arccos(sht.cos_theta))\n",
    "\n",
    "# Gaussian weights for latitudes, symmetric so shtns stores only half\n",
    "np.testing.assert_allclose(gw, \n",
    "                        np.r_[sht.gauss_wts(), sht.gauss_wts()[::-1]])"
   ]
  },
  {
   "cell_type": "markdown",
   "id": "41f5fb6a",
   "metadata": {},
   "source": [
    "The spatial array is just zeros"
   ]
  },
  {
   "cell_type": "code",
   "execution_count": 8,
   "id": "5b46f835",
   "metadata": {
    "ExecuteTime": {
     "end_time": "2022-12-14T19:15:37.529630Z",
     "start_time": "2022-12-14T19:15:37.501330Z"
    }
   },
   "outputs": [],
   "source": [
    "np.testing.assert_equal(sht.spat_array(), np.zeros((nlat, nlon)))"
   ]
  },
  {
   "cell_type": "markdown",
   "id": "8a78e720",
   "metadata": {},
   "source": [
    "That leaves the interesting part, the forward & inverse transforms.  Shtns uses recent recurrence formula to compute the $Y_{l,m}$ coefficients in the loop over latitudes, but for smaller problem sizes it's simpler to use precomputed matrices:"
   ]
  },
  {
   "cell_type": "code",
   "execution_count": 32,
   "id": "2e31e75f",
   "metadata": {
    "ExecuteTime": {
     "end_time": "2022-12-14T19:35:46.159364Z",
     "start_time": "2022-12-14T19:35:45.902622Z"
    }
   },
   "outputs": [],
   "source": [
    "from scipy.special import sph_harm\n",
    "\n",
    "# forward & inverse Legendre transform matrices\n",
    "LT = []\n",
    "iLT = []\n",
    "L = []\n",
    "D = 0.00047108\n",
    "\n",
    "# each longitudinal frequency mode `m` needs its own forward & inverse matrices\n",
    "for m in range(lmax):\n",
    "    l = lm[0, lm[0]>=m]\n",
    "    LT.append( gw[None, :] * sph_harm(m, l[:, None], 0, phi[None, :]).conjugate() )\n",
    "    iLT.append(              sph_harm(m, l[None, :], 0, phi[:, None])             )\n",
    "    dll = D * l * (l + 1)\n",
    "    L.append(iLT[-1].dot(dll[:, None] * LT[-1]))\n",
    "    \n",
    "L = np.array(L)\n",
    "np.testing.assert_allclose(0,L.imag)\n",
    "L = L.real\n",
    "# LT, iLT = np.array(LT), np.array(iLT) doesn't work because they have varying shapes"
   ]
  },
  {
   "cell_type": "markdown",
   "id": "6d05309d",
   "metadata": {},
   "source": [
    "We can see what the action of that is here:"
   ]
  },
  {
   "cell_type": "code",
   "execution_count": 47,
   "id": "c4c9a14b",
   "metadata": {
    "ExecuteTime": {
     "end_time": "2022-12-14T19:40:19.836923Z",
     "start_time": "2022-12-14T19:40:19.719578Z"
    }
   },
   "outputs": [
    {
     "data": {
      "text/plain": [
       "<matplotlib.image.AxesImage at 0x12b337fd0>"
      ]
     },
     "execution_count": 47,
     "metadata": {},
     "output_type": "execute_result"
    },
    {
     "data": {
      "image/png": "[encoded data removed]",
      "text/plain": [
       "<Figure size 640x480 with 2 Axes>"
      ]
     },
     "metadata": {},
     "output_type": "display_data"
    }
   ],
   "source": [
    "def apply(L, x):\n",
    "    X = np.fft.rfft(x, axis=1)\n",
    "    X[:,:lmax] = np.einsum('abc,ca->ba',L,X[:,:lmax])\n",
    "    X[:,lmax:] = 0.0\n",
    "    y = np.fft.irfft(X, axis=1).real\n",
    "    return y\n",
    "\n",
    "x0 = np.zeros((nlat, nlon))\n",
    "x0[23,45] = 1.0\n",
    "x1 = apply(L, x0)\n",
    "subplot(121); imshow(x0)\n",
    "subplot(122); imshow(x1)"
   ]
  },
  {
   "cell_type": "markdown",
   "id": "d1751663",
   "metadata": {},
   "source": [
    "Looks good, let's see the timing:"
   ]
  },
  {
   "cell_type": "code",
   "execution_count": 48,
   "id": "b6f79057",
   "metadata": {
    "ExecuteTime": {
     "end_time": "2022-12-14T19:40:49.499784Z",
     "start_time": "2022-12-14T19:40:44.375326Z"
    }
   },
   "outputs": [
    {
     "name": "stdout",
     "output_type": "stream",
     "text": [
      "62.1 µs ± 1.09 µs per loop (mean ± std. dev. of 7 runs, 10,000 loops each)\n"
     ]
    }
   ],
   "source": [
    "%timeit apply(L, x0)"
   ]
  },
  {
   "cell_type": "markdown",
   "id": "f89cd8bc",
   "metadata": {},
   "source": [
    "If we wanted to keep the kernel flexible, then the operations are a bit different"
   ]
  },
  {
   "cell_type": "code",
   "execution_count": 126,
   "id": "159a2cd7",
   "metadata": {
    "ExecuteTime": {
     "end_time": "2022-12-14T20:31:29.977248Z",
     "start_time": "2022-12-14T20:31:27.071027Z"
    }
   },
   "outputs": [
    {
     "name": "stdout",
     "output_type": "stream",
     "text": [
      "3.17 ms ± 265 µs per loop (mean ± std. dev. of 7 runs, 100 loops each)\n"
     ]
    },
    {
     "data": {
      "text/plain": [
       "<matplotlib.image.AxesImage at 0x13fae9f60>"
      ]
     },
     "execution_count": 126,
     "metadata": {},
     "output_type": "execute_result"
    },
    {
     "data": {
      "image/png": "[encoded data removed]",
      "text/plain": [
       "<Figure size 640x480 with 2 Axes>"
      ]
     },
     "metadata": {},
     "output_type": "display_data"
    }
   ],
   "source": [
    "import numba\n",
    "from numba.typed import List\n",
    "\n",
    "@numba.njit\n",
    "def apply_LT(lmax, LT, iLT, dll, X):\n",
    "    for j in range(lmax):\n",
    "        Lj = iLT[j].dot(dll[:LT[j].shape[0]] * LT[j]) #.real\n",
    "        X[j] = Lj @ X[j]\n",
    "\n",
    "def apply_kernel(lmax, LT, iLT, dll, x):\n",
    "    X = np.fft.rfft(x, axis=1).T.copy()\n",
    "    apply_LT(lmax, LT, iLT, dll, X)\n",
    "    X[lmax:] = 0.0\n",
    "    y = np.fft.irfft(X.T, axis=1).real\n",
    "    return y\n",
    "\n",
    "# try numba typed lists\n",
    "LT_tl, iLT_tl = List(LT), List(iLT)\n",
    "dll = (D*sht.l*(sht.l + 1))[:,None]\n",
    "%timeit apply_kernel(lmax, LT_tl, iLT_tl, dll, x0)\n",
    "\n",
    "x0 = np.zeros((nlat, nlon))\n",
    "x0[23,45] = 1.0\n",
    "x1 = apply_kernel(lmax, LT_tl, iLT_tl, dll, x0)\n",
    "subplot(121); imshow(x0)\n",
    "subplot(122); imshow(x1)"
   ]
  },
  {
   "cell_type": "markdown",
   "id": "accffd88",
   "metadata": {},
   "source": [
    "Unfortunately that's about 60x slower, with loop in there.  Is this something we can address with Jax JIT? Let's isolate that loop,"
   ]
  },
  {
   "cell_type": "code",
   "execution_count": 136,
   "id": "ad96c545",
   "metadata": {
    "ExecuteTime": {
     "end_time": "2022-12-14T20:36:14.599452Z",
     "start_time": "2022-12-14T20:36:12.487747Z"
    }
   },
   "outputs": [
    {
     "name": "stdout",
     "output_type": "stream",
     "text": [
      "2.55 ms ± 230 µs per loop (mean ± std. dev. of 7 runs, 100 loops each)\n"
     ]
    }
   ],
   "source": [
    "def apply_LT(lmax, LT, iLT, dll, X):\n",
    "    for j in range(lmax):\n",
    "        Lj = iLT[j].dot(dll[:LT[j].shape[0]] * LT[j]).real\n",
    "        X[j] = Lj @ X[j]\n",
    "\n",
    "x = np.zeros((nlat, nlon), 'f')\n",
    "X = np.fft.rfft(x, axis=1).T.copy()\n",
    "fLT = [_.astype(np.complex64) for _ in LT]\n",
    "fiLT = [_.astype(np.complex64) for _ in iLT]\n",
    "fdll = dll.astype('f')\n",
    "%timeit apply_LT(lmax, fLT, fiLT, fdll, X)"
   ]
  },
  {
   "cell_type": "code",
   "execution_count": 130,
   "id": "9c1d7020",
   "metadata": {
    "ExecuteTime": {
     "end_time": "2022-12-14T20:34:31.841614Z",
     "start_time": "2022-12-14T20:34:31.816224Z"
    }
   },
   "outputs": [],
   "source": [
    "import jax\n",
    "import jax.numpy as jnp"
   ]
  },
  {
   "cell_type": "code",
   "execution_count": 142,
   "id": "19640228",
   "metadata": {
    "ExecuteTime": {
     "end_time": "2022-12-14T20:39:06.178993Z",
     "start_time": "2022-12-14T20:39:04.489653Z"
    }
   },
   "outputs": [
    {
     "name": "stdout",
     "output_type": "stream",
     "text": [
      "20.1 ms ± 66.9 µs per loop (mean ± std. dev. of 7 runs, 10 loops each)\n"
     ]
    }
   ],
   "source": [
    "def j_apply_LT(lmax, LT, iLT, dll, X):\n",
    "    for j in range(lmax):\n",
    "        Lj = iLT[j].dot(dll[:LT[j].shape[0]] * LT[j]).real\n",
    "        X.at[j].set(Lj @ X[j])\n",
    "\n",
    "x = jnp.zeros((nlat, nlon))\n",
    "X = jnp.fft.rfft(x, axis=1).T.copy()\n",
    "jLT = [jnp.array(_) for _ in fLT]\n",
    "jiLT = [jnp.array(_) for _ in fiLT]\n",
    "jdll = jnp.array(fdll)\n",
    "%timeit j_apply_LT(lmax, jLT, jiLT, jdll, X)"
   ]
  },
  {
   "cell_type": "markdown",
   "id": "81c3cf7d",
   "metadata": {},
   "source": [
    "Not so amazing but perhaps we need a functional approach"
   ]
  },
  {
   "cell_type": "markdown",
   "id": "add5b427",
   "metadata": {},
   "source": [
    "ok I don't grok vmap on pytrees."
   ]
  },
  {
   "cell_type": "code",
   "execution_count": 157,
   "id": "7ccdc9de",
   "metadata": {
    "ExecuteTime": {
     "end_time": "2022-12-14T20:52:42.552158Z",
     "start_time": "2022-12-14T20:52:42.475262Z"
    }
   },
   "outputs": [
    {
     "data": {
      "text/plain": [
       "[Array(5, dtype=int32), Array(14, dtype=int32), Array(30, dtype=int32)]"
      ]
     },
     "execution_count": 157,
     "metadata": {},
     "output_type": "execute_result"
    }
   ],
   "source": [
    "xs = [jnp.r_[:n] for n in range(3,6)]\n",
    "ys = [jnp.r_[:n] for n in range(3,6)]\n",
    "\n",
    "f = lambda x, y: jnp.dot(x,y)\n",
    "\n",
    "list(map(f, xs, ys))"
   ]
  },
  {
   "cell_type": "code",
   "execution_count": 184,
   "id": "682f8cab",
   "metadata": {
    "ExecuteTime": {
     "end_time": "2022-12-14T21:05:02.617377Z",
     "start_time": "2022-12-14T21:04:43.484982Z"
    }
   },
   "outputs": [
    {
     "name": "stdout",
     "output_type": "stream",
     "text": [
      "4.23 ms ± 16.6 µs per loop (mean ± std. dev. of 7 runs, 100 loops each)\n",
      "1.92 ms ± 7.82 µs per loop (mean ± std. dev. of 7 runs, 1,000 loops each)\n"
     ]
    }
   ],
   "source": [
    "f = lambda jLT, jiLT: jnp.array(jax.tree_map(jnp.dot, jiLT, jLT))\n",
    "f(jLT,jiLT)\n",
    "%timeit f(jLT,jiLT)\n",
    "jitf = jax.jit(f)\n",
    "jitf(jLT,jiLT)\n",
    "%timeit jitf(jLT,jiLT)"
   ]
  },
  {
   "cell_type": "markdown",
   "id": "5691f805",
   "metadata": {},
   "source": [
    "This step doesn't have to be super fast, precomputed L once per simulation is fine since the kernel won't evolve in time."
   ]
  },
  {
   "cell_type": "code",
   "execution_count": 191,
   "id": "3de085c6",
   "metadata": {
    "ExecuteTime": {
     "end_time": "2022-12-14T21:13:15.285671Z",
     "start_time": "2022-12-14T21:13:15.258633Z"
    }
   },
   "outputs": [
    {
     "data": {
      "text/plain": [
       "((32, 528), (528, 1), (528, 32))"
      ]
     },
     "execution_count": 191,
     "metadata": {},
     "output_type": "execute_result"
    }
   ],
   "source": [
    "jiLT[0].shape, jdll.shape, jLT[0].shape"
   ]
  },
  {
   "cell_type": "code",
   "execution_count": 204,
   "id": "d4d15e03",
   "metadata": {
    "ExecuteTime": {
     "end_time": "2022-12-14T21:18:09.125819Z",
     "start_time": "2022-12-14T21:18:09.096482Z"
    }
   },
   "outputs": [],
   "source": [
    "jax.tree_map?"
   ]
  },
  {
   "cell_type": "code",
   "execution_count": 252,
   "id": "636c024a",
   "metadata": {
    "ExecuteTime": {
     "end_time": "2022-12-14T21:42:29.247064Z",
     "start_time": "2022-12-14T21:42:28.820215Z"
    }
   },
   "outputs": [],
   "source": [
    "def compute_L(jLT, jiLT, jdll):\n",
    "    return jnp.array(jax.tree_map(\n",
    "        lambda lj, ilj: jnp.dot(ilj, jdll[:lj.shape[0]]*lj).real,\n",
    "        jLT, jiLT,\n",
    "    ))\n",
    "\n",
    "def close_L_for_D(jLT, jiLT, l):\n",
    "    @jax.jit\n",
    "    def L_for_D(D):\n",
    "        jdll = D * l * (l + 1)\n",
    "        return compute_L(jLT, jiLT, jdll)\n",
    "    return L_for_D\n",
    "\n",
    "@jax.jit\n",
    "def apply_L(L, x):\n",
    "    X = jnp.fft.rfft(x, axis=1)\n",
    "    # X[:,:lmax] = jnp.einsum('abc,ca->ba',L,X[:,:lmax])\n",
    "    # X[:,lmax:] = 0.0\n",
    "    X = jnp.hstack(\n",
    "        (jnp.einsum('abc,ca->ba', L, X[:,:lmax]),\n",
    "         jnp.zeros((X.shape[0], X.shape[1] - lmax), jnp.complex64)\n",
    "        )\n",
    "    )\n",
    "    y = jnp.fft.irfft(X, axis=1).real\n",
    "    return y\n",
    "\n",
    "jl = jnp.array(sht.l)[:,None]\n",
    "l4d = close_L_for_D(jLT, jiLT, jl)\n",
    "L = l4d(D)\n",
    "apply_L_np, L_np = lc.make_shtdiff(lmax, nlat, nlon, D, return_L=True)\n",
    "np.testing.assert_equal(0, L_np.imag)\n",
    "np.testing.assert_equal(0, np.array(L.imag))"
   ]
  },
  {
   "cell_type": "code",
   "execution_count": 253,
   "id": "54f02de9",
   "metadata": {
    "ExecuteTime": {
     "end_time": "2022-12-14T21:42:34.904175Z",
     "start_time": "2022-12-14T21:42:34.775057Z"
    }
   },
   "outputs": [
    {
     "data": {
      "text/plain": [
       "<matplotlib.image.AxesImage at 0x294343eb0>"
      ]
     },
     "execution_count": 253,
     "metadata": {},
     "output_type": "execute_result"
    },
    {
     "data": {
      "image/png": "[encoded data removed]",
      "text/plain": [
       "<Figure size 640x480 with 2 Axes>"
      ]
     },
     "metadata": {},
     "output_type": "display_data"
    }
   ],
   "source": [
    "j = 25\n",
    "subplot(121); imshow(L_np[j].real)\n",
    "subplot(122); imshow(L[j].real)"
   ]
  },
  {
   "cell_type": "code",
   "execution_count": 272,
   "id": "994802c0",
   "metadata": {
    "ExecuteTime": {
     "end_time": "2022-12-14T21:52:33.630991Z",
     "start_time": "2022-12-14T21:52:26.852890Z"
    }
   },
   "outputs": [
    {
     "name": "stdout",
     "output_type": "stream",
     "text": [
      "37.1 µs ± 61.1 ns per loop (mean ± std. dev. of 7 runs, 10,000 loops each)\n",
      "44.8 µs ± 37.7 ns per loop (mean ± std. dev. of 7 runs, 10,000 loops each)\n"
     ]
    },
    {
     "data": {
      "text/plain": [
       "<matplotlib.image.AxesImage at 0x2953af610>"
      ]
     },
     "execution_count": 272,
     "metadata": {},
     "output_type": "execute_result"
    },
    {
     "data": {
      "image/png": "[encoded data removed]",
      "text/plain": [
       "<Figure size 640x480 with 2 Axes>"
      ]
     },
     "metadata": {},
     "output_type": "display_data"
    }
   ],
   "source": [
    "x0 = jnp.zeros((nlat, nlon))\n",
    "x0 = x0.at[23,45].set(1.0)\n",
    "x1 = apply_L(L, x0)\n",
    "%timeit x1 = apply_L(L_np, x0).block_until_ready()\n",
    "# x1 = apply_L_np(x0)\n",
    "%timeit apply_L_np(x0)\n",
    "subplot(121); imshow(x0)\n",
    "subplot(122); imshow(x1)"
   ]
  },
  {
   "cell_type": "markdown",
   "id": "fab0cbaa",
   "metadata": {},
   "source": [
    "There isn't too much issue with the pure numpy here, which is good to have in mind, in case we bail on Jax in the end:\n",
    "\n",
    "- 250 ms to compute LT & iLT transform matrices\n",
    "- 2 ms to compute L fused coupling matrices\n",
    "- 30-50 us to apply fused coupling matrices"
   ]
  },
  {
   "cell_type": "code",
   "execution_count": 274,
   "id": "6501b67a",
   "metadata": {
    "ExecuteTime": {
     "end_time": "2022-12-14T21:53:10.752060Z",
     "start_time": "2022-12-14T21:52:59.831667Z"
    }
   },
   "outputs": [
    {
     "name": "stdout",
     "output_type": "stream",
     "text": [
      "45 µs ± 57.3 ns per loop (mean ± std. dev. of 7 runs, 10,000 loops each)\n",
      "382 µs ± 222 ns per loop (mean ± std. dev. of 7 runs, 1,000 loops each)\n",
      "4.97 ms ± 70.6 µs per loop (mean ± std. dev. of 7 runs, 100 loops each)\n"
     ]
    }
   ],
   "source": [
    "apply_many = jax.jit(jax.vmap(lambda x: apply_L(L, x)))\n",
    "\n",
    "for n in (2, 32, 512):\n",
    "    xs = jnp.zeros((n, nlat, nlon))\n",
    "    apply_many(xs).shape\n",
    "    %timeit apply_many(xs).block_until_ready()"
   ]
  },
  {
   "cell_type": "code",
   "execution_count": null,
   "id": "09a64c92",
   "metadata": {},
   "outputs": [],
   "source": []
  }
 ],
 "metadata": {
  "kernelspec": {
   "display_name": "Python 3 (ipykernel)",
   "language": "python",
   "name": "python3"
  },
  "language_info": {
   "codemirror_mode": {
    "name": "ipython",
    "version": 3
   },
   "file_extension": ".py",
   "mimetype": "text/x-python",
   "name": "python",
   "nbconvert_exporter": "python",
   "pygments_lexer": "ipython3",
   "version": "3.10.8"
  },
  "varInspector": {
   "cols": {
    "lenName": 16,
    "lenType": 16,
    "lenVar": 40
   },
   "kernels_config": {
    "python": {
     "delete_cmd_postfix": "",
     "delete_cmd_prefix": "del ",
     "library": "var_list.py",
     "varRefreshCmd": "print(var_dic_list())"
    },
    "r": {
     "delete_cmd_postfix": ") ",
     "delete_cmd_prefix": "rm(",
     "library": "var_list.r",
     "varRefreshCmd": "cat(var_dic_list()) "
    }
   },
   "types_to_exclude": [
    "module",
    "function",
    "builtin_function_or_method",
    "instance",
    "_Feature"
   ],
   "window_display": false
  }
 },
 "nbformat": 4,
 "nbformat_minor": 5
}
