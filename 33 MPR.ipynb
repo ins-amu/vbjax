{
 "cells": [
  {
   "cell_type": "code",
   "execution_count": 1,
   "id": "1a4ea29c",
   "metadata": {
    "ExecuteTime": {
     "end_time": "2023-01-09T08:28:35.168013Z",
     "start_time": "2023-01-09T08:28:32.241235Z"
    }
   },
   "outputs": [
    {
     "name": "stdout",
     "output_type": "stream",
     "text": [
      "%pylab is deprecated, use %matplotlib inline and import the required libraries.\n",
      "Populating the interactive namespace from numpy and matplotlib\n"
     ]
    }
   ],
   "source": [
    "%pylab inline\n",
    "import jax\n",
    "import jax.numpy as np\n",
    "%load_ext autoreload\n",
    "%autoreload 2\n",
    "\n",
    "import vbjax"
   ]
  },
  {
   "cell_type": "markdown",
   "id": "6197befd",
   "metadata": {},
   "source": [
    "## Montbrio-Pazo-Roxin\n",
    "\n",
    "Let's take the MPR model as an example, with an end goal of fitting some EEG style spectra."
   ]
  },
  {
   "cell_type": "code",
   "execution_count": 2,
   "id": "94f2c66e",
   "metadata": {
    "ExecuteTime": {
     "end_time": "2023-01-09T08:29:07.274623Z",
     "start_time": "2023-01-09T08:29:07.248477Z"
    }
   },
   "outputs": [
    {
     "data": {
      "text/plain": [
       "(2, 32)"
      ]
     },
     "execution_count": 2,
     "metadata": {},
     "output_type": "execute_result"
    }
   ],
   "source": [
    "x0 = np.zeros((2, 32))\n",
    "vbjax.mpr_dfun(x0, c=[1., 0.], p=vbjax.mpr_default_theta).shape"
   ]
  },
  {
   "cell_type": "markdown",
   "id": "f142064f",
   "metadata": {},
   "source": [
    "so our dfun will automatically make use of vectors for state space, let's build a network model, just by composing a coupling function with the Jansen-Rit dfun"
   ]
  },
  {
   "cell_type": "code",
   "execution_count": 3,
   "id": "20969aa0",
   "metadata": {
    "ExecuteTime": {
     "end_time": "2023-01-09T08:29:08.288315Z",
     "start_time": "2023-01-09T08:29:07.893151Z"
    }
   },
   "outputs": [
    {
     "data": {
      "text/plain": [
       "(2, 32)"
      ]
     },
     "execution_count": 3,
     "metadata": {},
     "output_type": "execute_result"
    }
   ],
   "source": [
    "nn = 32\n",
    "ns = np.tile(np.arange(nn),(nn,1))\n",
    "key = jax.random.PRNGKey(42)\n",
    "weights = jax.random.normal (key, (nn, nn))\n",
    "lengths = jax.random.randint(key, (nn, nn), 0, 255)\n",
    "buffer = jax.random.normal(key, (nn, lengths.max()+1))\n",
    "\n",
    "def net_dfun(x, p):\n",
    "    w, l, buf, mass_θ = p\n",
    "    lfp = x[1] - x[2]\n",
    "    # c = 1e-2 * np.sum(w*buffer[ns,l], axis=1)\n",
    "    c = 1e-2 * np.dot(w, lfp)\n",
    "    return vbjax.mpr_dfun(x, c, mass_θ)\n",
    "\n",
    "x0 = np.zeros((2, nn))\n",
    "net_θ = weights, lengths, buffer, vbjax.mpr_default_theta\n",
    "net_dfun(x0, net_θ).shape"
   ]
  },
  {
   "cell_type": "markdown",
   "id": "7add5e9d",
   "metadata": {},
   "source": [
    "now do a simulation,"
   ]
  },
  {
   "cell_type": "code",
   "execution_count": 4,
   "id": "608d22d2",
   "metadata": {
    "ExecuteTime": {
     "end_time": "2023-01-09T08:29:10.988880Z",
     "start_time": "2023-01-09T08:29:10.713609Z"
    }
   },
   "outputs": [
    {
     "data": {
      "text/plain": [
       "(1024, 2, 32)"
      ]
     },
     "execution_count": 4,
     "metadata": {},
     "output_type": "execute_result"
    }
   ],
   "source": [
    "step, loop = vbjax.make_sde(1.0, net_dfun, 1e-1)\n",
    "key = jax.random.PRNGKey(0)\n",
    "nt = 1024\n",
    "x0 = np.zeros((2, nn))\n",
    "zt = jax.random.normal(key, (nt, ) + x0.shape) * 1e-2\n",
    "yt = loop(x0, zt, net_θ)\n",
    "yt.shape"
   ]
  },
  {
   "cell_type": "code",
   "execution_count": 5,
   "id": "66d07155",
   "metadata": {
    "ExecuteTime": {
     "end_time": "2023-01-09T08:29:18.965058Z",
     "start_time": "2023-01-09T08:29:13.311974Z"
    }
   },
   "outputs": [
    {
     "name": "stdout",
     "output_type": "stream",
     "text": [
      "47.1 µs ± 2.65 µs per loop (mean ± std. dev. of 7 runs, 10,000 loops each)\n"
     ]
    }
   ],
   "source": [
    "%timeit loop(x0, zt, net_θ)"
   ]
  },
  {
   "cell_type": "markdown",
   "id": "caacfad5",
   "metadata": {},
   "source": [
    "Now let's try a batch loop over initial conditions,"
   ]
  },
  {
   "cell_type": "code",
   "execution_count": 6,
   "id": "0d711a4d",
   "metadata": {
    "ExecuteTime": {
     "end_time": "2023-01-09T08:29:21.296734Z",
     "start_time": "2023-01-09T08:29:21.066250Z"
    }
   },
   "outputs": [
    {
     "data": {
      "text/plain": [
       "(8, 1024, 2, 32)"
      ]
     },
     "execution_count": 6,
     "metadata": {},
     "output_type": "execute_result"
    }
   ],
   "source": [
    "nb = 8\n",
    "x0b = np.zeros((nb, 2, nn))\n",
    "jax.vmap(lambda x0: loop(x0, zt, net_θ))(x0b).shape"
   ]
  },
  {
   "cell_type": "markdown",
   "id": "e25dbde0",
   "metadata": {},
   "source": [
    "but that's essentially a outer loop since Jax can't reorder the arrays; can we batch an inner dimension instead?"
   ]
  },
  {
   "cell_type": "code",
   "execution_count": 7,
   "id": "53ac3df4",
   "metadata": {
    "ExecuteTime": {
     "end_time": "2023-01-09T08:29:22.777074Z",
     "start_time": "2023-01-09T08:29:22.550395Z"
    }
   },
   "outputs": [
    {
     "data": {
      "text/plain": [
       "(1024, 2, 32, 8)"
      ]
     },
     "execution_count": 7,
     "metadata": {},
     "output_type": "execute_result"
    }
   ],
   "source": [
    "x0b = np.zeros((2, nn, nb))\n",
    "\n",
    "jax.vmap(lambda x0: loop(x0, zt, net_θ), 2, 3)(x0b).shape"
   ]
  },
  {
   "cell_type": "markdown",
   "id": "519e72c7",
   "metadata": {},
   "source": [
    "That's what we'd want for a GPU, at least: stride 1 batching. What does perf say?"
   ]
  },
  {
   "cell_type": "code",
   "execution_count": 8,
   "id": "1602ae8b",
   "metadata": {
    "ExecuteTime": {
     "end_time": "2023-01-09T08:29:33.448022Z",
     "start_time": "2023-01-09T08:29:25.757936Z"
    }
   },
   "outputs": [
    {
     "name": "stdout",
     "output_type": "stream",
     "text": [
      "1.92 ms ± 53.5 µs per loop (mean ± std. dev. of 7 runs, 1,000 loops each)\n",
      "1.85 ms ± 38.3 µs per loop (mean ± std. dev. of 7 runs, 1,000 loops each)\n"
     ]
    }
   ],
   "source": [
    "x0b = np.zeros((nb, 2, nn))\n",
    "lb = jax.vmap(lambda x0: loop(x0, zt, net_θ))\n",
    "lb(x0b)\n",
    "%timeit lb(x0b).block_until_ready()\n",
    "\n",
    "x0b = np.zeros((2, nn, nb))\n",
    "lb = jax.vmap(lambda x0: loop(x0, zt, net_θ), 2, 3)\n",
    "lb(x0b)\n",
    "%timeit lb(x0b).block_until_ready()"
   ]
  },
  {
   "cell_type": "markdown",
   "id": "af0305cb",
   "metadata": {},
   "source": [
    "what if we don't need to vmap?"
   ]
  },
  {
   "cell_type": "code",
   "execution_count": 9,
   "id": "327d2362",
   "metadata": {
    "ExecuteTime": {
     "end_time": "2023-01-09T08:29:39.575238Z",
     "start_time": "2023-01-09T08:29:36.295271Z"
    }
   },
   "outputs": [
    {
     "name": "stdout",
     "output_type": "stream",
     "text": [
      "698 µs ± 8.96 µs per loop (mean ± std. dev. of 7 runs, 1,000 loops each)\n"
     ]
    }
   ],
   "source": [
    "%timeit loop(x0b,zt.reshape(zt.shape+ (1,)),net_θ).shape"
   ]
  },
  {
   "cell_type": "markdown",
   "id": "3ceb7c36",
   "metadata": {},
   "source": [
    "Broadcasting ftw: that's the batching speed up we're looking for, and it's single core."
   ]
  },
  {
   "cell_type": "code",
   "execution_count": null,
   "id": "1437d36f-4454-409e-a508-95179f751bfc",
   "metadata": {},
   "outputs": [],
   "source": []
  }
 ],
 "metadata": {
  "kernelspec": {
   "display_name": "Python 3 (ipykernel)",
   "language": "python",
   "name": "python3"
  },
  "language_info": {
   "codemirror_mode": {
    "name": "ipython",
    "version": 3
   },
   "file_extension": ".py",
   "mimetype": "text/x-python",
   "name": "python",
   "nbconvert_exporter": "python",
   "pygments_lexer": "ipython3",
   "version": "3.10.6"
  },
  "varInspector": {
   "cols": {
    "lenName": 16,
    "lenType": 16,
    "lenVar": 40
   },
   "kernels_config": {
    "python": {
     "delete_cmd_postfix": "",
     "delete_cmd_prefix": "del ",
     "library": "var_list.py",
     "varRefreshCmd": "print(var_dic_list())"
    },
    "r": {
     "delete_cmd_postfix": ") ",
     "delete_cmd_prefix": "rm(",
     "library": "var_list.r",
     "varRefreshCmd": "cat(var_dic_list()) "
    }
   },
   "types_to_exclude": [
    "module",
    "function",
    "builtin_function_or_method",
    "instance",
    "_Feature"
   ],
   "window_display": false
  }
 },
 "nbformat": 4,
 "nbformat_minor": 5
}
