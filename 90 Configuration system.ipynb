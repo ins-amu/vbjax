{
 "cells": [
  {
   "cell_type": "markdown",
   "id": "7bf5c26d",
   "metadata": {},
   "source": [
    "## configuration instead of code\n",
    "\n",
    "This notebook will develop some ideas about a configuration system to describe models in a simple format that encourages exchange between users and long term usability.  Many concepts are derived from conventions in the Thinc library, and we want to take a compositional approach: if the built in simulator loop isn't approach, use config components just for the model building to save time.  Some use cases to keep in mind, but not all implement at once\n",
    "\n",
    "- field models (R^3 & S^2)\n",
    "- multiple possibly high res connectomes\n",
    "- flexible stimulation (not just TVB-style)\n",
    "- mixed subcortical cortical models e.g. JR here, MPR there, etc\n",
    "- library of reusable components\n",
    "- flexible full model spec + debugging tools\n",
    "- multiscale / cosim\n",
    "\n",
    "We start by assuming the target model usage can be described roughly as a tree, e.g. \n",
    "\n",
    "- exec\n",
    "  - number of cores\n",
    "  - data source\n",
    "  - sbatch array / daskiness\n",
    "  - etc\n",
    "- data\n",
    "  - connectivity\n",
    "  - surface\n",
    "  - subcortical volumes\n",
    "  - time series\n",
    "      - preprocessing e.g. FFT or FCD\n",
    "- model\n",
    "  - integration scheme\n",
    "  - global DE\n",
    "    - coupling/connectivity components\n",
    "    - aux equations\n",
    "    - DE RHSs in sympy-digestible form\n",
    "        - could be grouped e.g. JR w/ a spatial mask\n",
    "  - forward models (\"monitors\")\n",
    "    - e.g. BOLD has it's own equations & integrator\n",
    "  - postprocessing e.g. FFT or FCD, to match data preprocessing\n",
    "- stats/fit\n",
    "  - parameter & prior combinations\n",
    "  - inference method (map, vi, nuts) + config\n",
    "  - post processing / diagnostics\n",
    "\n",
    "In the following we'll try to prototype this with [confection](https://github.com/explosion/confection) for the neural field inference developed in [a sibling notebook](60%20First%20field%20in%20numpyro.ipynb), taking advantage of the function registry to check types and avoid as much ad-hoc code as possible.  As it develops, we push code into the Python library.  It may be useful to use Pydantic for sanity checking, cf [this write up](https://medium.com/swlh/cool-things-you-can-do-with-pydantic-fc1c948fbde0)."
   ]
  },
  {
   "cell_type": "markdown",
   "id": "c6bca47d",
   "metadata": {},
   "source": [
    "## getting started\n",
    "\n",
    "First off we define a registry,"
   ]
  },
  {
   "cell_type": "code",
   "execution_count": 1,
   "id": "00919a6d",
   "metadata": {
    "ExecuteTime": {
     "end_time": "2022-12-16T15:41:04.552542Z",
     "start_time": "2022-12-16T15:41:04.279746Z"
    }
   },
   "outputs": [
    {
     "name": "stdout",
     "output_type": "stream",
     "text": [
      "%pylab is deprecated, use %matplotlib inline and import the required libraries.\n",
      "Populating the interactive namespace from numpy and matplotlib\n"
     ]
    }
   ],
   "source": [
    "%pylab inline\n",
    "import numpy as np\n",
    "import numpy.typing as npt\n",
    "import functools\n",
    "import catalogue\n",
    "from confection import registry, Config\n",
    "\n",
    "registry.legos = catalogue.create(\"confection\", \"legos\", entry_points=False)"
   ]
  },
  {
   "cell_type": "markdown",
   "id": "14a41c7c",
   "metadata": {},
   "source": [
    "## convenience functions\n",
    "\n",
    "To debug registered function calls, we'll set up our own decorator for registration and a shortcut to eval a config,"
   ]
  },
  {
   "cell_type": "code",
   "execution_count": 13,
   "id": "8cd3e62a",
   "metadata": {
    "ExecuteTime": {
     "end_time": "2022-12-16T17:32:38.428487Z",
     "start_time": "2022-12-16T17:32:38.423399Z"
    }
   },
   "outputs": [],
   "source": [
    "def new_lego(name=None):\n",
    "    def wrapper(wrapped):\n",
    "        @registry.legos.register(name or wrapped.__name__)\n",
    "        @functools.wraps(wrapped)\n",
    "        def f(*args, **kwargs):\n",
    "            print(f'invoking {wrapped}')\n",
    "            return wrapped(*args, **kwargs)\n",
    "        return f\n",
    "    return wrapper\n",
    "\n",
    "def eval_config(s):\n",
    "    return registry.resolve(Config().from_str(s))"
   ]
  },
  {
   "cell_type": "markdown",
   "id": "35bf2954",
   "metadata": {},
   "source": [
    "## defining config APIs\n",
    "\n",
    "with that bit of bureaucracy we can do the following,"
   ]
  },
  {
   "cell_type": "code",
   "execution_count": 3,
   "id": "a174b4ec",
   "metadata": {
    "ExecuteTime": {
     "end_time": "2022-12-16T15:41:05.325255Z",
     "start_time": "2022-12-16T15:41:05.315993Z"
    }
   },
   "outputs": [],
   "source": [
    "@new_lego()\n",
    "def make_shtdiff(lmax: int, nlat: int, nlon: int, D: float=0.0004) -> np.ndarray[np.float32]:\n",
    "    \"\"\"Computes a precomputed spherical harmonic transform-based diffusion\n",
    "    coupling function.\n",
    "    \n",
    "    Parameters\n",
    "    ----------\n",
    "    lmax\n",
    "        Truncation order for the spherical harmonic series, `lmax` < `nlat`.\n",
    "    nlat\n",
    "        Number of latitudes for the regular spherical grid.\n",
    "    nlon\n",
    "        Number of longitudes for the regular spherical grid.\n",
    "    D\n",
    "        Scaling of the diffusion, default value of `4e-4` based on r=10 cm\n",
    "        inflated cortical surface.\n",
    "    \n",
    "    Returns\n",
    "    -------\n",
    "    L\n",
    "        A 3-D array where each `L[m]` matrix provides the Legendre transform\n",
    "        for the `m`th longitudinal frequency\n",
    "    \n",
    "    \"\"\"\n",
    "    import nfjax.shtlc as lc\n",
    "    if lmax >= nlat:\n",
    "        lmax = nlat - 1\n",
    "    _, L = lc.make_shtdiff(lmax=lmax, nlat=nlat, nlon=nlon, D=D, return_L=True)\n",
    "    np.testing.assert_equal(0, L.imag)\n",
    "    L = L.real.astype('f')\n",
    "    return L\n",
    "\n",
    "@new_lego()\n",
    "def randn_init(nlat: int, nlon: int) -> np.ndarray[np.float32]:\n",
    "    \"Generate random initial state.\"\n",
    "    return np.random.randn(nlat, nlon)\n",
    "\n",
    "@new_lego()\n",
    "def apply_shtdiff(L: np.ndarray[np.float32], x: np.ndarray[np.complex64]) -> np.ndarray[np.complex64]:\n",
    "    \"\"\"Computes the spherical harmonic transform using precomputed Legendre transforms.\n",
    "    \n",
    "    \n",
    "    \"\"\"\n",
    "    lmax = L.shape[0]\n",
    "    X = np.fft.rfft(x, axis=1)\n",
    "    X = np.hstack(\n",
    "        (np.einsum('abc,ca->ba', L, X[:,:lmax]),\n",
    "         np.zeros((X.shape[0], X.shape[1] - lmax), np.complex64)\n",
    "        )\n",
    "    )\n",
    "    y = np.real(np.fft.irfft(X, axis=1))\n",
    "    return y"
   ]
  },
  {
   "cell_type": "markdown",
   "id": "1ce0230a",
   "metadata": {},
   "source": [
    "These functions provide a Python API usable from regular code but since they are registered, they can be invoked via the configuration system,"
   ]
  },
  {
   "cell_type": "code",
   "execution_count": 14,
   "id": "6cadf972",
   "metadata": {
    "ExecuteTime": {
     "end_time": "2022-12-16T17:32:49.699976Z",
     "start_time": "2022-12-16T17:32:49.409614Z"
    }
   },
   "outputs": [
    {
     "name": "stdout",
     "output_type": "stream",
     "text": [
      "invoking <function make_shtdiff at 0x11b4ef7f0>\n",
      "invoking <function randn_init at 0x11b4ef640>\n",
      "invoking <function make_shtdiff at 0x11b4ef7f0>\n",
      "invoking <function randn_init at 0x11b4ef640>\n",
      "invoking <function apply_shtdiff at 0x11b4ef910>\n"
     ]
    },
    {
     "data": {
      "text/plain": [
       "<matplotlib.image.AxesImage at 0x1233130a0>"
      ]
     },
     "execution_count": 14,
     "metadata": {},
     "output_type": "execute_result"
    },
    {
     "data": {
      "image/png": "[encoded data removed]",
      "text/plain": [
       "<Figure size 640x480 with 2 Axes>"
      ]
     },
     "metadata": {},
     "output_type": "display_data"
    }
   ],
   "source": [
    "res = eval_config('''\n",
    "[lc]\n",
    "@legos = make_shtdiff\n",
    "lmax = 17\n",
    "nlat = 32\n",
    "nlon = 64\n",
    "\n",
    "[x0]\n",
    "@legos = randn_init\n",
    "nlat = ${lc.nlat}\n",
    "nlon = ${lc.nlon}\n",
    "\n",
    "[x1]\n",
    "@legos = apply_shtdiff\n",
    "L = ${lc}\n",
    "x = ${x0}\n",
    "''')\n",
    "\n",
    "subplot(121); imshow(res['x0'])\n",
    "subplot(122); imshow(res['x1'])"
   ]
  },
  {
   "cell_type": "markdown",
   "id": "1ed0ece9",
   "metadata": {},
   "source": [
    "From this we see a few things\n",
    "\n",
    "- no code to write to map parsed config to functions\n",
    "- data flow is defined using back references to other config sections\n",
    "- back refs allow not repeating details like `nlat`"
   ]
  },
  {
   "cell_type": "markdown",
   "id": "0be34765",
   "metadata": {},
   "source": [
    "## math expressions\n",
    "\n",
    "are important to get right not just stringly typed stuff, let's use SymPy as the validation barrier for that sort of thing, even if that's not the whole solution,"
   ]
  },
  {
   "cell_type": "code",
   "execution_count": 24,
   "id": "2dfbdba8",
   "metadata": {
    "ExecuteTime": {
     "end_time": "2022-12-16T17:51:05.507908Z",
     "start_time": "2022-12-16T17:51:05.248960Z"
    }
   },
   "outputs": [
    {
     "name": "stdout",
     "output_type": "stream",
     "text": [
      "invoking <function ode at 0x127368af0>\n"
     ]
    },
    {
     "data": {
      "text/plain": [
       "(x, -x**3/3 + x)"
      ]
     },
     "execution_count": 24,
     "metadata": {},
     "output_type": "execute_result"
    }
   ],
   "source": [
    "@new_lego()\n",
    "def ode(name: str, rhs: str):\n",
    "    import sympy\n",
    "    return sympy.sympify(name), sympy.sympify(rhs)\n",
    "\n",
    "ode('x', 'x - x**3/3')"
   ]
  },
  {
   "cell_type": "code",
   "execution_count": 26,
   "id": "88d4d49f",
   "metadata": {
    "ExecuteTime": {
     "end_time": "2022-12-16T17:52:03.983167Z",
     "start_time": "2022-12-16T17:52:03.958854Z"
    }
   },
   "outputs": [
    {
     "name": "stdout",
     "output_type": "stream",
     "text": [
      "invoking <function ode at 0x127368af0>\n"
     ]
    },
    {
     "data": {
      "text/latex": [
       "$\\displaystyle 1 - x^{2}$"
      ],
      "text/plain": [
       "1 - x**2"
      ]
     },
     "execution_count": 26,
     "metadata": {},
     "output_type": "execute_result"
    }
   ],
   "source": [
    "res = eval_config('''\n",
    "[bistable]\n",
    "@legos = ode\n",
    "name = x\n",
    "rhs = x - x**3/3\n",
    "''')\n",
    "\n",
    "res['bistable'][1].diff(res['bistable'][0])"
   ]
  },
  {
   "cell_type": "markdown",
   "id": "6ad59e0b",
   "metadata": {},
   "source": [
    "With this, some basic validation of ODEs w/ e.g. linear stability analysis is possible (was never done in TVB)"
   ]
  },
  {
   "cell_type": "markdown",
   "id": "7aa2ae50",
   "metadata": {},
   "source": [
    "## partial evaluation\n",
    "\n",
    "For this to scale up we'll need to be able to configure partially evaluated functions to pass into other functions as components to evaluate.  The `apply_shtdiff` above is an example: we want to curry that function with an `L` specified in the config,"
   ]
  },
  {
   "cell_type": "code",
   "execution_count": 23,
   "id": "5c11611f",
   "metadata": {
    "ExecuteTime": {
     "end_time": "2022-12-16T17:46:35.918451Z",
     "start_time": "2022-12-16T17:46:35.915208Z"
    }
   },
   "outputs": [],
   "source": [
    "@new_lego()\n",
    "def apply_shtdiff_L(L: np.ndarray[np.float32]):\n",
    "    return lambda x: apply_shtdiff(L, x)"
   ]
  },
  {
   "cell_type": "markdown",
   "id": "af57f6ff",
   "metadata": {},
   "source": [
    "and let another section of the config specify that as a component to use along with which variable to apply it to.  For instance, for full field simulation, we need two spheres.  Instead of packing into a single array we can collect multiple arrays into a dict, `model.states` here, as a namespace for inter-component data flow. In other words we can exploit the fact that if we don't provide a `@lego = name` function to invoke, the result is a dictionary to structure elements:"
   ]
  },
  {
   "cell_type": "code",
   "execution_count": 29,
   "id": "5599165b",
   "metadata": {
    "ExecuteTime": {
     "end_time": "2022-12-16T17:57:10.777872Z",
     "start_time": "2022-12-16T17:57:10.584280Z"
    }
   },
   "outputs": [
    {
     "name": "stdout",
     "output_type": "stream",
     "text": [
      "invoking <function make_shtdiff at 0x11b4ef7f0>\n",
      "invoking <function apply_shtdiff_L at 0x12736b910>\n",
      "invoking <function make_shtdiff at 0x11b4ef7f0>\n",
      "invoking <function make_shtdiff at 0x11b4ef7f0>\n",
      "invoking <function apply_shtdiff_L at 0x12736b910>\n",
      "invoking <function ode at 0x127368af0>\n",
      "invoking <function make_shtdiff at 0x11b4ef7f0>\n",
      "invoking <function apply_shtdiff_L at 0x12736b910>\n",
      "invoking <function ode at 0x127368af0>\n",
      "invoking <function randn_init at 0x11b4ef640>\n",
      "invoking <function randn_init at 0x11b4ef640>\n"
     ]
    },
    {
     "data": {
      "text/plain": [
       "{'parts': {'lh_cfun': {'func': <function __main__.apply_shtdiff_L.<locals>.<lambda>(x)>,\n",
       "   'var': 'lh_x'},\n",
       "  'lh_dfun': (x, -x**3/3 + x),\n",
       "  'rh_cfun': {'func': <function __main__.apply_shtdiff_L.<locals>.<lambda>(x)>,\n",
       "   'var': 'rh_x'},\n",
       "  'rh_dfun': (x, -x**3/3 + x + 0.1)},\n",
       " 'states': {'lh_x': array([[ 0.49464704, -1.9887687 , -0.19436942, ...,  1.05379302,\n",
       "          -0.35645117, -0.92892445],\n",
       "         [-1.15855378,  1.83809793,  0.20433019, ...,  0.24057663,\n",
       "          -1.38306221, -1.47846749],\n",
       "         [ 0.49622241, -0.681251  , -0.14935246, ..., -0.41696251,\n",
       "           1.7646266 , -1.09548935],\n",
       "         ...,\n",
       "         [-0.92764378, -0.22434343,  0.35807178, ...,  1.28631334,\n",
       "          -0.51258725, -0.20232653],\n",
       "         [-0.37791256, -0.28882325, -0.55281562, ...,  0.88238885,\n",
       "          -1.42804077, -0.8153128 ],\n",
       "         [ 1.77279105, -0.16251772, -0.80492029, ...,  0.9540087 ,\n",
       "           1.499249  , -0.50707662]]),\n",
       "  'rh_x': array([[ 2.50804722,  0.09588865, -0.50444769, ..., -0.44910178,\n",
       "          -1.57602904,  0.09082401],\n",
       "         [-0.69612453,  2.05733188, -0.31065482, ...,  0.69879039,\n",
       "           0.24617456,  1.12248535],\n",
       "         [ 0.28669802,  0.84131789, -0.90616739, ...,  0.6291533 ,\n",
       "           0.19476546,  0.12371999],\n",
       "         ...,\n",
       "         [ 0.20524101,  0.16135066,  0.39490473, ..., -0.43232796,\n",
       "           1.79368263, -0.64970842],\n",
       "         [-1.81969369, -1.25959356, -0.6097667 , ...,  0.44314333,\n",
       "          -1.01554214, -0.07679057],\n",
       "         [ 0.57823546,  1.4514547 ,  1.12351427, ...,  0.72282194,\n",
       "           1.15810752, -0.20233937]])}}"
      ]
     },
     "execution_count": 29,
     "metadata": {},
     "output_type": "execute_result"
    }
   ],
   "source": [
    "res = eval_config('''\n",
    "[lc]\n",
    "@legos = make_shtdiff\n",
    "lmax = 17\n",
    "nlat = 32\n",
    "nlon = 64\n",
    "\n",
    "[apply_lc]\n",
    "@legos = apply_shtdiff_L\n",
    "L = ${lc}\n",
    "\n",
    "[model]\n",
    "\n",
    "[model.states]\n",
    "[model.states.lh_x]\n",
    "@legos = randn_init\n",
    "nlat = ${lc.nlat}\n",
    "nlon = ${lc.nlon}\n",
    "\n",
    "[model.states.rh_x]\n",
    "@legos = randn_init\n",
    "nlat = ${lc.nlat}\n",
    "nlon = ${lc.nlon}\n",
    "\n",
    "[model.parts]\n",
    "[model.parts.lh_cfun]\n",
    "func = ${apply_lc}\n",
    "var = lh_x\n",
    "\n",
    "[model.parts.rh_cfun]\n",
    "func = ${apply_lc}\n",
    "var = rh_x\n",
    "\n",
    "[model.parts.lh_dfun]\n",
    "@legos = ode\n",
    "name = x\n",
    "rhs = x - x**3/3\n",
    "\n",
    "[model.parts.rh_dfun]\n",
    "@legos = ode\n",
    "name = x\n",
    "rhs = x - x**3/3 + 0.1\n",
    "''')\n",
    "\n",
    "res['model']"
   ]
  },
  {
   "cell_type": "markdown",
   "id": "dd33c02d",
   "metadata": {},
   "source": [
    "A generic evaluator can step through the elements of the `model` dict, evaluating parts.  Performance wise, it's probably just as fast or faster than masking/indexing parts of a single large array, but it scales up in model complexity without complex code.  A Jax version would flatten the whole dict on JIT.\n",
    "\n",
    "###### minor note on how to order components!\n",
    "\n",
    "How to schedule model components?"
   ]
  },
  {
   "cell_type": "code",
   "execution_count": 30,
   "id": "e3b03e3b",
   "metadata": {
    "ExecuteTime": {
     "end_time": "2022-12-16T17:57:16.096935Z",
     "start_time": "2022-12-16T17:57:16.092271Z"
    }
   },
   "outputs": [
    {
     "data": {
      "text/plain": [
       "dict"
      ]
     },
     "execution_count": 30,
     "metadata": {},
     "output_type": "execute_result"
    }
   ],
   "source": [
    "type(res['model'])"
   ]
  },
  {
   "cell_type": "markdown",
   "id": "f1850e60",
   "metadata": {},
   "source": [
    "a plain `dict` provides no information about the dependencies among components, so we can use a `dict` subclass that serves as a namespace to evaluate dependencies and cache them, which once traced, can yield the right order.\n",
    "\n",
    "In other words, for a given `dict` returned from a configuration, which defines all the components involved, we can loop through all the keys, check if the value is callable or not.  If it's not a callable, we assume the term is evaluated and final, i.e. an `np.ndarray`.  If it's callable, we assume it's to be evaluated and call it with the `dict` as an argument, then replace `dict[{key}]` with the result of the callable.  In the callable, it will try to `dict.__getitem__` which result in recursive traversal of the dependency graph and computation of all values in the `dict`.  This evaluated `dict` is then the result which is referred to by other siblings elements of the config."
   ]
  },
  {
   "cell_type": "code",
   "execution_count": null,
   "id": "9b492927",
   "metadata": {},
   "outputs": [],
   "source": [
    "# \n",
    "class Interp(dict):\n",
    "    \n",
    "    def eval_key(self, key):\n",
    "        # callables are thunks lazing about prior to evaluation\n",
    "        if hasattr(self[key], '__call__'): # TODO use a better distinction\n",
    "            self[key] = self[key](self)\n",
    "        return self[key]\n",
    "    \n",
    "    def eval_all(self):\n",
    "        all_keys = self.keys()\n",
    "        for key in all_keys:\n",
    "            self[key]"
   ]
  },
  {
   "cell_type": "markdown",
   "id": "6af46527",
   "metadata": {},
   "source": [
    "This is not tested code! *TODO* example functions + config\n",
    "\n",
    "Since this can be applied anywhere in the config, it means we can config arbitrary complexity graph of stuff, or extra flexibility we don't currently have in TVB (e.g. do full simulation then compute BOLD vs compute BOLD online: both can be expressed in this config system, not hard coded).  As long as it gets traced by a JIT at some point, there should be no performance worries (and rev mode autodiff is a graph traversal thing anyway)."
   ]
  },
  {
   "cell_type": "markdown",
   "id": "c9b1c706",
   "metadata": {},
   "source": [
    "## ordering fields\n",
    "\n",
    "If we really need to preserve order, then this list form is required:"
   ]
  },
  {
   "cell_type": "code",
   "execution_count": 39,
   "id": "611d8eee",
   "metadata": {
    "ExecuteTime": {
     "end_time": "2022-12-16T21:03:37.594689Z",
     "start_time": "2022-12-16T21:03:37.587719Z"
    }
   },
   "outputs": [
    {
     "data": {
      "text/plain": [
       "[{'name': 230402304}, {'name': 'Foo bar'}, {'name': 'Doggo'}]"
      ]
     },
     "execution_count": 39,
     "metadata": {},
     "output_type": "execute_result"
    }
   ],
   "source": [
    "eval_config('''\n",
    "[box]\n",
    "\n",
    "[box.*.thing1]\n",
    "name = 0230402304\n",
    "\n",
    "[box.*.thing2]\n",
    "name = Foo bar\n",
    "\n",
    "[box.*.thing3]\n",
    "name = Doggo\n",
    "''')['box']['*']"
   ]
  },
  {
   "cell_type": "markdown",
   "id": "b183055b",
   "metadata": {},
   "source": [
    "## multifile configs\n",
    "\n",
    "seems trivial but good to anticipate (a) the pain point of a giant monolithic copy pasta accident and (b) reusability.\n",
    "\n",
    "One use case is taking a base/default config and sprinkling in some opinions:"
   ]
  },
  {
   "cell_type": "code",
   "execution_count": 41,
   "id": "0464b74f",
   "metadata": {
    "ExecuteTime": {
     "end_time": "2022-12-16T21:07:59.027346Z",
     "start_time": "2022-12-16T21:07:59.017664Z"
    }
   },
   "outputs": [
    {
     "data": {
      "text/plain": [
       "{'mpr': {'dt': 0.30000000000000004, 'tau': 10.0, 'bar': 'baz', 'J': -4.7}}"
      ]
     },
     "execution_count": 41,
     "metadata": {},
     "output_type": "execute_result"
    }
   ],
   "source": [
    "base_config = Config().from_str('''\n",
    "[mpr]\n",
    "bar = baz\n",
    "J = -4.7\n",
    "dt = 0.1\n",
    "tau = 1.0\n",
    "''')\n",
    "\n",
    "opinions = Config().from_str('''\n",
    "[mpr]\n",
    "dt = 0.3\n",
    "tau = 10.0\n",
    "''')\n",
    "\n",
    "base_config.copy().merge(opinions)"
   ]
  },
  {
   "cell_type": "markdown",
   "id": "27afdaef",
   "metadata": {},
   "source": [
    "*TODO* multifile config with a loader function, but it's kinda trivial."
   ]
  },
  {
   "cell_type": "markdown",
   "id": "f558000e",
   "metadata": {},
   "source": [
    "## batching\n",
    "\n",
    "While it's helpful to express the model in terms of components, it may be useful in some cases to batch evaluation:  if we use small 3D fields for subcortical structures, and they're all 16^3 grids, it makes far more sense to evaluate a set of 16 fields at once than to have 16 nodes in the graph to traverse.  The config could express this e.g."
   ]
  },
  {
   "cell_type": "code",
   "execution_count": 35,
   "id": "78253916",
   "metadata": {
    "ExecuteTime": {
     "end_time": "2022-12-16T21:02:12.470052Z",
     "start_time": "2022-12-16T21:02:12.461947Z"
    }
   },
   "outputs": [
    {
     "data": {
      "text/plain": [
       "{'left_amygdala': {'domain': 'R3', 'grid': 16},\n",
       " 'right_amygdala': {'domain': 'R3', 'grid': 16},\n",
       " 'subcort': {'strategy': 'batch',\n",
       "  '*': [{'structure': {'domain': 'R3', 'grid': 16}},\n",
       "   {'structure': {'domain': 'R3', 'grid': 16}}]}}"
      ]
     },
     "execution_count": 35,
     "metadata": {},
     "output_type": "execute_result"
    }
   ],
   "source": [
    "eval_config('''\n",
    "[left_amygdala]\n",
    "domain = R3\n",
    "grid = 16\n",
    "\n",
    "[right_amygdala]\n",
    "domain = R3\n",
    "grid = 16\n",
    "\n",
    "[subcort]\n",
    "strategy = batch\n",
    "\n",
    "[subcort.*.left_amygdala]\n",
    "structure = ${left_amygdala}\n",
    "\n",
    "[subcort.*.right_amygdala]\n",
    "structure = ${right_amygdala}\n",
    "''')"
   ]
  },
  {
   "cell_type": "markdown",
   "id": "fdfe08e4",
   "metadata": {},
   "source": [
    "That's kind of verbose, since there's no way to do variadic references in a single section."
   ]
  },
  {
   "cell_type": "markdown",
   "id": "92f3b85b",
   "metadata": {},
   "source": [
    "*To be continued through building simulation object and doing inference.*"
   ]
  }
 ],
 "metadata": {
  "kernelspec": {
   "display_name": "Python 3 (ipykernel)",
   "language": "python",
   "name": "python3"
  },
  "language_info": {
   "codemirror_mode": {
    "name": "ipython",
    "version": 3
   },
   "file_extension": ".py",
   "mimetype": "text/x-python",
   "name": "python",
   "nbconvert_exporter": "python",
   "pygments_lexer": "ipython3",
   "version": "3.10.8"
  },
  "varInspector": {
   "cols": {
    "lenName": 16,
    "lenType": 16,
    "lenVar": 40
   },
   "kernels_config": {
    "python": {
     "delete_cmd_postfix": "",
     "delete_cmd_prefix": "del ",
     "library": "var_list.py",
     "varRefreshCmd": "print(var_dic_list())"
    },
    "r": {
     "delete_cmd_postfix": ") ",
     "delete_cmd_prefix": "rm(",
     "library": "var_list.r",
     "varRefreshCmd": "cat(var_dic_list()) "
    }
   },
   "types_to_exclude": [
    "module",
    "function",
    "builtin_function_or_method",
    "instance",
    "_Feature"
   ],
   "window_display": false
  }
 },
 "nbformat": 4,
 "nbformat_minor": 5
}
