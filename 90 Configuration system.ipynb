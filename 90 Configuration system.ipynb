{
 "cells": [
  {
   "cell_type": "markdown",
   "id": "6fef3c62",
   "metadata": {},
   "source": [
    "## configuration instead of code\n",
    "\n",
    "This notebook will develop some ideas about a configuration system to describe models in a simple format that encourages exchange between users and long term usability.  Many concepts are derived from conventions in the Thinc library, and we want to take a compositional approach: if the built in simulator loop isn't approach, use config components just for the model building to save time.  Some use cases to keep in mind, but not all implement at once\n",
    "\n",
    "- field models (R^3 & S^2)\n",
    "- multiple possibly high res connectomes\n",
    "- flexible stimulation (not just TVB-style)\n",
    "- mixed subcortical cortical models e.g. JR here, MPR there, etc\n",
    "- library of reusable components\n",
    "- flexible full model spec + debugging tools\n",
    "- multiscale / cosim\n",
    "\n",
    "We start by assuming the target model usage can be described roughly as a tree, e.g. \n",
    "\n",
    "- exec\n",
    "  - number of cores\n",
    "  - data source\n",
    "  - sbatch array / daskiness\n",
    "  - etc\n",
    "- data\n",
    "  - connectivity\n",
    "  - surface\n",
    "  - subcortical volumes\n",
    "  - time series\n",
    "      - preprocessing e.g. FFT or FCD\n",
    "- model\n",
    "  - integration scheme\n",
    "  - global DE\n",
    "    - coupling/connectivity components\n",
    "    - aux equations\n",
    "    - DE RHSs in sympy-digestible form\n",
    "        - could be grouped e.g. JR w/ a spatial mask\n",
    "  - forward models (\"monitors\")\n",
    "    - e.g. BOLD has it's own equations & integrator\n",
    "  - postprocessing e.g. FFT or FCD, to match data preprocessing\n",
    "- stats/fit\n",
    "  - parameter & prior combinations\n",
    "  - inference method (map, vi, nuts) + config\n",
    "  - post processing / diagnostics\n",
    "\n",
    "In the following we'll try to prototype this with [confection](https://github.com/explosion/confection) for the neural field inference developed in [a sibling notebook](60%20First%20field%20in%20numpyro.ipynb), taking advantage of the function registry to check types and avoid as much ad-hoc code as possible.  As it develops, we push code into the Python library.  It may be useful to use Pydantic for sanity checking, cf [this write up](https://medium.com/swlh/cool-things-you-can-do-with-pydantic-fc1c948fbde0)."
   ]
  },
  {
   "cell_type": "markdown",
   "id": "e7e4b3fe",
   "metadata": {},
   "source": [
    "## getting started\n",
    "\n",
    "First off we define a registry,"
   ]
  },
  {
   "cell_type": "code",
   "execution_count": 1,
   "id": "f8369dab",
   "metadata": {
    "ExecuteTime": {
     "end_time": "2022-12-16T15:41:04.552542Z",
     "start_time": "2022-12-16T15:41:04.279746Z"
    }
   },
   "outputs": [
    {
     "name": "stdout",
     "output_type": "stream",
     "text": [
      "%pylab is deprecated, use %matplotlib inline and import the required libraries.\n",
      "Populating the interactive namespace from numpy and matplotlib\n"
     ]
    }
   ],
   "source": [
    "%pylab inline\n",
    "import numpy as np\n",
    "import numpy.typing as npt\n",
    "import functools\n",
    "import catalogue\n",
    "from confection import registry, Config\n",
    "\n",
    "registry.legos = catalogue.create(\"confection\", \"legos\", entry_points=False)"
   ]
  },
  {
   "cell_type": "markdown",
   "id": "4233668e",
   "metadata": {},
   "source": [
    "To debug registered function calls, we'll set up our own decorator for registration,"
   ]
  },
  {
   "cell_type": "code",
   "execution_count": 2,
   "id": "d8f77719",
   "metadata": {
    "ExecuteTime": {
     "end_time": "2022-12-16T15:41:04.590847Z",
     "start_time": "2022-12-16T15:41:04.588466Z"
    }
   },
   "outputs": [],
   "source": [
    "def new_lego(name=None):\n",
    "    def wrapper(wrapped):\n",
    "        @registry.legos.register(name or wrapped.__name__)\n",
    "        @functools.wraps(wrapped)\n",
    "        def f(*args, **kwargs):\n",
    "            print(f'invoking {wrapped}')\n",
    "            return wrapped(*args, **kwargs)\n",
    "        return f\n",
    "    return wrapper"
   ]
  },
  {
   "cell_type": "markdown",
   "id": "58dfc308",
   "metadata": {},
   "source": [
    "with that bit of bureaucracy we can do the following,"
   ]
  },
  {
   "cell_type": "code",
   "execution_count": 3,
   "id": "986168ec",
   "metadata": {
    "ExecuteTime": {
     "end_time": "2022-12-16T15:41:05.325255Z",
     "start_time": "2022-12-16T15:41:05.315993Z"
    }
   },
   "outputs": [],
   "source": [
    "@new_lego()\n",
    "def make_shtdiff(lmax: int, nlat: int, nlon: int, D: float=0.0004) -> np.ndarray[np.float32]:\n",
    "    \"\"\"Computes a precomputed spherical harmonic transform-based diffusion\n",
    "    coupling function.\n",
    "    \n",
    "    Parameters\n",
    "    ----------\n",
    "    lmax\n",
    "        Truncation order for the spherical harmonic series, `lmax` < `nlat`.\n",
    "    nlat\n",
    "        Number of latitudes for the regular spherical grid.\n",
    "    nlon\n",
    "        Number of longitudes for the regular spherical grid.\n",
    "    D\n",
    "        Scaling of the diffusion, default value of `4e-4` based on r=10 cm\n",
    "        inflated cortical surface.\n",
    "    \n",
    "    Returns\n",
    "    -------\n",
    "    L\n",
    "        A 3-D array where each `L[m]` matrix provides the Legendre transform\n",
    "        for the `m`th longitudinal frequency\n",
    "    \n",
    "    \"\"\"\n",
    "    import nfjax.shtlc as lc\n",
    "    if lmax >= nlat:\n",
    "        lmax = nlat - 1\n",
    "    _, L = lc.make_shtdiff(lmax=lmax, nlat=nlat, nlon=nlon, D=D, return_L=True)\n",
    "    np.testing.assert_equal(0, L.imag)\n",
    "    L = L.real.astype('f')\n",
    "    return L\n",
    "\n",
    "@new_lego()\n",
    "def randn_init(nlat: int, nlon: int) -> np.ndarray[np.float32]:\n",
    "    \"Generate random initial state.\"\n",
    "    return np.random.randn(nlat, nlon)\n",
    "\n",
    "@new_lego()\n",
    "def apply_shtdiff(L: np.ndarray[np.float32], x: np.ndarray[np.complex64]) -> np.ndarray[np.complex64]:\n",
    "    \"\"\"Computes the spherical harmonic transform using precomputed Legendre transforms.\n",
    "    \n",
    "    \n",
    "    \"\"\"\n",
    "    lmax = L.shape[0]\n",
    "    X = np.fft.rfft(x, axis=1)\n",
    "    X = np.hstack(\n",
    "        (np.einsum('abc,ca->ba', L, X[:,:lmax]),\n",
    "         np.zeros((X.shape[0], X.shape[1] - lmax), np.complex64)\n",
    "        )\n",
    "    )\n",
    "    y = np.real(np.fft.irfft(X, axis=1))\n",
    "    return y"
   ]
  },
  {
   "cell_type": "markdown",
   "id": "7bc63b30",
   "metadata": {},
   "source": [
    "These functions provide a Python API usable from regular code but since they are registered, they can be invoked via the configuration system,"
   ]
  },
  {
   "cell_type": "code",
   "execution_count": 4,
   "id": "bd2515a9",
   "metadata": {
    "ExecuteTime": {
     "end_time": "2022-12-16T15:41:07.003779Z",
     "start_time": "2022-12-16T15:41:06.414476Z"
    }
   },
   "outputs": [
    {
     "name": "stdout",
     "output_type": "stream",
     "text": [
      "invoking <function make_shtdiff at 0x11b4ef7f0>\n",
      "invoking <function randn_init at 0x11b4ef640>\n",
      "invoking <function make_shtdiff at 0x11b4ef7f0>\n",
      "invoking <function randn_init at 0x11b4ef640>\n",
      "invoking <function apply_shtdiff at 0x11b4ef910>\n"
     ]
    },
    {
     "data": {
      "text/plain": [
       "<matplotlib.image.AxesImage at 0x11cb114e0>"
      ]
     },
     "execution_count": 4,
     "metadata": {},
     "output_type": "execute_result"
    },
    {
     "data": {
      "image/png": "[encoded data removed]",
      "text/plain": [
       "<Figure size 640x480 with 2 Axes>"
      ]
     },
     "metadata": {},
     "output_type": "display_data"
    }
   ],
   "source": [
    "res = registry.resolve(Config().from_str('''\n",
    "[lc]\n",
    "@legos = make_shtdiff\n",
    "lmax = 17\n",
    "nlat = 32\n",
    "nlon = 64\n",
    "\n",
    "[x0]\n",
    "@legos = randn_init\n",
    "nlat = ${lc.nlat}\n",
    "nlon = ${lc.nlon}\n",
    "\n",
    "[x1]\n",
    "@legos = apply_shtdiff\n",
    "L = ${lc}\n",
    "x = ${x0}\n",
    "'''))\n",
    "\n",
    "subplot(121); imshow(res['x0'])\n",
    "subplot(122); imshow(res['x1'])"
   ]
  },
  {
   "cell_type": "markdown",
   "id": "c772a102",
   "metadata": {},
   "source": [
    "From this we see a few things\n",
    "\n",
    "- no code to write to map parsed config to functions\n",
    "- data flow is defined using back references to other config sections\n",
    "- back refs allow not repeating details like `nlat`"
   ]
  },
  {
   "cell_type": "markdown",
   "id": "1934fc57",
   "metadata": {},
   "source": [
    "*To be continued through building simulation object and doing inference.*"
   ]
  },
  {
   "cell_type": "code",
   "execution_count": null,
   "id": "6e2ef168",
   "metadata": {},
   "outputs": [],
   "source": []
  }
 ],
 "metadata": {
  "kernelspec": {
   "display_name": "Python 3 (ipykernel)",
   "language": "python",
   "name": "python3"
  },
  "language_info": {
   "codemirror_mode": {
    "name": "ipython",
    "version": 3
   },
   "file_extension": ".py",
   "mimetype": "text/x-python",
   "name": "python",
   "nbconvert_exporter": "python",
   "pygments_lexer": "ipython3",
   "version": "3.10.8"
  },
  "varInspector": {
   "cols": {
    "lenName": 16,
    "lenType": 16,
    "lenVar": 40
   },
   "kernels_config": {
    "python": {
     "delete_cmd_postfix": "",
     "delete_cmd_prefix": "del ",
     "library": "var_list.py",
     "varRefreshCmd": "print(var_dic_list())"
    },
    "r": {
     "delete_cmd_postfix": ") ",
     "delete_cmd_prefix": "rm(",
     "library": "var_list.r",
     "varRefreshCmd": "cat(var_dic_list()) "
    }
   },
   "types_to_exclude": [
    "module",
    "function",
    "builtin_function_or_method",
    "instance",
    "_Feature"
   ],
   "window_display": false
  }
 },
 "nbformat": 4,
 "nbformat_minor": 5
}
