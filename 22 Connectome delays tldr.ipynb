{
 "cells": [
  {
   "cell_type": "code",
   "execution_count": 1,
   "id": "d85d7f5d",
   "metadata": {},
   "outputs": [
    {
     "name": "stderr",
     "output_type": "stream",
     "text": [
      "No GPU/TPU found, falling back to CPU. (Set TF_CPP_MIN_LOG_LEVEL=0 and rerun for more info.)\n"
     ]
    }
   ],
   "source": [
    "import jax.numpy as jnp\n",
    "import jax\n",
    "\n",
    "\n",
    "def fwd(buffer):\n",
    "    return jnp.sum(weights*buffer[ns,lengths], axis=1)\n",
    "\n",
    "def vjp(g,buffer):\n",
    "    gb = jnp.tile(g[:,None],(1,nn)) # rev of sum(a, axis=1)\n",
    "    return jnp.zeros_like(buffer).at[ns,lengths.T].add(weights.T*gb)\n",
    "\n",
    "keys = jax.random.split(jax.random.PRNGKey(0), 10)\n",
    "nn = 84\n",
    "weights = jax.random.normal (keys[0], (nn, nn))\n",
    "lengths = jax.random.randint(keys[1], (nn, nn), 0, 255)\n",
    "buffer = jax.random.normal(keys[2], (nn, lengths.max()+1))"
   ]
  },
  {
   "cell_type": "markdown",
   "id": "3800b295",
   "metadata": {},
   "source": [
    "Not done yet: how to register `vjp` as the VJP for fwd?"
   ]
  }
 ],
 "metadata": {
  "kernelspec": {
   "display_name": "Python 3 (ipykernel)",
   "language": "python",
   "name": "python3"
  },
  "language_info": {
   "codemirror_mode": {
    "name": "ipython",
    "version": 3
   },
   "file_extension": ".py",
   "mimetype": "text/x-python",
   "name": "python",
   "nbconvert_exporter": "python",
   "pygments_lexer": "ipython3",
   "version": "3.10.6"
  }
 },
 "nbformat": 4,
 "nbformat_minor": 5
}
