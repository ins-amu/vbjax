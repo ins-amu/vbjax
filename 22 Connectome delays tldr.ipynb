{
 "cells": [
  {
   "cell_type": "code",
   "execution_count": 2,
   "id": "d85d7f5d",
   "metadata": {},
   "outputs": [],
   "source": [
    "import jax.numpy as jnp\n",
    "import jax\n",
    "\n",
    "keys = jax.random.split(jax.random.PRNGKey(0), 10)\n",
    "nn = 84\n",
    "weights = jax.random.normal (keys[0], (nn, nn))\n",
    "lengths = jax.random.randint(keys[1], (nn, nn), 0, 255)\n",
    "buffer = jax.random.normal(keys[2], (nn, lengths.max()+1))"
   ]
  },
  {
   "cell_type": "markdown",
   "id": "3800b295",
   "metadata": {},
   "source": [
    "Not done yet: how to register `vjp` as the VJP for fwd?"
   ]
  },
  {
   "cell_type": "code",
   "execution_count": 5,
   "id": "08ea0d0b",
   "metadata": {},
   "outputs": [
    {
     "name": "stdout",
     "output_type": "stream",
     "text": [
      "11.2 µs ± 1.43 µs per loop (mean ± std. dev. of 7 runs, 100,000 loops each)\n"
     ]
    }
   ],
   "source": [
    "def make_conn(weights, lengths):\n",
    "    nn = weights.shape[0]\n",
    "    ns = jnp.tile(jnp.arange(nn),(nn,1))\n",
    "    \n",
    "    def fwd(buffer):\n",
    "        return jnp.sum(weights*buffer[ns,lengths], axis=1)\n",
    "\n",
    "    def vjp(g,buffer):\n",
    "        gb = jnp.tile(g[:,None],(1,nn)) # rev of sum(a, axis=1)\n",
    "        return jnp.zeros_like(buffer).at[ns,lengths.T].add(weights.T*gb)\n",
    "    \n",
    "    return fwd, vjp\n",
    "\n",
    "f = jax.jit(make_conn(weights, lengths))\n",
    "f(buffer)\n",
    "%timeit f(buffer)"
   ]
  },
  {
   "cell_type": "code",
   "execution_count": 13,
   "id": "a81c23b7",
   "metadata": {},
   "outputs": [
    {
     "name": "stdout",
     "output_type": "stream",
     "text": [
      "63.3 µs ± 6.52 µs per loop (mean ± std. dev. of 7 runs, 10,000 loops each)\n"
     ]
    }
   ],
   "source": [
    "gl = jax.jit(jax.grad(lambda b: jnp.sum(jnp.square(f(b + 1)))))\n",
    "gl(buffer)\n",
    "%timeit gl(buffer + 1).block_until_ready()"
   ]
  },
  {
   "cell_type": "markdown",
   "id": "a0f08792",
   "metadata": {},
   "source": [
    "Well that doesn't seem to be too slow."
   ]
  }
 ],
 "metadata": {
  "kernelspec": {
   "display_name": "Python 3 (ipykernel)",
   "language": "python",
   "name": "python3"
  },
  "language_info": {
   "codemirror_mode": {
    "name": "ipython",
    "version": 3
   },
   "file_extension": ".py",
   "mimetype": "text/x-python",
   "name": "python",
   "nbconvert_exporter": "python",
   "pygments_lexer": "ipython3",
   "version": "3.10.6"
  }
 },
 "nbformat": 4,
 "nbformat_minor": 5
}
