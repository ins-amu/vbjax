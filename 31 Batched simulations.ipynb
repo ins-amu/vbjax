{
 "cells": [
  {
   "cell_type": "markdown",
   "id": "4be52b7b",
   "metadata": {},
   "source": [
    "# Batching model evaluations\n",
    "\n",
    "VEP-style field models have a high spatial resolution and usually deterministic.  At the other end of the spectrum, we have stochastic models with high temporal resolution such as the Montbrio-Pazo-Roxin or Jansen-Rit models.\n",
    "\n",
    "### Why batching?\n",
    "\n",
    "There are multiple applications of batching for performance\n",
    "\n",
    "- delays are effectively random access for the memory system, so accessing a batch of data instead of a scalar allows amortizing the cost of the randomness of memory access due to delays, achieving 80%+ of memory bandwidth\n",
    "- parallel-in-time evaluation for centered models can evaluate several time windows as a parallel batch\n",
    "- parallel simulations run entire simulations as multiple CPU SIMD lanes or GPU threads\n",
    "\n",
    "If we can batch time windows, we can batch entire simulations.  If we can batch delay evaluation, we can batch time windows, so it's a progessive increase in complexity. "
   ]
  },
  {
   "cell_type": "code",
   "execution_count": 1,
   "id": "1a4ea29c",
   "metadata": {},
   "outputs": [
    {
     "name": "stdout",
     "output_type": "stream",
     "text": [
      "%pylab is deprecated, use %matplotlib inline and import the required libraries.\n",
      "Populating the interactive namespace from numpy and matplotlib\n",
      "** shtns is not available\n"
     ]
    }
   ],
   "source": [
    "%pylab inline\n",
    "import jax\n",
    "import jax.numpy as np\n",
    "%load_ext autoreload\n",
    "%load_ext memory_profiler\n",
    "%autoreload 2\n",
    "\n",
    "import nfjax as nf"
   ]
  },
  {
   "cell_type": "markdown",
   "id": "6197befd",
   "metadata": {},
   "source": [
    "## Jansen Rit\n",
    "\n",
    "Let's take the Jansen Rit model as an example, with an end goal of fitting some EEG style spectra."
   ]
  },
  {
   "cell_type": "code",
   "execution_count": 2,
   "id": "11b6047b",
   "metadata": {},
   "outputs": [
    {
     "name": "stderr",
     "output_type": "stream",
     "text": [
      "No GPU/TPU found, falling back to CPU. (Set TF_CPP_MIN_LOG_LEVEL=0 and rerun for more info.)\n"
     ]
    },
    {
     "data": {
      "text/plain": [
       "(6, 32)"
      ]
     },
     "execution_count": 2,
     "metadata": {},
     "output_type": "execute_result"
    }
   ],
   "source": [
    "x0 = np.zeros((6, 32))\n",
    "nf.jr_dfun(x=x0, c=0, p=nf.jr_default_theta).shape"
   ]
  },
  {
   "cell_type": "markdown",
   "id": "8e09c0a4",
   "metadata": {},
   "source": [
    "so our dfun will automatically make use of vectors for state space, let's build a network model, just by composing a coupling function with the Jansen-Rit dfun"
   ]
  },
  {
   "cell_type": "code",
   "execution_count": 13,
   "id": "4daecc0c",
   "metadata": {},
   "outputs": [],
   "source": [
    "def net_dfun(x, p):\n",
    "    c = 1e-2*np.mean(x[1] - x[2])\n",
    "    return nf.jr_dfun(x, c, p)"
   ]
  },
  {
   "cell_type": "markdown",
   "id": "1ee69326",
   "metadata": {},
   "source": [
    "now do a simulation,"
   ]
  },
  {
   "cell_type": "code",
   "execution_count": 14,
   "id": "608d22d2",
   "metadata": {},
   "outputs": [
    {
     "data": {
      "text/plain": [
       "(1024, 6, 32)"
      ]
     },
     "execution_count": 14,
     "metadata": {},
     "output_type": "execute_result"
    }
   ],
   "source": [
    "step, loop = nf.make_sde(1.0, net_dfun, 1e-1)\n",
    "\n",
    "key = jax.random.PRNGKey(0)\n",
    "nt = 1024\n",
    "nn = 32\n",
    "x0 = np.zeros((6, nn))\n",
    "zt = jax.random.normal(key, (nt, ) + x0.shape) * 1e-2\n",
    "\n",
    "yt = loop(x0, zt, nf.jr_default_theta)\n",
    "yt.shape"
   ]
  },
  {
   "cell_type": "code",
   "execution_count": null,
   "id": "66d07155",
   "metadata": {},
   "outputs": [],
   "source": [
    "%timeit loop(x0, zt, nf.jr_default_theta)"
   ]
  },
  {
   "cell_type": "code",
   "execution_count": null,
   "id": "1c1e1462",
   "metadata": {},
   "outputs": [],
   "source": [
    "\n",
    "\n",
    "\n",
    "\n",
    "\n",
    "\n",
    "\n",
    "\n",
    "\n",
    "\n",
    "\n",
    "\n",
    "\n",
    "\n",
    "\n",
    "\n",
    "\n",
    "\n",
    "\n",
    "\n",
    "\n",
    "\n",
    "\n",
    "\n",
    "\n",
    "\n",
    "\n",
    "\n",
    "\n",
    "\n",
    "\n",
    "\n",
    "\n",
    "\n",
    "\n",
    "\n",
    "\n",
    "\n"
   ]
  }
 ],
 "metadata": {
  "kernelspec": {
   "display_name": "Python 3 (ipykernel)",
   "language": "python",
   "name": "python3"
  },
  "language_info": {
   "codemirror_mode": {
    "name": "ipython",
    "version": 3
   },
   "file_extension": ".py",
   "mimetype": "text/x-python",
   "name": "python",
   "nbconvert_exporter": "python",
   "pygments_lexer": "ipython3",
   "version": "3.10.6"
  }
 },
 "nbformat": 4,
 "nbformat_minor": 5
}
