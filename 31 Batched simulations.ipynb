{
 "cells": [
  {
   "cell_type": "markdown",
   "id": "4be52b7b",
   "metadata": {},
   "source": [
    "# Batching model evaluations\n",
    "\n",
    "VEP-style field models have a high spatial resolution and usually deterministic.  At the other end of the spectrum, we have stochastic models with high temporal resolution such as the Montbrio-Pazo-Roxin or Jansen-Rit models.\n",
    "\n",
    "### Why batching?\n",
    "\n",
    "There are multiple applications of batching for performance\n",
    "\n",
    "- delays are effectively random access for the memory system, so accessing a batch of data instead of a scalar allows amortizing the cost of the randomness of memory access due to delays, achieving 80%+ of memory bandwidth\n",
    "- parallel-in-time evaluation for centered models can evaluate several time windows as a parallel batch\n",
    "- parallel simulations run entire simulations as multiple CPU SIMD lanes or GPU threads\n",
    "\n",
    "If we can batch time windows, we can batch entire simulations.  If we can batch delay evaluation, we can batch time windows, so it's a progessive increase in complexity. "
   ]
  },
  {
   "cell_type": "code",
   "execution_count": 1,
   "id": "1a4ea29c",
   "metadata": {},
   "outputs": [
    {
     "name": "stdout",
     "output_type": "stream",
     "text": [
      "%pylab is deprecated, use %matplotlib inline and import the required libraries.\n",
      "Populating the interactive namespace from numpy and matplotlib\n",
      "** shtns is not available\n"
     ]
    }
   ],
   "source": [
    "%pylab inline\n",
    "import jax\n",
    "import jax.numpy as np\n",
    "%load_ext autoreload\n",
    "%load_ext memory_profiler\n",
    "%autoreload 2\n",
    "\n",
    "import nfjax as nf"
   ]
  },
  {
   "cell_type": "markdown",
   "id": "6197befd",
   "metadata": {},
   "source": [
    "## Jansen Rit\n",
    "\n",
    "Let's take the Jansen Rit model as an example, with an end goal of fitting some EEG style spectra."
   ]
  },
  {
   "cell_type": "code",
   "execution_count": 3,
   "id": "94f2c66e",
   "metadata": {},
   "outputs": [
    {
     "data": {
      "text/plain": [
       "(6, 32)"
      ]
     },
     "execution_count": 3,
     "metadata": {},
     "output_type": "execute_result"
    }
   ],
   "source": [
    "x0 = np.zeros((6, 32))\n",
    "nf.jr_dfun(x0, c=0, p=nf.jr_default_theta).shape"
   ]
  },
  {
   "cell_type": "markdown",
   "id": "f142064f",
   "metadata": {},
   "source": [
    "so our dfun will automatically make use of vectors for state space, let's build a network model, just by composing a coupling function with the Jansen-Rit dfun"
   ]
  },
  {
   "cell_type": "code",
   "execution_count": 5,
   "id": "20969aa0",
   "metadata": {},
   "outputs": [
    {
     "data": {
      "text/plain": [
       "(6, 32)"
      ]
     },
     "execution_count": 5,
     "metadata": {},
     "output_type": "execute_result"
    }
   ],
   "source": [
    "nn = 32\n",
    "ns = np.tile(np.arange(nn),(nn,1))\n",
    "key = jax.random.PRNGKey(42)\n",
    "weights = jax.random.normal (key, (nn, nn))\n",
    "lengths = jax.random.randint(key, (nn, nn), 0, 255)\n",
    "buffer = jax.random.normal(key, (nn, lengths.max()+1))\n",
    "\n",
    "def net_dfun(x, p):\n",
    "    w, l, buf, mass_θ = p\n",
    "    lfp = x[1] - x[2]\n",
    "    # c = 1e-2 * np.sum(w*buffer[ns,l], axis=1)\n",
    "    c = 1e-2 * np.dot(w, lfp)\n",
    "    return nf.jr_dfun(x, c, mass_θ)\n",
    "\n",
    "x0 = np.zeros((6, nn))\n",
    "net_θ = weights, lengths, buffer, nf.jr_default_theta\n",
    "net_dfun(x0, net_θ).shape"
   ]
  },
  {
   "cell_type": "markdown",
   "id": "7add5e9d",
   "metadata": {},
   "source": [
    "now do a simulation,"
   ]
  },
  {
   "cell_type": "code",
   "execution_count": 6,
   "id": "608d22d2",
   "metadata": {},
   "outputs": [
    {
     "data": {
      "text/plain": [
       "(1024, 6, 32)"
      ]
     },
     "execution_count": 6,
     "metadata": {},
     "output_type": "execute_result"
    }
   ],
   "source": [
    "step, loop = nf.make_sde(1.0, net_dfun, 1e-1)\n",
    "key = jax.random.PRNGKey(0)\n",
    "nt = 1024\n",
    "x0 = np.zeros((6, nn))\n",
    "zt = jax.random.normal(key, (nt, ) + x0.shape) * 1e-2\n",
    "yt = loop(x0, zt, net_θ)\n",
    "yt.shape"
   ]
  },
  {
   "cell_type": "code",
   "execution_count": 7,
   "id": "66d07155",
   "metadata": {},
   "outputs": [
    {
     "name": "stdout",
     "output_type": "stream",
     "text": [
      "822 µs ± 43.7 µs per loop (mean ± std. dev. of 7 runs, 1,000 loops each)\n"
     ]
    }
   ],
   "source": [
    "%timeit loop(x0, zt, net_θ)"
   ]
  },
  {
   "cell_type": "markdown",
   "id": "caacfad5",
   "metadata": {},
   "source": [
    "Now let's try a batch loop over initial conditions,"
   ]
  },
  {
   "cell_type": "code",
   "execution_count": 8,
   "id": "0d711a4d",
   "metadata": {},
   "outputs": [
    {
     "data": {
      "text/plain": [
       "(8, 1024, 6, 32)"
      ]
     },
     "execution_count": 8,
     "metadata": {},
     "output_type": "execute_result"
    }
   ],
   "source": [
    "nb = 8\n",
    "x0b = np.zeros((nb, 6, nn))\n",
    "jax.vmap(lambda x0: loop(x0, zt, net_θ))(x0b).shape"
   ]
  },
  {
   "cell_type": "markdown",
   "id": "e25dbde0",
   "metadata": {},
   "source": [
    "but that's essentially a outer loop since Jax can't reorder the arrays; can we batch an inner dimension instead?"
   ]
  },
  {
   "cell_type": "code",
   "execution_count": 9,
   "id": "53ac3df4",
   "metadata": {},
   "outputs": [
    {
     "data": {
      "text/plain": [
       "(1024, 6, 32, 8)"
      ]
     },
     "execution_count": 9,
     "metadata": {},
     "output_type": "execute_result"
    }
   ],
   "source": [
    "\n",
    "x0b = np.zeros((6, nn, nb))\n",
    "\n",
    "jax.vmap(lambda x0: loop(x0, zt, net_θ), 2, 3)(x0b).shape"
   ]
  },
  {
   "cell_type": "markdown",
   "id": "519e72c7",
   "metadata": {},
   "source": [
    "That's what we'd want for a GPU, at least: stride 1 batching. What does perf say?"
   ]
  },
  {
   "cell_type": "code",
   "execution_count": 10,
   "id": "1602ae8b",
   "metadata": {},
   "outputs": [
    {
     "name": "stdout",
     "output_type": "stream",
     "text": [
      "11.2 ms ± 950 µs per loop (mean ± std. dev. of 7 runs, 100 loops each)\n",
      "12.3 ms ± 280 µs per loop (mean ± std. dev. of 7 runs, 100 loops each)\n"
     ]
    }
   ],
   "source": [
    "x0b = np.zeros((nb, 6, nn))\n",
    "lb = jax.vmap(lambda x0: loop(x0, zt, net_θ))\n",
    "lb(x0b)\n",
    "%timeit lb(x0b).block_until_ready()\n",
    "\n",
    "x0b = np.zeros((6, nn, nb))\n",
    "lb = jax.vmap(lambda x0: loop(x0, zt, net_θ), 2, 3)\n",
    "lb(x0b)\n",
    "%timeit lb(x0b).block_until_ready()"
   ]
  },
  {
   "cell_type": "markdown",
   "id": "af0305cb",
   "metadata": {},
   "source": [
    "what if we don't need to vmap?"
   ]
  },
  {
   "cell_type": "code",
   "execution_count": 14,
   "id": "327d2362",
   "metadata": {},
   "outputs": [
    {
     "name": "stdout",
     "output_type": "stream",
     "text": [
      "5.95 ms ± 440 µs per loop (mean ± std. dev. of 7 runs, 100 loops each)\n"
     ]
    }
   ],
   "source": [
    "%timeit loop(x0b,zt.reshape(zt.shape+ (1,)),net_θ).shape"
   ]
  },
  {
   "cell_type": "markdown",
   "id": "3ceb7c36",
   "metadata": {},
   "source": [
    "Broadcasting ftw: that's the batching speed up we're looking for, and it's single core."
   ]
  },
  {
   "cell_type": "code",
   "execution_count": null,
   "id": "1c1e1462",
   "metadata": {},
   "outputs": [],
   "source": [
    "\n",
    "\n",
    "\n",
    "\n",
    "\n",
    "\n",
    "\n",
    "\n",
    "\n",
    "\n",
    "\n",
    "\n",
    "\n",
    "\n",
    "\n",
    "\n",
    "\n",
    "\n",
    "\n",
    "\n",
    "\n",
    "\n",
    "\n",
    "\n",
    "\n",
    "\n",
    "\n",
    "\n",
    "\n",
    "\n",
    "\n",
    "\n",
    "\n",
    "\n",
    "\n",
    "\n",
    "\n",
    "\n"
   ]
  }
 ],
 "metadata": {
  "kernelspec": {
   "display_name": "Python 3 (ipykernel)",
   "language": "python",
   "name": "python3"
  },
  "language_info": {
   "codemirror_mode": {
    "name": "ipython",
    "version": 3
   },
   "file_extension": ".py",
   "mimetype": "text/x-python",
   "name": "python",
   "nbconvert_exporter": "python",
   "pygments_lexer": "ipython3",
   "version": "3.10.6"
  }
 },
 "nbformat": 4,
 "nbformat_minor": 5
}
