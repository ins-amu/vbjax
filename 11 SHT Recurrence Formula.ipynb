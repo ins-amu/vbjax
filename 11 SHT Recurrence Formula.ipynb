{
 "cells": [
  {
   "cell_type": "code",
   "execution_count": 1,
   "id": "12be0ef4",
   "metadata": {
    "ExecuteTime": {
     "end_time": "2022-12-19T15:55:48.544004Z",
     "start_time": "2022-12-19T15:55:48.206048Z"
    }
   },
   "outputs": [
    {
     "name": "stdout",
     "output_type": "stream",
     "text": [
      "%pylab is deprecated, use %matplotlib inline and import the required libraries.\n",
      "Populating the interactive namespace from numpy and matplotlib\n"
     ]
    }
   ],
   "source": [
    "%pylab inline\n",
    "import numpy as np\n",
    "from scipy.special import sph_harm, lpmv\n",
    "import shtns"
   ]
  },
  {
   "cell_type": "markdown",
   "id": "35e64a27",
   "metadata": {},
   "source": [
    "# SHT recurrence formula\n",
    "\n",
    "SHTns computes SHT w/ an FFT on longitudes and recurrence formula for the Legendre transform on latitudes. See https://arxiv.org/abs/1202.6522 for more details.\n",
    "\n",
    "Here's a testable / debuggable version of the recurrence formula"
   ]
  },
  {
   "cell_type": "code",
   "execution_count": 7,
   "id": "456b8130",
   "metadata": {
    "ExecuteTime": {
     "end_time": "2022-12-19T16:13:22.865949Z",
     "start_time": "2022-12-19T16:13:22.839039Z"
    }
   },
   "outputs": [
    {
     "name": "stdout",
     "output_type": "stream",
     "text": [
      "0 3 (32,)\n",
      "0 4 (32,)\n",
      "0 5 (32,)\n",
      "0 6 (32,)\n",
      "0 7 (32,)\n",
      "0 8 (32,)\n",
      "0 9 (32,)\n",
      "0 10 (32,)\n",
      "1 4 (32,)\n",
      "1 5 (32,)\n",
      "1 6 (32,)\n",
      "1 7 (32,)\n",
      "1 8 (32,)\n",
      "1 9 (32,)\n",
      "1 10 (32,)\n",
      "2 5 (32,)\n",
      "2 6 (32,)\n",
      "2 7 (32,)\n",
      "2 8 (32,)\n",
      "2 9 (32,)\n",
      "2 10 (32,)\n",
      "3 6 (32,)\n",
      "3 7 (32,)\n",
      "3 8 (32,)\n",
      "3 9 (32,)\n",
      "3 10 (32,)\n",
      "4 7 (32,)\n",
      "4 8 (32,)\n",
      "4 9 (32,)\n",
      "4 10 (32,)\n",
      "5 8 (32,)\n",
      "5 9 (32,)\n",
      "5 10 (32,)\n",
      "6 9 (32,)\n",
      "6 10 (32,)\n",
      "7 10 (32,)\n"
     ]
    }
   ],
   "source": [
    "def gen_ml(N):\n",
    "    return np.array([[m, l] for m in range(N+1) for l in range(N+1) if m<=l])\n",
    "\n",
    "def all_amm(N):\n",
    "    amm = []\n",
    "    for m in range(N+1):\n",
    "        els = []\n",
    "        for k in range(1,m+1):\n",
    "            els.append((2*k+1)/(2*k))\n",
    "        el = np.prod(els)/(4*np.pi)\n",
    "        amm.append(np.sqrt(el))\n",
    "    amm = np.array(amm)\n",
    "    return amm\n",
    "\n",
    "def amn(m, n):\n",
    "    nom = 4*n*n - 1\n",
    "    den = n*n - m*m\n",
    "    out = np.sqrt(nom/den)\n",
    "    return out\n",
    "\n",
    "def bmn(m, n):\n",
    "    l = (2*n + 1)/(2*n - 3)\n",
    "    r = ((n - 1)*(n - 1) - m*m)/(n*n - m*m)\n",
    "    return - np.sqrt(l*r)\n",
    "\n",
    "def lat_grid(nlat):\n",
    "    x = np.r_[:nlat] / nlat * np.pi\n",
    "    cx = np.cos(x)\n",
    "    return cx\n",
    "\n",
    "check_Pmn = lambda p, m, n, cx: \\\n",
    "    np.testing.assert_allclose(p, \n",
    "        sph_harm(m, n, 0, np.arccos(cx)).real, rtol=1e-5, atol=1e-6)\n",
    "\n",
    "def eq13(N, m, n, amm_m, cx):\n",
    "    p0 = amm_m*(1 - cx*cx)**(m/2)*(-1)**m\n",
    "    stop = n == N\n",
    "    check_Pmn(p0, m, m, cx)\n",
    "    return stop, p0\n",
    "\n",
    "def test_Pmn_recursion(N=10, nlat=32):\n",
    "    \"check all generated P^m_n(x) coefficients\"\n",
    "    amm = all_amm(N)\n",
    "    cx = lat_grid(nlat)\n",
    "    ml = set([(m_, l_) for (m_, l_) in gen_ml(N)])\n",
    "\n",
    "    for m in range(N+1):\n",
    "\n",
    "        n = m\n",
    "        ml.remove((m,n))\n",
    "        stop, p0 = eq13(N, m, n, amm[m], cx)\n",
    "        if stop:\n",
    "            break\n",
    "\n",
    "        n += 1\n",
    "        ml.remove((m,n))\n",
    "        p1 = amn(m, n) * cx * p0 # eq 14\n",
    "        check_Pmn(p1, m, n, cx)\n",
    "        if n == N:\n",
    "            continue\n",
    "\n",
    "        n += 1\n",
    "        ml.remove((m,n))\n",
    "        p2 = amn(m, n)*cx*p1 + bmn(m, n)*p0 # eq 15\n",
    "        check_Pmn(p2, m, n, cx)\n",
    "        if n == N:\n",
    "            continue\n",
    "\n",
    "        while n < N:\n",
    "            p0, p1 = p1, p2\n",
    "            n += 1\n",
    "            ml.remove((m,n))\n",
    "            p2 = amn(m, n)*cx*p1 + bmn(m, n)*p0 # eq 15\n",
    "            check_Pmn(p2, m, n, cx)\n",
    "            print(m, n, p2.shape)\n",
    "\n",
    "    assert(len(ml) == 0)\n",
    "\n",
    "test_Pmn_recursion()"
   ]
  },
  {
   "cell_type": "code",
   "execution_count": 3,
   "id": "35d01424",
   "metadata": {
    "ExecuteTime": {
     "end_time": "2022-12-14T17:55:02.374096Z",
     "start_time": "2022-12-14T17:55:02.368627Z"
    }
   },
   "outputs": [
    {
     "data": {
      "text/plain": [
       "array([ 1.00000000e+00,  9.95184727e-01,  9.80785280e-01,  9.56940336e-01,\n",
       "        9.23879533e-01,  8.81921264e-01,  8.31469612e-01,  7.73010453e-01,\n",
       "        7.07106781e-01,  6.34393284e-01,  5.55570233e-01,  4.71396737e-01,\n",
       "        3.82683432e-01,  2.90284677e-01,  1.95090322e-01,  9.80171403e-02,\n",
       "        6.12323400e-17, -9.80171403e-02, -1.95090322e-01, -2.90284677e-01,\n",
       "       -3.82683432e-01, -4.71396737e-01, -5.55570233e-01, -6.34393284e-01,\n",
       "       -7.07106781e-01, -7.73010453e-01, -8.31469612e-01, -8.81921264e-01,\n",
       "       -9.23879533e-01, -9.56940336e-01, -9.80785280e-01, -9.95184727e-01])"
      ]
     },
     "execution_count": 3,
     "metadata": {},
     "output_type": "execute_result"
    }
   ],
   "source": [
    "all_amm(10)\n",
    "lat_grid(32)"
   ]
  },
  {
   "cell_type": "code",
   "execution_count": 4,
   "id": "f188e248",
   "metadata": {
    "ExecuteTime": {
     "end_time": "2022-12-14T17:55:02.384089Z",
     "start_time": "2022-12-14T17:55:02.377454Z"
    }
   },
   "outputs": [
    {
     "name": "stdout",
     "output_type": "stream",
     "text": [
      "0 3 (32,)\n",
      "0 4 (32,)\n",
      "0 5 (32,)\n",
      "0 6 (32,)\n",
      "0 7 (32,)\n",
      "0 8 (32,)\n",
      "0 9 (32,)\n",
      "0 10 (32,)\n",
      "1 4 (32,)\n",
      "1 5 (32,)\n",
      "1 6 (32,)\n",
      "1 7 (32,)\n",
      "1 8 (32,)\n",
      "1 9 (32,)\n",
      "1 10 (32,)\n",
      "2 5 (32,)\n",
      "2 6 (32,)\n",
      "2 7 (32,)\n",
      "2 8 (32,)\n",
      "2 9 (32,)\n",
      "2 10 (32,)\n",
      "3 6 (32,)\n",
      "3 7 (32,)\n",
      "3 8 (32,)\n",
      "3 9 (32,)\n",
      "3 10 (32,)\n",
      "4 7 (32,)\n",
      "4 8 (32,)\n",
      "4 9 (32,)\n",
      "4 10 (32,)\n",
      "5 8 (32,)\n",
      "5 9 (32,)\n",
      "5 10 (32,)\n",
      "6 9 (32,)\n",
      "6 10 (32,)\n",
      "7 10 (32,)\n"
     ]
    }
   ],
   "source": [
    "test_Pmn_recursion()"
   ]
  },
  {
   "cell_type": "markdown",
   "id": "3f4f08a6",
   "metadata": {},
   "source": [
    "All seems fine, let's do some timing with Numba to see how the JIT does with it, then Jax."
   ]
  },
  {
   "cell_type": "code",
   "execution_count": 5,
   "id": "54ba5fcf",
   "metadata": {
    "ExecuteTime": {
     "end_time": "2022-12-14T17:55:07.694383Z",
     "start_time": "2022-12-14T17:55:02.386268Z"
    }
   },
   "outputs": [
    {
     "name": "stdout",
     "output_type": "stream",
     "text": [
      "408 µs ± 1.06 µs per loop (mean ± std. dev. of 7 runs, 1,000 loops each)\n",
      "2.14 µs ± 9.13 ns per loop (mean ± std. dev. of 7 runs, 100,000 loops each)\n"
     ]
    }
   ],
   "source": [
    "import numba\n",
    "\n",
    "@numba.njit\n",
    "def all_amm_jitable(amm_out):\n",
    "    # N = amm_out.size - 1\n",
    "    for m in range(amm_out.size):\n",
    "        el = numba.float64(1.0)\n",
    "        for k in range(1,m+1):\n",
    "            el *= (2*k+1)/(2*k)\n",
    "        el /= 4*np.pi\n",
    "        amm_out[m] = np.sqrt(el)\n",
    "\n",
    "        \n",
    "amm1 = all_amm(70)\n",
    "amm2 = np.zeros_like(amm1)\n",
    "all_amm_jitable(amm2)\n",
    "np.testing.assert_allclose(amm1, amm2)\n",
    "%timeit all_amm(70)\n",
    "%timeit all_amm_jitable(amm2)"
   ]
  },
  {
   "cell_type": "code",
   "execution_count": 6,
   "id": "3676eecc",
   "metadata": {
    "ExecuteTime": {
     "end_time": "2022-12-14T17:55:07.697768Z",
     "start_time": "2022-12-14T17:55:07.695210Z"
    }
   },
   "outputs": [],
   "source": [
    "@numba.njit\n",
    "def amn(m, n):\n",
    "    nom = 4*n*n - 1\n",
    "    den = n*n - m*m\n",
    "    out = np.sqrt(nom/den)\n",
    "    return out\n",
    "\n",
    "@numba.njit\n",
    "def bmn(m, n):\n",
    "    l = (2*n + 1)/(2*n - 3)\n",
    "    r = ((n - 1)*(n - 1) - m*m)/(n*n - m*m)\n",
    "    return - np.sqrt(l*r)\n",
    "\n",
    "def lat_grid(nlat):\n",
    "    x = np.r_[:nlat] / nlat * np.pi\n",
    "    cx = np.cos(x)\n",
    "    return cx"
   ]
  },
  {
   "cell_type": "markdown",
   "id": "0c16e7d1",
   "metadata": {},
   "source": [
    "So the recursion would look like this,"
   ]
  },
  {
   "cell_type": "code",
   "execution_count": 7,
   "id": "1a38e36c",
   "metadata": {
    "ExecuteTime": {
     "end_time": "2022-12-14T17:55:07.701600Z",
     "start_time": "2022-12-14T17:55:07.698456Z"
    }
   },
   "outputs": [],
   "source": [
    "@numba.njit\n",
    "def Pmn_recursion(amm, cx):\n",
    "    N = amm.size - 1  # lmax\n",
    "    nlat = cx.size\n",
    "    # since cx is a vector, this is vectorized over latitudes\n",
    "    for m in range(N+1):\n",
    "        # eq 13\n",
    "        n = m\n",
    "        p0 = amm[m]*(1 - cx*cx)**(m/2)*(-1)**m\n",
    "        if n == N:\n",
    "            break\n",
    "        # eq 14\n",
    "        n += 1\n",
    "        p1 = amn(m, n) * cx * p0\n",
    "        if n == N:\n",
    "            continue\n",
    "        # eq 15 base case\n",
    "        n += 1\n",
    "        p2 = amn(m, n)*cx*p1 + bmn(m, n)*p0\n",
    "        if n == N:\n",
    "            continue\n",
    "        # eq 15 iterate\n",
    "        while n < N:\n",
    "            p0, p1 = p1, p2\n",
    "            n += 1\n",
    "            p2 = amn(m, n)*cx*p1 + bmn(m, n)*p0"
   ]
  },
  {
   "cell_type": "markdown",
   "id": "b6c50e32",
   "metadata": {},
   "source": [
    "But that doesn't do the transform, and it's easy to forgot exactly how it works, so let's step through it.  We need to input the FFT'd spatial data before walking through the Pmn recursion.\n",
    "\n",
    "What does that look like? Let's take randn noise, truncated with the SHT, so it can be fully represented by the SHT:"
   ]
  },
  {
   "cell_type": "code",
   "execution_count": 8,
   "id": "35090391",
   "metadata": {
    "ExecuteTime": {
     "end_time": "2022-12-14T17:55:07.706499Z",
     "start_time": "2022-12-14T17:55:07.702389Z"
    }
   },
   "outputs": [],
   "source": [
    "sht = shtns.sht(lmax=31)\n",
    "sht.set_grid(nlat=32, nphi=64)\n",
    "x0 = sht.synth(sht.analys(np.random.randn(32,64)))\n",
    "np.testing.assert_allclose(x0, sht.synth(sht.analys(x0)))"
   ]
  },
  {
   "cell_type": "markdown",
   "id": "542ea887",
   "metadata": {},
   "source": [
    "That field looks like this:"
   ]
  },
  {
   "cell_type": "code",
   "execution_count": 9,
   "id": "39d78a65",
   "metadata": {
    "ExecuteTime": {
     "end_time": "2022-12-14T17:55:07.773953Z",
     "start_time": "2022-12-14T17:55:07.707575Z"
    }
   },
   "outputs": [
    {
     "data": {
      "image/png": "[encoded data removed]",
      "text/plain": [
       "<Figure size 640x480 with 1 Axes>"
      ]
     },
     "metadata": {},
     "output_type": "display_data"
    }
   ],
   "source": [
    "imshow(x0); xlabel('longitude'), ylabel('latitude');"
   ]
  },
  {
   "cell_type": "markdown",
   "id": "d7cf37f0",
   "metadata": {},
   "source": [
    "Next is the FFT (for real valued data) over rows of this matrix, i.e. longitudes, i.e. an NFFT of length 64,"
   ]
  },
  {
   "cell_type": "code",
   "execution_count": 10,
   "id": "624562a6",
   "metadata": {
    "ExecuteTime": {
     "end_time": "2022-12-14T17:55:07.842212Z",
     "start_time": "2022-12-14T17:55:07.776178Z"
    }
   },
   "outputs": [
    {
     "data": {
      "text/plain": [
       "(<matplotlib.image.AxesImage at 0x12c20a6e0>,\n",
       " Text(0, 0.5, 'latitudes'),\n",
       " Text(0.5, 0, 'm (longitudinal frequencies)'))"
      ]
     },
     "execution_count": 10,
     "metadata": {},
     "output_type": "execute_result"
    },
    {
     "data": {
      "image/png": "[encoded data removed]",
      "text/plain": [
       "<Figure size 640x480 with 1 Axes>"
      ]
     },
     "metadata": {},
     "output_type": "display_data"
    }
   ],
   "source": [
    "ft_x0 = np.fft.rfft(x0, axis=1)\n",
    "imshow(np.abs(ft_x0)), ylabel('latitudes'), xlabel('m (longitudinal frequencies)')"
   ]
  },
  {
   "cell_type": "markdown",
   "id": "eaaabb3f",
   "metadata": {},
   "source": [
    "The second transform is the Legendre transform on the columns of this matrix, though the result is not usually stored as a matrix (like for 2-D FFT).  For each SH mode (l, m), we need to take product of the Pmn coefficients with the matrix column.  In code,"
   ]
  },
  {
   "cell_type": "code",
   "execution_count": 11,
   "id": "2989ad13",
   "metadata": {
    "ExecuteTime": {
     "end_time": "2022-12-14T17:55:07.845672Z",
     "start_time": "2022-12-14T17:55:07.843106Z"
    }
   },
   "outputs": [
    {
     "data": {
      "text/plain": [
       "528"
      ]
     },
     "execution_count": 11,
     "metadata": {},
     "output_type": "execute_result"
    }
   ],
   "source": [
    "len(gen_ml(31))"
   ]
  },
  {
   "cell_type": "code",
   "execution_count": 24,
   "id": "f868cb55",
   "metadata": {
    "ExecuteTime": {
     "end_time": "2022-12-14T18:06:10.609608Z",
     "start_time": "2022-12-14T18:06:03.395153Z"
    }
   },
   "outputs": [
    {
     "name": "stdout",
     "output_type": "stream",
     "text": [
      "62.5 µs ± 116 ns per loop (mean ± std. dev. of 7 runs, 10,000 loops each)\n",
      "2.16 ms ± 1.8 µs per loop (mean ± std. dev. of 7 runs, 100 loops each)\n"
     ]
    }
   ],
   "source": [
    "@numba.njit#(boundscheck=True)\n",
    "def apply_pmn(p, x):\n",
    "#     assert p.size == x.size, f'{p.size} != {x.size}'\n",
    "    acc = numba.complex128(0.0)\n",
    "    for i in range(x.size):\n",
    "        acc += p[i] * x[i]\n",
    "    return acc\n",
    "\n",
    "@numba.njit#(boundscheck=True)\n",
    "def sht_pmn_recur(q_out, ft_x, amm, cx):\n",
    "    N = amm.size - 1  # lmax\n",
    "    nlat = cx.size\n",
    "    o = 0\n",
    "    # since cx is a vector, this is vectorized over latitudes\n",
    "    for m in range(N+1):\n",
    "        # eq 13\n",
    "        n = m\n",
    "        p0 = amm[m]*(1 - cx*cx)**(m/2)*(-1)**m\n",
    "        q_out[o] = apply_pmn(p0, ft_x[:,m]); o+=1\n",
    "        if n == N:\n",
    "            break\n",
    "        # eq 14\n",
    "        n += 1\n",
    "        p1 = amn(m, n) * cx * p0\n",
    "        q_out[o] = apply_pmn(p1, ft_x[:,m]); o+=1\n",
    "        if n == N:\n",
    "            continue\n",
    "        # eq 15 base case\n",
    "        n += 1\n",
    "        p2 = amn(m, n)*cx*p1 + bmn(m, n)*p0\n",
    "        q_out[o] = apply_pmn(p2, ft_x[:,m]); o+=1\n",
    "        if n == N:\n",
    "            continue\n",
    "        # eq 15 iterate\n",
    "        while n < N:\n",
    "            p0, p1 = p1, p2\n",
    "            n += 1\n",
    "            p2 = amn(m, n)*cx*p1 + bmn(m, n)*p0\n",
    "            q_out[o] = apply_pmn(p2, ft_x[:,m]); o+=1\n",
    "\n",
    "lmax, nlat, nlon = 31, 32, 64\n",
    "ft_x0 = np.fft.rfft(np.random.randn(nlat, nlon), axis=1)\n",
    "q = np.zeros(len(gen_ml(lmax)), np.complex128)\n",
    "cx = lat_grid(nlat)\n",
    "amm = all_amm(lmax)\n",
    "sht_pmn_recur(q, ft_x0, amm, cx)\n",
    "%timeit sht_pmn_recur(q, ft_x0, amm, cx)\n",
    "\n",
    "lmax, nlat, nlon = 127, 128, 256\n",
    "ft_x0 = np.fft.rfft(np.random.randn(nlat, nlon), axis=1)\n",
    "q = np.zeros(len(gen_ml(lmax)), np.complex128)\n",
    "cx = lat_grid(nlat)\n",
    "amm = all_amm(lmax)\n",
    "sht_pmn_recur(q, ft_x0, amm, cx)\n",
    "%timeit sht_pmn_recur(q, ft_x0, amm, cx)"
   ]
  },
  {
   "cell_type": "markdown",
   "id": "e5fe2048",
   "metadata": {},
   "source": [
    "Compare this with the matrix form,"
   ]
  },
  {
   "cell_type": "code",
   "execution_count": 27,
   "id": "b54bcefc",
   "metadata": {
    "ExecuteTime": {
     "end_time": "2022-12-14T18:14:05.995825Z",
     "start_time": "2022-12-14T18:13:59.283203Z"
    }
   },
   "outputs": [
    {
     "name": "stdout",
     "output_type": "stream",
     "text": [
      "benching\n",
      "43.9 µs ± 372 ns per loop (mean ± std. dev. of 7 runs, 10,000 loops each)\n",
      "30.9 µs ± 60.3 ns per loop (mean ± std. dev. of 7 runs, 10,000 loops each)\n"
     ]
    }
   ],
   "source": [
    "import nfjax.shtlc as lc\n",
    "\n",
    "lmax, nlat, nlon = 31, 32, 64\n",
    "f1 = lc.make_shtdiff(lmax, nlat, nlon, -1e-4)\n",
    "f2,_ = lc.make_shtdiff_jax(lmax, nlat, nlon, -1e-4)\n",
    "x0 = np.random.randn(nlat, nlon)\n",
    "print('benching')\n",
    "f1(x0), f2(x0)\n",
    "%timeit f1(x0)\n",
    "%timeit f2(x0)"
   ]
  },
  {
   "cell_type": "code",
   "execution_count": 28,
   "id": "f37253fa",
   "metadata": {
    "ExecuteTime": {
     "end_time": "2022-12-14T18:20:34.046546Z",
     "start_time": "2022-12-14T18:14:09.909094Z"
    }
   },
   "outputs": [],
   "source": [
    "lmax, nlat, nlon = 127, 128, 256\n",
    "f1 = lc.make_shtdiff(lmax, nlat, nlon, -1e-4)\n",
    "f2,_ = lc.make_shtdiff_jax(lmax, nlat, nlon, -1e-4)\n",
    "x0 = np.random.randn(nlat, nlon)"
   ]
  },
  {
   "cell_type": "code",
   "execution_count": 29,
   "id": "01319d86",
   "metadata": {
    "ExecuteTime": {
     "end_time": "2022-12-14T18:20:37.893559Z",
     "start_time": "2022-12-14T18:20:34.239050Z"
    }
   },
   "outputs": [
    {
     "name": "stdout",
     "output_type": "stream",
     "text": [
      "benching\n",
      "2.09 ms ± 105 µs per loop (mean ± std. dev. of 7 runs, 100 loops each)\n",
      "2.13 ms ± 5.8 µs per loop (mean ± std. dev. of 7 runs, 100 loops each)\n"
     ]
    }
   ],
   "source": [
    "print('benching')\n",
    "f1(x0), f2(x0)\n",
    "%timeit f1(x0)\n",
    "%timeit f2(x0)"
   ]
  },
  {
   "cell_type": "markdown",
   "id": "107ee01d",
   "metadata": {},
   "source": [
    "It seems that for very large grid sizes, the recurrence relations would scale better, but these sizes are likely larger than what we encounter in inference, since we need to keep the evaluation time."
   ]
  },
  {
   "cell_type": "code",
   "execution_count": null,
   "id": "3dac5061",
   "metadata": {},
   "outputs": [],
   "source": []
  }
 ],
 "metadata": {
  "kernelspec": {
   "display_name": "Python 3 (ipykernel)",
   "language": "python",
   "name": "python3"
  },
  "language_info": {
   "codemirror_mode": {
    "name": "ipython",
    "version": 3
   },
   "file_extension": ".py",
   "mimetype": "text/x-python",
   "name": "python",
   "nbconvert_exporter": "python",
   "pygments_lexer": "ipython3",
   "version": "3.10.8"
  },
  "varInspector": {
   "cols": {
    "lenName": 16,
    "lenType": 16,
    "lenVar": 40
   },
   "kernels_config": {
    "python": {
     "delete_cmd_postfix": "",
     "delete_cmd_prefix": "del ",
     "library": "var_list.py",
     "varRefreshCmd": "print(var_dic_list())"
    },
    "r": {
     "delete_cmd_postfix": ") ",
     "delete_cmd_prefix": "rm(",
     "library": "var_list.r",
     "varRefreshCmd": "cat(var_dic_list()) "
    }
   },
   "types_to_exclude": [
    "module",
    "function",
    "builtin_function_or_method",
    "instance",
    "_Feature"
   ],
   "window_display": false
  }
 },
 "nbformat": 4,
 "nbformat_minor": 5
}
