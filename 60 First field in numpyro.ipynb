{
 "cells": [
  {
   "cell_type": "code",
   "execution_count": 1,
   "id": "9688be13",
   "metadata": {
    "ExecuteTime": {
     "end_time": "2022-12-15T16:55:55.145592Z",
     "start_time": "2022-12-15T16:55:54.494072Z"
    }
   },
   "outputs": [
    {
     "name": "stdout",
     "output_type": "stream",
     "text": [
      "%pylab is deprecated, use %matplotlib inline and import the required libraries.\n",
      "Populating the interactive namespace from numpy and matplotlib\n"
     ]
    },
    {
     "name": "stderr",
     "output_type": "stream",
     "text": [
      "/Users/duke/.local/share/virtualenvs/nfjax-Y-MGz7Lr/lib/python3.10/site-packages/tqdm/auto.py:22: TqdmWarning: IProgress not found. Please update jupyter and ipywidgets. See https://ipywidgets.readthedocs.io/en/stable/user_install.html\n",
      "  from .autonotebook import tqdm as notebook_tqdm\n"
     ]
    }
   ],
   "source": [
    "%pylab inline\n",
    "%load_ext autoreload\n",
    "%autoreload 2\n",
    "import numpy as np\n",
    "import numpyro\n",
    "import jax\n",
    "import jax.numpy as jnp\n",
    "from numpyro.infer import MCMC, NUTS, SVI, Trace_ELBO\n",
    "import nfjax.shtlc as lc\n",
    "import autograd\n",
    "import autograd.numpy as anp"
   ]
  },
  {
   "cell_type": "markdown",
   "id": "bc28d126",
   "metadata": {},
   "source": [
    "Setup the model"
   ]
  },
  {
   "cell_type": "code",
   "execution_count": 2,
   "id": "daabb9a2",
   "metadata": {
    "ExecuteTime": {
     "end_time": "2022-12-15T16:56:08.594595Z",
     "start_time": "2022-12-15T16:55:55.334064Z"
    }
   },
   "outputs": [
    {
     "name": "stdout",
     "output_type": "stream",
     "text": [
      "0.0 362460.4\n",
      "12.4 ms ± 26.7 µs per loop (mean ± std. dev. of 7 runs, 100 loops each)\n",
      "29.4 ms ± 77.6 µs per loop (mean ± std. dev. of 7 runs, 10 loops each)\n"
     ]
    }
   ],
   "source": [
    "lmax, nlat, nlon, D = 31, 32, 64, 0.0004\n",
    "_, L = lc.make_shtdiff(lmax=lmax, nlat=nlat, nlon=nlon, D=D, return_L=True, np=anp)\n",
    "np.testing.assert_equal(0, L.imag)\n",
    "L = L.real.astype('f')\n",
    "\n",
    "def apply_L(L, x, np=jnp):\n",
    "    X = np.fft.rfft(x, axis=1)\n",
    "    X = np.hstack(\n",
    "        (np.einsum('abc,ca->ba', L, X[:,:lmax]),\n",
    "         np.zeros((X.shape[0], X.shape[1] - lmax), jnp.complex64)\n",
    "        )\n",
    "    )\n",
    "    y = np.real(np.fft.irfft(X, axis=1))\n",
    "    return y\n",
    "\n",
    "x0 = jnp.array(np.random.randn(nlat, nlon).astype('f'))\n",
    "x1 = apply_L(L, x0)\n",
    "\n",
    "ts = jnp.r_[:500]*0.1\n",
    "k = 0.2\n",
    "\n",
    "@jax.jit\n",
    "def simulate(ts, x0, k):\n",
    "    dt = ts[1] - ts[0]\n",
    "    def f(x, t):\n",
    "        lx = 3.14*x + apply_L(L, x, np=jnp)\n",
    "        x = x + dt * (-x + k * lx)\n",
    "        return x, x\n",
    "    _, x_t = jax.lax.scan(f, x0, ts)\n",
    "    return x_t\n",
    "\n",
    "xt = simulate(ts, x0, k)\n",
    "\n",
    "@jax.jit\n",
    "def loss(x0h):\n",
    "    xth = simulate(ts, x0h, k)\n",
    "    sse = jnp.sum(jnp.square(xt - xth))\n",
    "    return sse\n",
    "\n",
    "x0h = jnp.ones_like(x0)\n",
    "print(loss(x0), loss(x0h))\n",
    "\n",
    "g = jax.jit(jax.grad(loss))\n",
    "g(x0h)\n",
    "%timeit simulate(ts, x0, k)\n",
    "%timeit g(x0h)"
   ]
  },
  {
   "cell_type": "code",
   "execution_count": 3,
   "id": "9ea641d6",
   "metadata": {
    "ExecuteTime": {
     "end_time": "2022-12-15T16:56:12.749850Z",
     "start_time": "2022-12-15T16:56:12.629056Z"
    }
   },
   "outputs": [
    {
     "data": {
      "text/plain": [
       "<matplotlib.image.AxesImage at 0x12765d4b0>"
      ]
     },
     "execution_count": 3,
     "metadata": {},
     "output_type": "execute_result"
    },
    {
     "data": {
      "image/png": "[encoded data removed]",
      "text/plain": [
       "<Figure size 640x480 with 1 Axes>"
      ]
     },
     "metadata": {},
     "output_type": "display_data"
    }
   ],
   "source": [
    "imshow(x0)"
   ]
  },
  {
   "cell_type": "markdown",
   "id": "ba2bb263",
   "metadata": {},
   "source": [
    "To use NumPyro we need a target function,"
   ]
  },
  {
   "cell_type": "code",
   "execution_count": 4,
   "id": "e3b34441",
   "metadata": {
    "ExecuteTime": {
     "end_time": "2022-12-15T16:56:16.965847Z",
     "start_time": "2022-12-15T16:56:16.939786Z"
    }
   },
   "outputs": [],
   "source": [
    "import numpyro.distributions as dist"
   ]
  },
  {
   "cell_type": "code",
   "execution_count": 6,
   "id": "6ab7e835",
   "metadata": {
    "ExecuteTime": {
     "end_time": "2022-12-15T16:56:43.367813Z",
     "start_time": "2022-12-15T16:56:43.341987Z"
    }
   },
   "outputs": [],
   "source": [
    "def logp(xt=None):\n",
    "    x0h = numpyro.sample('x0h', dist.Normal(jnp.zeros((nlat, nlon)), 1))\n",
    "    xth_mu = simulate(ts, x0h, k)\n",
    "    numpyro.sample('xth', dist.Normal(xth_mu, 1), obs=xt)"
   ]
  },
  {
   "cell_type": "code",
   "execution_count": 7,
   "id": "b33a56e1",
   "metadata": {
    "ExecuteTime": {
     "end_time": "2022-12-15T16:57:55.053306Z",
     "start_time": "2022-12-15T16:56:48.928652Z"
    }
   },
   "outputs": [
    {
     "name": "stderr",
     "output_type": "stream",
     "text": [
      "sample: 100%|████████| 150/150 [01:05<00:00,  2.30it/s, 15 steps of size 1.29e-03. acc. prob=0.76]\n"
     ]
    }
   ],
   "source": [
    "nuts_kernel = NUTS(logp, max_tree_depth=4)\n",
    "mcmc = MCMC(nuts_kernel, num_warmup=50, num_samples=100)\n",
    "rng_key = jax.random.PRNGKey(0)\n",
    "mcmc.run(rng_key, xt=xt)"
   ]
  },
  {
   "cell_type": "code",
   "execution_count": 8,
   "id": "435d6420",
   "metadata": {
    "ExecuteTime": {
     "end_time": "2022-12-15T17:00:48.171017Z",
     "start_time": "2022-12-15T17:00:48.119776Z"
    }
   },
   "outputs": [],
   "source": [
    "samples = mcmc.get_samples()"
   ]
  },
  {
   "cell_type": "code",
   "execution_count": 16,
   "id": "a24b676a",
   "metadata": {
    "ExecuteTime": {
     "end_time": "2022-12-15T17:02:43.485959Z",
     "start_time": "2022-12-15T17:02:43.350165Z"
    }
   },
   "outputs": [
    {
     "data": {
      "image/png": "[encoded data removed]",
      "text/plain": [
       "<Figure size 640x480 with 2 Axes>"
      ]
     },
     "metadata": {},
     "output_type": "display_data"
    }
   ],
   "source": [
    "x0h = samples['x0h']\n",
    "imshow(np.log(np.abs((x0 - x0h.mean(axis=0))/x0h.std(axis=0))))\n",
    "colorbar(), title('log abs z-score true x0');"
   ]
  },
  {
   "cell_type": "markdown",
   "id": "a9c6062e",
   "metadata": {},
   "source": [
    "Not great result is expected from such a short NUTS run."
   ]
  }
 ],
 "metadata": {
  "kernelspec": {
   "display_name": "Python 3 (ipykernel)",
   "language": "python",
   "name": "python3"
  },
  "language_info": {
   "codemirror_mode": {
    "name": "ipython",
    "version": 3
   },
   "file_extension": ".py",
   "mimetype": "text/x-python",
   "name": "python",
   "nbconvert_exporter": "python",
   "pygments_lexer": "ipython3",
   "version": "3.10.8"
  },
  "varInspector": {
   "cols": {
    "lenName": 16,
    "lenType": 16,
    "lenVar": 40
   },
   "kernels_config": {
    "python": {
     "delete_cmd_postfix": "",
     "delete_cmd_prefix": "del ",
     "library": "var_list.py",
     "varRefreshCmd": "print(var_dic_list())"
    },
    "r": {
     "delete_cmd_postfix": ") ",
     "delete_cmd_prefix": "rm(",
     "library": "var_list.r",
     "varRefreshCmd": "cat(var_dic_list()) "
    }
   },
   "types_to_exclude": [
    "module",
    "function",
    "builtin_function_or_method",
    "instance",
    "_Feature"
   ],
   "window_display": false
  }
 },
 "nbformat": 4,
 "nbformat_minor": 5
}
