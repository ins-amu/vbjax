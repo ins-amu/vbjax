{
 "cells": [
  {
   "cell_type": "markdown",
   "id": "7f7bb2e5",
   "metadata": {},
   "source": [
    "## Import dependencies"
   ]
  },
  {
   "cell_type": "code",
   "execution_count": 2,
   "id": "9688be13",
   "metadata": {
    "ExecuteTime": {
     "end_time": "2022-12-15T20:38:17.173803Z",
     "start_time": "2022-12-15T20:38:16.553844Z"
    }
   },
   "outputs": [
    {
     "name": "stdout",
     "output_type": "stream",
     "text": [
      "%pylab is deprecated, use %matplotlib inline and import the required libraries.\n",
      "Populating the interactive namespace from numpy and matplotlib\n",
      "** shtns is not available\n"
     ]
    },
    {
     "name": "stderr",
     "output_type": "stream",
     "text": [
      "/home/duke/.local/share/virtualenvs/nfjax-hSaP3GD-/lib/python3.10/site-packages/tqdm/auto.py:22: TqdmWarning: IProgress not found. Please update jupyter and ipywidgets. See https://ipywidgets.readthedocs.io/en/stable/user_install.html\n",
      "  from .autonotebook import tqdm as notebook_tqdm\n"
     ]
    }
   ],
   "source": [
    "%pylab inline\n",
    "%load_ext autoreload\n",
    "%autoreload 2\n",
    "import numpy as np\n",
    "import numpyro\n",
    "import jax\n",
    "import jax.numpy as jnp\n",
    "from numpyro.infer import MCMC, NUTS, SVI, Trace_ELBO\n",
    "\n",
    "import nfjax"
   ]
  },
  {
   "cell_type": "markdown",
   "id": "bc28d126",
   "metadata": {},
   "source": [
    "## Setup the model\n",
    "\n",
    "Now we can setup a single sphere field model and run a simulation:"
   ]
  },
  {
   "cell_type": "code",
   "execution_count": 7,
   "id": "57cd5c0c",
   "metadata": {
    "ExecuteTime": {
     "end_time": "2022-12-16T08:59:03.074874Z",
     "start_time": "2022-12-16T08:58:55.578889Z"
    }
   },
   "outputs": [],
   "source": [
    "# local coupling\n",
    "lmax, nlat, nlon = 31, 32, 64\n",
    "lc = nfjax.make_shtdiff(lmax=lmax, nlat=nlat, nlon=nlon)\n",
    "\n",
    "# initial conditions\n",
    "x0 = jax.random.normal(jax.random.PRNGKey(42), (nlat, nlon))\n",
    "x1 = lc(x0)\n",
    "\n",
    "# time grid & coupling strength\n",
    "ts = jnp.r_[:100]*0.01\n",
    "_, run = nfjax.make_ode(0.01, lambda x, k: -x + k*lc(x))\n",
    "k = 1.0\n",
    "\n",
    "# simulated time series\n",
    "xt = run(x0, ts, k)"
   ]
  },
  {
   "cell_type": "markdown",
   "id": "b149274e",
   "metadata": {},
   "source": [
    "Next we construct a simple sum squared loss function, of the model against its own time series:"
   ]
  },
  {
   "cell_type": "code",
   "execution_count": 10,
   "id": "7d8e4e5f",
   "metadata": {
    "ExecuteTime": {
     "end_time": "2022-12-16T08:59:03.074874Z",
     "start_time": "2022-12-16T08:58:55.578889Z"
    }
   },
   "outputs": [],
   "source": [
    "@jax.jit\n",
    "def loss(x0h):\n",
    "    xth = run(x0h, ts, k)\n",
    "    sse = jnp.sum(jnp.square(xt - xth))\n",
    "    return sse\n",
    "\n",
    "x0h = jnp.ones_like(x0)\n",
    "assert loss(x0) == 0.0\n",
    "assert loss(x0h) > 0"
   ]
  },
  {
   "cell_type": "markdown",
   "id": "94b426a0",
   "metadata": {},
   "source": [
    "We can check some timings to see how long individual gradients take:"
   ]
  },
  {
   "cell_type": "code",
   "execution_count": 12,
   "id": "daabb9a2",
   "metadata": {
    "ExecuteTime": {
     "end_time": "2022-12-16T08:59:03.074874Z",
     "start_time": "2022-12-16T08:58:55.578889Z"
    }
   },
   "outputs": [
    {
     "name": "stdout",
     "output_type": "stream",
     "text": [
      "10.2 ms ± 644 µs per loop (mean ± std. dev. of 7 runs, 100 loops each)\n",
      "23.9 ms ± 3.33 ms per loop (mean ± std. dev. of 7 runs, 10 loops each)\n"
     ]
    }
   ],
   "source": [
    "g = jax.jit(jax.grad(loss))\n",
    "g(x0h);\n",
    "%timeit run(x0h, ts, k)\n",
    "%timeit g(x0h)"
   ]
  },
  {
   "cell_type": "markdown",
   "id": "c7fabe97",
   "metadata": {},
   "source": [
    "Now we have a working model set up, we can create a specific parameter map to recover:"
   ]
  },
  {
   "cell_type": "code",
   "execution_count": 17,
   "id": "9ea641d6",
   "metadata": {
    "ExecuteTime": {
     "end_time": "2022-12-16T08:59:18.039999Z",
     "start_time": "2022-12-16T08:59:17.922755Z"
    }
   },
   "outputs": [
    {
     "data": {
      "text/plain": [
       "<matplotlib.image.AxesImage at 0x7f19293c66e0>"
      ]
     },
     "execution_count": 17,
     "metadata": {},
     "output_type": "execute_result"
    },
    {
     "data": {
      "image/png": "[encoded data removed]",
      "text/plain": [
       "<Figure size 640x480 with 1 Axes>"
      ]
     },
     "metadata": {},
     "output_type": "display_data"
    }
   ],
   "source": [
    "x0 = x0.at[:15,:15].set(3.0)\n",
    "imshow(x0)"
   ]
  },
  {
   "cell_type": "code",
   "execution_count": 23,
   "id": "48196d22",
   "metadata": {
    "ExecuteTime": {
     "end_time": "2022-12-16T08:59:20.802664Z",
     "start_time": "2022-12-16T08:59:20.769412Z"
    }
   },
   "outputs": [
    {
     "data": {
      "text/plain": [
       "<matplotlib.image.AxesImage at 0x7f1928842440>"
      ]
     },
     "execution_count": 23,
     "metadata": {},
     "output_type": "execute_result"
    },
    {
     "data": {
      "image/png": "[encoded data removed]",
      "text/plain": [
       "<Figure size 640x480 with 1 Axes>"
      ]
     },
     "metadata": {},
     "output_type": "display_data"
    }
   ],
   "source": [
    "xt = run(x0, ts, k)\n",
    "imshow(xt[99])"
   ]
  },
  {
   "cell_type": "markdown",
   "id": "19afb6d1",
   "metadata": {
    "ExecuteTime": {
     "end_time": "2022-12-16T08:59:21.389363Z",
     "start_time": "2022-12-16T08:59:21.284726Z"
    }
   },
   "source": [
    "To use NumPyro we need a target function,"
   ]
  },
  {
   "cell_type": "code",
   "execution_count": 26,
   "id": "e3b34441",
   "metadata": {
    "ExecuteTime": {
     "end_time": "2022-12-16T08:59:23.940117Z",
     "start_time": "2022-12-16T08:59:23.914697Z"
    }
   },
   "outputs": [],
   "source": [
    "import numpyro.distributions as dist"
   ]
  },
  {
   "cell_type": "markdown",
   "id": "91cedc87",
   "metadata": {},
   "source": [
    "and we adapt our model with some priors,"
   ]
  },
  {
   "cell_type": "code",
   "execution_count": 27,
   "id": "6ab7e835",
   "metadata": {
    "ExecuteTime": {
     "end_time": "2022-12-16T08:59:24.347968Z",
     "start_time": "2022-12-16T08:59:24.318494Z"
    }
   },
   "outputs": [],
   "source": [
    "def logp(xt=None):\n",
    "    x0h = numpyro.sample('x0h', dist.Normal(jnp.zeros((nlat, nlon)), 1))\n",
    "    xth_mu = run(x0h, ts, k)\n",
    "    numpyro.sample('xth', dist.Normal(xth_mu, 1), obs=xt)"
   ]
  },
  {
   "cell_type": "markdown",
   "id": "9ec1733c",
   "metadata": {},
   "source": [
    "and run an MCMC chain w/ NUTS"
   ]
  },
  {
   "cell_type": "code",
   "execution_count": 28,
   "id": "b33a56e1",
   "metadata": {
    "ExecuteTime": {
     "end_time": "2022-12-16T09:06:26.106298Z",
     "start_time": "2022-12-16T08:59:24.810358Z"
    }
   },
   "outputs": [
    {
     "name": "stderr",
     "output_type": "stream",
     "text": [
      "sample: 100%|█████████████████████████████████████████████████████████| 1000/1000 [14:05<00:00,  1.18it/s, 31 steps of size 1.42e-01. acc. prob=0.86]\n"
     ]
    }
   ],
   "source": [
    "nuts_kernel = NUTS(logp)\n",
    "mcmc = MCMC(nuts_kernel, num_warmup=500, num_samples=500)\n",
    "rng_key = jax.random.PRNGKey(0)\n",
    "mcmc.run(rng_key, xt=xt)"
   ]
  },
  {
   "cell_type": "markdown",
   "id": "14740931",
   "metadata": {},
   "source": [
    "## Diagnostics\n",
    "\n",
    "One of the simplest diagnostics is to check that the true values are likely given our posterior,"
   ]
  },
  {
   "cell_type": "code",
   "execution_count": 40,
   "id": "435d6420",
   "metadata": {
    "ExecuteTime": {
     "end_time": "2022-12-15T23:12:13.539158Z",
     "start_time": "2022-12-15T23:12:13.514820Z"
    }
   },
   "outputs": [
    {
     "data": {
      "image/png": "[encoded data removed]",
      "text/plain": [
       "<Figure size 800x200 with 1 Axes>"
      ]
     },
     "metadata": {},
     "output_type": "display_data"
    }
   ],
   "source": [
    "samples = mcmc.get_samples()\n",
    "x0h = samples['x0h']\n",
    "\n",
    "figure(figsize=(8, 2))\n",
    "hist(((x0 - x0h.mean(axis=0))/x0h.std(axis=0)).reshape(-1), 50, density=True)\n",
    "title('ppd(x0)');\n",
    "grid(1)\n",
    "tight_layout()"
   ]
  },
  {
   "cell_type": "markdown",
   "id": "186880d9",
   "metadata": {},
   "source": [
    "The true values are z-scored by the posterior, and since they're centered around 0, we can conclude the chain recovered correct values."
   ]
  }
 ],
 "metadata": {
  "kernelspec": {
   "display_name": "Python 3 (ipykernel)",
   "language": "python",
   "name": "python3"
  },
  "language_info": {
   "codemirror_mode": {
    "name": "ipython",
    "version": 3
   },
   "file_extension": ".py",
   "mimetype": "text/x-python",
   "name": "python",
   "nbconvert_exporter": "python",
   "pygments_lexer": "ipython3",
   "version": "3.10.8"
  },
  "varInspector": {
   "cols": {
    "lenName": 16,
    "lenType": 16,
    "lenVar": 40
   },
   "kernels_config": {
    "python": {
     "delete_cmd_postfix": "",
     "delete_cmd_prefix": "del ",
     "library": "var_list.py",
     "varRefreshCmd": "print(var_dic_list())"
    },
    "r": {
     "delete_cmd_postfix": ") ",
     "delete_cmd_prefix": "rm(",
     "library": "var_list.r",
     "varRefreshCmd": "cat(var_dic_list()) "
    }
   },
   "types_to_exclude": [
    "module",
    "function",
    "builtin_function_or_method",
    "instance",
    "_Feature"
   ],
   "window_display": false
  }
 },
 "nbformat": 4,
 "nbformat_minor": 5
}
