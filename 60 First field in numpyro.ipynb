{
 "cells": [
  {
   "cell_type": "markdown",
   "id": "3c4425ff",
   "metadata": {},
   "source": [
    "## Import dependencies"
   ]
  },
  {
   "cell_type": "code",
   "execution_count": 1,
   "id": "9688be13",
   "metadata": {
    "ExecuteTime": {
     "end_time": "2022-12-15T20:38:17.173803Z",
     "start_time": "2022-12-15T20:38:16.553844Z"
    }
   },
   "outputs": [
    {
     "name": "stdout",
     "output_type": "stream",
     "text": [
      "%pylab is deprecated, use %matplotlib inline and import the required libraries.\n",
      "Populating the interactive namespace from numpy and matplotlib\n",
      "** shtns is not available\n"
     ]
    },
    {
     "name": "stderr",
     "output_type": "stream",
     "text": [
      "/home/duke/.local/share/virtualenvs/nfjax-hSaP3GD-/lib/python3.10/site-packages/tqdm/auto.py:22: TqdmWarning: IProgress not found. Please update jupyter and ipywidgets. See https://ipywidgets.readthedocs.io/en/stable/user_install.html\n",
      "  from .autonotebook import tqdm as notebook_tqdm\n"
     ]
    }
   ],
   "source": [
    "%pylab inline\n",
    "%load_ext autoreload\n",
    "%autoreload 2\n",
    "import numpy as np\n",
    "import numpyro\n",
    "import jax\n",
    "import jax.numpy as jnp\n",
    "from numpyro.infer import MCMC, NUTS, SVI, Trace_ELBO\n",
    "import autograd\n",
    "import autograd.numpy as anp\n",
    "\n",
    "# is part of the nfjax package\n",
    "import nfjax.shtlc as lc"
   ]
  },
  {
   "cell_type": "markdown",
   "id": "bc28d126",
   "metadata": {},
   "source": [
    "## Setup the model"
   ]
  },
  {
   "cell_type": "code",
   "execution_count": 3,
   "id": "daabb9a2",
   "metadata": {
    "ExecuteTime": {
     "end_time": "2022-12-16T08:59:03.074874Z",
     "start_time": "2022-12-16T08:58:55.578889Z"
    }
   },
   "outputs": [
    {
     "name": "stderr",
     "output_type": "stream",
     "text": [
      "No GPU/TPU found, falling back to CPU. (Set TF_CPP_MIN_LOG_LEVEL=0 and rerun for more info.)\n"
     ]
    },
    {
     "name": "stdout",
     "output_type": "stream",
     "text": [
      "0.0 243590.78\n",
      "8.43 ms ± 1.24 ms per loop (mean ± std. dev. of 7 runs, 100 loops each)\n",
      "14.7 ms ± 1.43 ms per loop (mean ± std. dev. of 7 runs, 100 loops each)\n"
     ]
    }
   ],
   "source": [
    "# configuration du modele\n",
    "\n",
    "lmax, nlat, nlon, D = 31, 32, 64, 0.0004\n",
    "\n",
    "# 127, 128, 256 => 64k nodes for both cortices\n",
    "assert nlon == nlat * 2\n",
    "lmax = nlat - 1\n",
    "assert lmax < nlat\n",
    "\n",
    "\n",
    "_, L = lc.make_shtdiff(lmax=lmax, nlat=nlat, nlon=nlon, D=D, return_L=True, np=anp)\n",
    "np.testing.assert_equal(0, L.imag)\n",
    "L = L.real.astype('f')\n",
    "\n",
    "# quelques fonctionne pour la simulation\n",
    "def apply_L(L, x, np=jnp):\n",
    "    X = np.fft.rfft(x, axis=1)\n",
    "    X = np.hstack(\n",
    "        (np.einsum('abc,ca->ba', L, X[:,:lmax]),\n",
    "         np.zeros((X.shape[0], X.shape[1] - lmax), jnp.complex64)\n",
    "        )\n",
    "    )\n",
    "    y = np.real(np.fft.irfft(X, axis=1))\n",
    "    return y\n",
    "\n",
    "x0 = jnp.array(np.random.randn(nlat, nlon).astype('f'))\n",
    "x1 = apply_L(L, x0)\n",
    "\n",
    "ts = jnp.r_[:100]*0.01\n",
    "k = 1.0\n",
    "\n",
    "@jax.jit\n",
    "def simulate(ts, x0, k):\n",
    "    dt = ts[1] - ts[0]\n",
    "    def f(x, t):\n",
    "        lx = apply_L(L, x, np=jnp)\n",
    "        x = x + dt * (-x + k * lx)\n",
    "        return x, x\n",
    "    _, x_t = jax.lax.scan(f, x0, ts)\n",
    "    return x_t\n",
    "\n",
    "xt = simulate(ts, x0, k)\n",
    "\n",
    "@jax.jit\n",
    "def loss(x0h):\n",
    "    xth = simulate(ts, x0h, k)\n",
    "    sse = jnp.sum(jnp.square(xt - xth))\n",
    "    return sse\n",
    "\n",
    "x0h = jnp.ones_like(x0)\n",
    "print(loss(x0), loss(x0h))\n",
    "\n",
    "g = jax.jit(jax.grad(loss))\n",
    "g(x0h);\n",
    "%timeit simulate(ts, x0, k)\n",
    "%timeit g(x0h)"
   ]
  },
  {
   "cell_type": "code",
   "execution_count": 4,
   "id": "9ea641d6",
   "metadata": {
    "ExecuteTime": {
     "end_time": "2022-12-16T08:59:18.039999Z",
     "start_time": "2022-12-16T08:59:17.922755Z"
    }
   },
   "outputs": [
    {
     "data": {
      "text/plain": [
       "<matplotlib.image.AxesImage at 0x7f18d6f57c10>"
      ]
     },
     "execution_count": 4,
     "metadata": {},
     "output_type": "execute_result"
    },
    {
     "data": {
      "image/png": "[encoded data removed]",
      "text/plain": [
       "<Figure size 640x480 with 1 Axes>"
      ]
     },
     "metadata": {},
     "output_type": "display_data"
    }
   ],
   "source": [
    "x0 = x0.at[:15,:15].set(3.0)\n",
    "imshow(x0)"
   ]
  },
  {
   "cell_type": "code",
   "execution_count": 5,
   "id": "48196d22",
   "metadata": {
    "ExecuteTime": {
     "end_time": "2022-12-16T08:59:20.802664Z",
     "start_time": "2022-12-16T08:59:20.769412Z"
    }
   },
   "outputs": [],
   "source": [
    "xt = simulate(ts, x0, k)"
   ]
  },
  {
   "cell_type": "code",
   "execution_count": 6,
   "id": "6c8d9e63",
   "metadata": {
    "ExecuteTime": {
     "end_time": "2022-12-16T08:59:21.389363Z",
     "start_time": "2022-12-16T08:59:21.284726Z"
    }
   },
   "outputs": [
    {
     "data": {
      "text/plain": [
       "<matplotlib.image.AxesImage at 0x7f18d4260880>"
      ]
     },
     "execution_count": 6,
     "metadata": {},
     "output_type": "execute_result"
    },
    {
     "data": {
      "image/png": "[encoded data removed]",
      "text/plain": [
       "<Figure size 640x480 with 1 Axes>"
      ]
     },
     "metadata": {},
     "output_type": "display_data"
    }
   ],
   "source": [
    "imshow(xt[99])"
   ]
  },
  {
   "cell_type": "markdown",
   "id": "ba2bb263",
   "metadata": {},
   "source": [
    "To use NumPyro we need a target function,"
   ]
  },
  {
   "cell_type": "code",
   "execution_count": 7,
   "id": "e3b34441",
   "metadata": {
    "ExecuteTime": {
     "end_time": "2022-12-16T08:59:23.940117Z",
     "start_time": "2022-12-16T08:59:23.914697Z"
    }
   },
   "outputs": [],
   "source": [
    "import numpyro.distributions as dist"
   ]
  },
  {
   "cell_type": "code",
   "execution_count": 8,
   "id": "6ab7e835",
   "metadata": {
    "ExecuteTime": {
     "end_time": "2022-12-16T08:59:24.347968Z",
     "start_time": "2022-12-16T08:59:24.318494Z"
    }
   },
   "outputs": [],
   "source": [
    "def logp(xt=None):\n",
    "    \n",
    "    x0h = numpyro.sample('x0h', dist.Normal(jnp.zeros((nlat, nlon)), 1))\n",
    "    \n",
    "    xth_mu = simulate(ts, x0h, k)\n",
    "    \n",
    "    numpyro.sample('xth', dist.Normal(xth_mu, 1), obs=xt)"
   ]
  },
  {
   "cell_type": "code",
   "execution_count": null,
   "id": "b33a56e1",
   "metadata": {
    "ExecuteTime": {
     "end_time": "2022-12-16T09:06:26.106298Z",
     "start_time": "2022-12-16T08:59:24.810358Z"
    }
   },
   "outputs": [
    {
     "name": "stderr",
     "output_type": "stream",
     "text": [
      "sample:  63%|█████████████████████████████████████████████████████████████                                    | 1258/2000 [11:42<06:04,  2.03it/s, 31 steps of size 1.32e-01. acc. prob=0.87]"
     ]
    }
   ],
   "source": [
    "nuts_kernel = NUTS(logp)\n",
    "mcmc = MCMC(nuts_kernel, num_warmup=1000, num_samples=1000)\n",
    "rng_key = jax.random.PRNGKey(0)\n",
    "mcmc.run(rng_key, xt=xt)"
   ]
  },
  {
   "cell_type": "code",
   "execution_count": null,
   "id": "435d6420",
   "metadata": {
    "ExecuteTime": {
     "end_time": "2022-12-15T23:12:13.539158Z",
     "start_time": "2022-12-15T23:12:13.514820Z"
    }
   },
   "outputs": [],
   "source": [
    "samples = mcmc.get_samples()"
   ]
  },
  {
   "cell_type": "code",
   "execution_count": null,
   "id": "a24b676a",
   "metadata": {
    "ExecuteTime": {
     "end_time": "2022-12-16T07:50:22.378134Z",
     "start_time": "2022-12-16T07:50:22.152953Z"
    }
   },
   "outputs": [],
   "source": [
    "x0h = samples['x0h']\n",
    "\n",
    "subplot(211)\n",
    "imshow(x0h.mean(axis=0)); colorbar()\n",
    "\n",
    "subplot(212);\n",
    "imshow(np.log(np.abs((x0 - x0h.mean(axis=0))/x0h.std(axis=0))))\n",
    "colorbar(), title('log abs z-score true x0');\n",
    "tight_layout()"
   ]
  },
  {
   "cell_type": "code",
   "execution_count": 2,
   "id": "cc6731b1",
   "metadata": {},
   "outputs": [
    {
     "ename": "NameError",
     "evalue": "name 'x0' is not defined",
     "output_type": "error",
     "traceback": [
      "\u001b[0;31m---------------------------------------------------------------------------\u001b[0m",
      "\u001b[0;31mNameError\u001b[0m                                 Traceback (most recent call last)",
      "Cell \u001b[0;32mIn[2], line 1\u001b[0m\n\u001b[0;32m----> 1\u001b[0m \u001b[43mx0\u001b[49m\n",
      "\u001b[0;31mNameError\u001b[0m: name 'x0' is not defined"
     ]
    }
   ],
   "source": [
    "x0"
   ]
  }
 ],
 "metadata": {
  "kernelspec": {
   "display_name": "Python 3 (ipykernel)",
   "language": "python",
   "name": "python3"
  },
  "language_info": {
   "codemirror_mode": {
    "name": "ipython",
    "version": 3
   },
   "file_extension": ".py",
   "mimetype": "text/x-python",
   "name": "python",
   "nbconvert_exporter": "python",
   "pygments_lexer": "ipython3",
   "version": "3.10.6"
  },
  "varInspector": {
   "cols": {
    "lenName": 16,
    "lenType": 16,
    "lenVar": 40
   },
   "kernels_config": {
    "python": {
     "delete_cmd_postfix": "",
     "delete_cmd_prefix": "del ",
     "library": "var_list.py",
     "varRefreshCmd": "print(var_dic_list())"
    },
    "r": {
     "delete_cmd_postfix": ") ",
     "delete_cmd_prefix": "rm(",
     "library": "var_list.r",
     "varRefreshCmd": "cat(var_dic_list()) "
    }
   },
   "types_to_exclude": [
    "module",
    "function",
    "builtin_function_or_method",
    "instance",
    "_Feature"
   ],
   "window_display": false
  }
 },
 "nbformat": 4,
 "nbformat_minor": 5
}
