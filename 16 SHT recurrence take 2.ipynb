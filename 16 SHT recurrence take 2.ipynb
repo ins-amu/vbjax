{
 "cells": [
  {
   "cell_type": "code",
   "execution_count": 1,
   "id": "d56d5b9e",
   "metadata": {
    "ExecuteTime": {
     "end_time": "2022-12-19T16:00:24.068454Z",
     "start_time": "2022-12-19T16:00:23.605684Z"
    }
   },
   "outputs": [
    {
     "name": "stdout",
     "output_type": "stream",
     "text": [
      "%pylab is deprecated, use %matplotlib inline and import the required libraries.\n",
      "Populating the interactive namespace from numpy and matplotlib\n"
     ]
    }
   ],
   "source": [
    "%pylab inline\n",
    "import numpy as np\n",
    "import jax\n",
    "import jax.numpy as jnp\n",
    "import shtns"
   ]
  },
  {
   "cell_type": "code",
   "execution_count": 36,
   "id": "05c1131d",
   "metadata": {
    "ExecuteTime": {
     "end_time": "2022-12-19T16:31:00.275582Z",
     "start_time": "2022-12-19T16:31:00.268500Z"
    }
   },
   "outputs": [
    {
     "data": {
      "text/plain": [
       "Array(0.4641322, dtype=float32)"
      ]
     },
     "execution_count": 36,
     "metadata": {},
     "output_type": "execute_result"
    }
   ],
   "source": [
    "def j_amm_m(m):\n",
    "    k = jnp.arange(1, m + 1)\n",
    "    return jnp.sqrt(jnp.prod((2*k+1)/(2*k))/(4*jnp.pi))\n",
    "\n",
    "j_amm_m(5)"
   ]
  },
  {
   "cell_type": "code",
   "execution_count": 70,
   "id": "9f330954",
   "metadata": {
    "ExecuteTime": {
     "end_time": "2022-12-19T16:44:43.250868Z",
     "start_time": "2022-12-19T16:44:43.246369Z"
    }
   },
   "outputs": [],
   "source": [
    "@jax.jit\n",
    "def j_amm(m):\n",
    "    def f(el, k):\n",
    "        el *= (2*k + 1) / (2*k)\n",
    "        return el, k\n",
    "    el, _ = jax.lax.scan(f, 1.0, jnp.r_[1:m])\n",
    "    return jnp.sqrt(el/(4*jnp.pi))"
   ]
  },
  {
   "cell_type": "code",
   "execution_count": 2,
   "id": "42902a6d",
   "metadata": {
    "ExecuteTime": {
     "end_time": "2022-12-19T16:00:24.098560Z",
     "start_time": "2022-12-19T16:00:24.094976Z"
    }
   },
   "outputs": [],
   "source": [
    "def gen_ml(N):\n",
    "    return np.array([[m, l] for m in range(N+1) for l in range(N+1) if m<=l])\n",
    "\n",
    "def all_amm(N):\n",
    "    amm = []\n",
    "    for m in range(N+1):\n",
    "        els = []\n",
    "        for k in range(1,m+1):\n",
    "            els.append((2*k+1)/(2*k))\n",
    "        el = np.prod(els)/(4*np.pi)\n",
    "        amm.append(np.sqrt(el))\n",
    "    amm = np.array(amm)\n",
    "    return amm\n",
    "\n",
    "def all_amm_jitable(amm_out):\n",
    "    # N = amm_out.size - 1\n",
    "    for m in range(amm_out.size):\n",
    "        el = numba.float64(1.0)\n",
    "        for k in range(1,m+1):\n",
    "            el *= (2*k+1)/(2*k)\n",
    "        el /= 4*np.pi\n",
    "        amm_out[m] = np.sqrt(el)\n",
    "\n",
    "@jax.jit\n",
    "def amn(m, n):\n",
    "    nom = 4*n*n - 1\n",
    "    den = n*n - m*m\n",
    "    out = jnp.sqrt(nom/den)\n",
    "    return out\n",
    "\n",
    "@jax.jit\n",
    "def bmn(m, n):\n",
    "    l = (2*n + 1)/(2*n - 3)\n",
    "    r = ((n - 1)*(n - 1) - m*m)/(n*n - m*m)\n",
    "    return - jnp.sqrt(l*r)\n",
    "\n",
    "def lat_grid(nlat):\n",
    "    x = np.r_[:nlat] / nlat * np.pi\n",
    "    cx = np.cos(x)\n",
    "    return cx"
   ]
  },
  {
   "cell_type": "code",
   "execution_count": 3,
   "id": "10150018",
   "metadata": {
    "ExecuteTime": {
     "end_time": "2022-12-19T16:00:25.570609Z",
     "start_time": "2022-12-19T16:00:25.561831Z"
    }
   },
   "outputs": [],
   "source": [
    "# @jax.jit\n",
    "def LT(amm: np.ndarray[1,np.float32],\n",
    "       cx: np.ndarray[1,np.float32],\n",
    "       fx: np.ndarray[2,np.complex64]) -> np.ndarray[1,np.complex64]:\n",
    "    \n",
    "    N = amm.size - 1  # lmax\n",
    "    nlat = cx.size\n",
    "    i = 0\n",
    "    \n",
    "    # since cx is a vector, this is vectorized over latitudes\n",
    "    # TODO convert to scan, it won't really work otherwise\n",
    "    acc = jnp.zeros_like(cx)\n",
    "    for m in range(N+1):\n",
    "        # eq 13\n",
    "        n = m\n",
    "        p0 = amm[m]*(1 - cx*cx)**(m/2)*(-1)**m\n",
    "        print(i, m, n, p0[0]); i+=1\n",
    "        if n == N:\n",
    "            break\n",
    "        # eq 14\n",
    "        n += 1\n",
    "        p1 = amn(m, n) * cx * p0\n",
    "        print(i, m, n, p1[0]); i+=1\n",
    "        if n == N:\n",
    "            continue\n",
    "        # eq 15 base case\n",
    "        n += 1\n",
    "        p2 = amn(m, n)*cx*p1 + bmn(m, n)*p0\n",
    "        print(i, m, n, p2[0]); i+=1\n",
    "        if n == N:\n",
    "            continue\n",
    "        # eq 15 iterate\n",
    "        while n < N:\n",
    "            p0, p1 = p1, p2\n",
    "            n += 1\n",
    "            p2 = amn(m, n)*cx*p1 + bmn(m, n)*p0\n",
    "            print(i, m, n, p2[0]); i+=1\n",
    "    return p2"
   ]
  },
  {
   "cell_type": "markdown",
   "id": "e8c3841e",
   "metadata": {},
   "source": [
    "The above doesn't actually do the transform, just a complex loop to generate the coefficients.  Since Jax wants a more functional approach, and that loop above could result in many extra nodes in the graph, we want to convert that in to a scan over `m,n` sequence, where we carry whatever required, and the result will be just the `m,n` vector which is the result.\n",
    "\n",
    "When including the `fx` Fourier transformed data, it may be helpful to transpose the array for locality."
   ]
  },
  {
   "cell_type": "markdown",
   "id": "f40b9c7d",
   "metadata": {},
   "source": [
    "First we need to break the loop above into cases and a function to map a given step to the specific case,"
   ]
  },
  {
   "cell_type": "code",
   "execution_count": 104,
   "id": "09b56df4",
   "metadata": {
    "ExecuteTime": {
     "end_time": "2022-12-19T17:20:20.815337Z",
     "start_time": "2022-12-19T17:20:20.682482Z"
    }
   },
   "outputs": [],
   "source": [
    "# TODO may be useful/necessary to do all this as a closure over some constant data arrays?\n",
    "# TODO may be useful to have a pytree to collect arrays?\n",
    "\n",
    "from collections import namedtuple\n",
    "\n",
    "# instances of this instead of many args, jax will flatten automatically\n",
    "# LTRecurState = namedtuple('LTRecurState', 'stop m n p0 p1 p2'.split(' '))\n",
    "\n",
    "from scipy.special import sph_harm\n",
    "check_Pmn = lambda p, m, n, cx: \\\n",
    "    np.testing.assert_allclose(p, \n",
    "        sph_harm(m, n, 0, np.arccos(cx)).real, rtol=1e-3, atol=1e-3)\n",
    "\n",
    "# DONE test coefficients match sph_harm\n",
    "def make_lt_recur(lmax, nlat):\n",
    "    \n",
    "    amm = all_amm(lmax)\n",
    "    cx = lat_grid(nlat)\n",
    "    N = amm.size - 1\n",
    "    ml = np.array([[m, l] for m in range(N+1) for l in range(N+1) if m<=l])\n",
    "    amm_ = amm[ml[:,0]]\n",
    "\n",
    "    def eq13(amm_m, m, n, _1, _2, _3):\n",
    "        p0 = amm_m*(1 - cx*cx)**(m/2)*(-1)**m\n",
    "        return p0, (p0, p1, p2)\n",
    "\n",
    "    def eq14(_1, m, n, p0, _2, _3):\n",
    "        p1 = amn(m, n) * cx * p0\n",
    "        return p1, (p0, p1, p2)\n",
    "\n",
    "    def eq15_base(_1, m, n, p0, p1, _2):\n",
    "        p2 = amn(m, n)*cx*p1 + bmn(m, n)*p0\n",
    "        return p2, (p0, p1, p2)\n",
    "\n",
    "    def eq15_iter(_1, m, n, p0, p1, p2):\n",
    "        p0, p1 = p1, p2\n",
    "        p2 = amn(m, n)*cx*p1 + bmn(m, n)*p0\n",
    "        return p2, (p0, p1, p2)\n",
    "    \n",
    "    def choose_eqn(ps, amm_m, m, n):\n",
    "        return jax.lax.switch(\n",
    "            n - m,\n",
    "            [eq13, eq14, eq15_base, eq15_iter],\n",
    "            amm_m, m, n, *ps)\n",
    "\n",
    "    def scan_pmn_op(ps, x):\n",
    "        amm_m, (m, n) = x['amm_'], x['ml']\n",
    "        pmn, ps = choose_eqn(ps, amm_m, m, n)\n",
    "        return ps, pmn\n",
    "\n",
    "    p0, p1, p2 = jnp.zeros((3,nlat))\n",
    "    scan_pmn_init = p0, p1, p2\n",
    "    scan_pmn_seq = {'amm_': amm_, 'ml': ml}\n",
    "    \n",
    "    @jax.jit\n",
    "    def scan_pmn():\n",
    "        _, pmns = jax.lax.scan(scan_pmn_op, scan_pmn_init, scan_pmn_seq)\n",
    "        return pmns\n",
    "\n",
    "    return ml, cx, scan_pmn\n",
    "\n",
    "ml, cx, gen_pmn = make_lt_recur(6, 32)\n",
    "for (m, n), pmn in zip(ml, gen_pmn()):\n",
    "    check_Pmn(pmn, m, n, cx)"
   ]
  },
  {
   "cell_type": "markdown",
   "id": "25ccdc80",
   "metadata": {},
   "source": [
    "It seems the values are correct now and in a scan, how long for different problem sizes?"
   ]
  },
  {
   "cell_type": "code",
   "execution_count": 112,
   "id": "dba28d50",
   "metadata": {
    "ExecuteTime": {
     "end_time": "2022-12-19T17:29:19.487715Z",
     "start_time": "2022-12-19T17:29:06.610925Z"
    }
   },
   "outputs": [
    {
     "name": "stdout",
     "output_type": "stream",
     "text": [
      "21.7 µs ± 70.4 ns per loop (mean ± std. dev. of 7 runs, 10,000 loops each)\n",
      "134 µs ± 318 ns per loop (mean ± std. dev. of 7 runs, 10,000 loops each)\n"
     ]
    }
   ],
   "source": [
    "for lmax, nlat in [(31, 32), (63, 64)]:\n",
    "    ml, cx, gen_pmn = make_lt_recur(lmax, nlat)\n",
    "    gen_pmn()\n",
    "    %timeit gen_pmn()"
   ]
  },
  {
   "cell_type": "code",
   "execution_count": 111,
   "id": "0fd02aa6",
   "metadata": {
    "ExecuteTime": {
     "end_time": "2022-12-19T17:28:35.953458Z",
     "start_time": "2022-12-19T17:28:14.964280Z"
    }
   },
   "outputs": [
    {
     "name": "stdout",
     "output_type": "stream",
     "text": [
      "30 µs ± 43.4 ns per loop (mean ± std. dev. of 7 runs, 10,000 loops each)\n",
      "8.17 µs ± 74.7 ns per loop (mean ± std. dev. of 7 runs, 100,000 loops each)\n",
      "271 µs ± 1.16 µs per loop (mean ± std. dev. of 7 runs, 1,000 loops each)\n",
      "21.1 µs ± 70.5 ns per loop (mean ± std. dev. of 7 runs, 10,000 loops each)\n"
     ]
    }
   ],
   "source": [
    "import nfjax.shtlc as lc\n",
    "\n",
    "for lmax, nlat in [(31, 32), (63, 64)]:\n",
    "    nlon, D = 2*nlat, 0.0004\n",
    "    _, L = lc.make_shtdiff(lmax=lmax, nlat=nlat, nlon=nlon, D=D, return_L=True)\n",
    "    np.testing.assert_equal(0, L.imag)\n",
    "    L = L.real.astype('f')\n",
    "\n",
    "    @jax.jit\n",
    "    def apply_L(L, x, np=jnp):\n",
    "        X = np.fft.rfft(x, axis=1)\n",
    "        X = np.hstack(\n",
    "            (np.einsum('abc,ca->ba', L, X[:,:lmax]),\n",
    "             np.zeros((X.shape[0], X.shape[1] - lmax), jnp.complex64)\n",
    "            )\n",
    "        )\n",
    "        y = np.real(np.fft.irfft(X, axis=1))\n",
    "        return y\n",
    "\n",
    "    x0 = jnp.array(np.random.randn(nlat, nlon).astype('f'))\n",
    "    x1 = apply_L(L, x0)\n",
    "    %timeit apply_L(L, x0)\n",
    "    \n",
    "    ml, cx, gen_pmn = make_lt_recur(lmax, nlat)\n",
    "    gen_pmn()\n",
    "    @jax.jit\n",
    "    def just_FFT(x, np=jnp):\n",
    "        X = np.fft.rfft(x, axis=1)\n",
    "        #gen_pmn()\n",
    "        y = np.real(np.fft.irfft(X, axis=1))\n",
    "        return y\n",
    "    x1 = just_FFT(x0)\n",
    "    %timeit just_FFT(x0)"
   ]
  },
  {
   "cell_type": "markdown",
   "id": "ad8e6351",
   "metadata": {},
   "source": [
    "So the two sizes have cost about 22us and 250us w/ matrix form, and recur (estimating at 2x gen_pmn above) is about 40us and 270us, so about equal for the 64x128 grid.  It seems worthwhile to continue implementing since it requires  less memory than the `lmax*nlat*nlat` form, though even then it isn't much: "
   ]
  },
  {
   "cell_type": "code",
   "execution_count": 116,
   "id": "ae52ff54",
   "metadata": {
    "ExecuteTime": {
     "end_time": "2022-12-19T17:35:18.118882Z",
     "start_time": "2022-12-19T17:35:18.114911Z"
    }
   },
   "outputs": [
    {
     "name": "stdout",
     "output_type": "stream",
     "text": [
      "124.0 kB\n",
      "1008.0 kB\n",
      "8128.0 kB\n"
     ]
    }
   ],
   "source": [
    "for lmax, nlat in [(31, 32), (63, 64), (127, 128)]:\n",
    "    print(lmax*nlat*nlat * 4 / 1024, 'kB')"
   ]
  }
 ],
 "metadata": {
  "kernelspec": {
   "display_name": "Python 3 (ipykernel)",
   "language": "python",
   "name": "python3"
  },
  "language_info": {
   "codemirror_mode": {
    "name": "ipython",
    "version": 3
   },
   "file_extension": ".py",
   "mimetype": "text/x-python",
   "name": "python",
   "nbconvert_exporter": "python",
   "pygments_lexer": "ipython3",
   "version": "3.10.8"
  },
  "varInspector": {
   "cols": {
    "lenName": 16,
    "lenType": 16,
    "lenVar": 40
   },
   "kernels_config": {
    "python": {
     "delete_cmd_postfix": "",
     "delete_cmd_prefix": "del ",
     "library": "var_list.py",
     "varRefreshCmd": "print(var_dic_list())"
    },
    "r": {
     "delete_cmd_postfix": ") ",
     "delete_cmd_prefix": "rm(",
     "library": "var_list.r",
     "varRefreshCmd": "cat(var_dic_list()) "
    }
   },
   "types_to_exclude": [
    "module",
    "function",
    "builtin_function_or_method",
    "instance",
    "_Feature"
   ],
   "window_display": false
  }
 },
 "nbformat": 4,
 "nbformat_minor": 5
}
