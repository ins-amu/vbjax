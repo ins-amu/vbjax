{
 "cells": [
  {
   "cell_type": "code",
   "execution_count": 1,
   "id": "d56d5b9e",
   "metadata": {
    "ExecuteTime": {
     "end_time": "2022-12-19T15:12:42.012017Z",
     "start_time": "2022-12-19T15:12:41.318948Z"
    }
   },
   "outputs": [
    {
     "name": "stdout",
     "output_type": "stream",
     "text": [
      "%pylab is deprecated, use %matplotlib inline and import the required libraries.\n",
      "Populating the interactive namespace from numpy and matplotlib\n"
     ]
    }
   ],
   "source": [
    "%pylab inline\n",
    "import numpy as np\n",
    "import jax\n",
    "import jax.numpy as jnp\n",
    "import shtns"
   ]
  },
  {
   "cell_type": "code",
   "execution_count": 4,
   "id": "42902a6d",
   "metadata": {
    "ExecuteTime": {
     "end_time": "2022-12-19T15:13:06.035099Z",
     "start_time": "2022-12-19T15:13:06.015295Z"
    }
   },
   "outputs": [],
   "source": [
    "def gen_ml(N):\n",
    "    return np.array([[m, l] for m in range(N+1) for l in range(N+1) if m<=l])\n",
    "\n",
    "def all_amm(N):\n",
    "    amm = []\n",
    "    for m in range(N+1):\n",
    "        els = []\n",
    "        for k in range(1,m+1):\n",
    "            els.append((2*k+1)/(2*k))\n",
    "        el = np.prod(els)/(4*np.pi)\n",
    "        amm.append(np.sqrt(el))\n",
    "    amm = np.array(amm)\n",
    "    return amm\n",
    "\n",
    "# @jax.jit\n",
    "def amn(m, n):\n",
    "    nom = 4*n*n - 1\n",
    "    den = n*n - m*m\n",
    "    out = jnp.sqrt(nom/den)\n",
    "    return out\n",
    "\n",
    "# @jax.jit\n",
    "def bmn(m, n):\n",
    "    l = (2*n + 1)/(2*n - 3)\n",
    "    r = ((n - 1)*(n - 1) - m*m)/(n*n - m*m)\n",
    "    return - jnp.sqrt(l*r)\n",
    "\n",
    "def lat_grid(nlat):\n",
    "    x = np.r_[:nlat] / nlat * np.pi\n",
    "    cx = np.cos(x)\n",
    "    return cx"
   ]
  },
  {
   "cell_type": "code",
   "execution_count": null,
   "id": "10150018",
   "metadata": {
    "ExecuteTime": {
     "end_time": "2022-12-19T15:12:42.083892Z",
     "start_time": "2022-12-19T15:12:42.083887Z"
    }
   },
   "outputs": [],
   "source": [
    "# @jax.jit\n",
    "def LT(amm: np.ndarray[1,np.float32],\n",
    "       cx: np.ndarray[1,np.float32],\n",
    "       fx: np.ndarray[2,np.complex64]) -> np.ndarray[1,np.complex64]:\n",
    "    \n",
    "    N = amm.size - 1  # lmax\n",
    "    nlat = cx.size\n",
    "    i = 0\n",
    "    \n",
    "    # since cx is a vector, this is vectorized over latitudes\n",
    "    # TODO convert to scan, it won't really work otherwise\n",
    "    acc = jnp.zeros_like(cx)\n",
    "    for m in range(N+1):\n",
    "        # eq 13\n",
    "        n = m\n",
    "        p0 = amm[m]*(1 - cx*cx)**(m/2)*(-1)**m\n",
    "        print(i, m, n, p0[0]); i+=1\n",
    "        if n == N:\n",
    "            break\n",
    "        # eq 14\n",
    "        n += 1\n",
    "        p1 = amn(m, n) * cx * p0\n",
    "        print(i, m, n, p1[0]); i+=1\n",
    "        if n == N:\n",
    "            continue\n",
    "        # eq 15 base case\n",
    "        n += 1\n",
    "        p2 = amn(m, n)*cx*p1 + bmn(m, n)*p0\n",
    "        print(i, m, n, p2[0]); i+=1\n",
    "        if n == N:\n",
    "            continue\n",
    "        # eq 15 iterate\n",
    "        while n < N:\n",
    "            p0, p1 = p1, p2\n",
    "            n += 1\n",
    "            p2 = amn(m, n)*cx*p1 + bmn(m, n)*p0\n",
    "            print(i, m, n, p2[0]); i+=1\n",
    "    return p2"
   ]
  },
  {
   "cell_type": "markdown",
   "id": "e8c3841e",
   "metadata": {},
   "source": [
    "The above doesn't actually do the transform, just a complex loop to generate the coefficients.  Since Jax wants a more functional approach, and that loop above could result in many extra nodes in the graph, we want to convert that in to a scan over `m,n` sequence, where we carry whatever required, and the result will be just the `m,n` vector which is the result.\n",
    "\n",
    "When including the `fx` Fourier transformed data, it may be helpful to transpose the array for locality."
   ]
  },
  {
   "cell_type": "markdown",
   "id": "f40b9c7d",
   "metadata": {},
   "source": [
    "First we need to break the loop above into cases and a function to map a given step to the specific case,"
   ]
  },
  {
   "cell_type": "code",
   "execution_count": 32,
   "id": "09b56df4",
   "metadata": {
    "ExecuteTime": {
     "end_time": "2022-12-19T15:36:46.662471Z",
     "start_time": "2022-12-19T15:36:46.568125Z"
    }
   },
   "outputs": [
    {
     "name": "stdout",
     "output_type": "stream",
     "text": [
      "0 0 0 0.28209479177387814\n"
     ]
    },
    {
     "ename": "AssertionError",
     "evalue": "\nNot equal to tolerance rtol=1e-05, atol=1e-06\n\nMismatched elements: 32 / 32 (100%)\nMax absolute difference: 1.16533666\nMax relative difference: 13.99931088\n x: array([ 5.462742e-01,  5.436438e-01,  5.357777e-01,  5.227519e-01,\n        5.046916e-01,  4.817709e-01,  4.542104e-01,  4.222757e-01,\n        3.862742e-01,  3.465527e-01,  3.034937e-01,  2.575119e-01,...\n y: array([ 0.630783,  0.621693,  0.594772,  0.551054,  0.492219,  0.420529,\n        0.338738,  0.249991,  0.157696,  0.065401, -0.023347, -0.105137,\n       -0.176827, -0.235662, -0.27938 , -0.306301, -0.315392, -0.306301,...",
     "output_type": "error",
     "traceback": [
      "\u001b[0;31m---------------------------------------------------------------------------\u001b[0m",
      "\u001b[0;31mAssertionError\u001b[0m                            Traceback (most recent call last)",
      "Cell \u001b[0;32mIn[32], line 67\u001b[0m\n\u001b[1;32m     64\u001b[0m         pmn, (_, _, _, p0, p1, p2) \u001b[38;5;241m=\u001b[39m choose_eqn(i, m, n, p0, p1, p2)\n\u001b[1;32m     65\u001b[0m         \u001b[38;5;28mprint\u001b[39m(i, m, n, pmn[nlat\u001b[38;5;241m/\u001b[39m\u001b[38;5;241m/\u001b[39m\u001b[38;5;241m2\u001b[39m])\n\u001b[0;32m---> 67\u001b[0m \u001b[43mmake_lt_recur\u001b[49m\u001b[43m(\u001b[49m\u001b[38;5;241;43m6\u001b[39;49m\u001b[43m,\u001b[49m\u001b[43m \u001b[49m\u001b[38;5;241;43m32\u001b[39;49m\u001b[43m)\u001b[49m\n\u001b[1;32m     68\u001b[0m \u001b[38;5;66;03m# what we really want is a scan that accumulates results for m,n array\u001b[39;00m\n\u001b[1;32m     69\u001b[0m \u001b[38;5;66;03m# TODO how to factor forward vs inverse transforms?\u001b[39;00m\n\u001b[1;32m     70\u001b[0m \u001b[38;5;66;03m# TODO test custom gradients vs auto gradient? probably identical esp with scan-based graph\u001b[39;00m\n",
      "Cell \u001b[0;32mIn[32], line 64\u001b[0m, in \u001b[0;36mmake_lt_recur\u001b[0;34m(lmax, nlat)\u001b[0m\n\u001b[1;32m     62\u001b[0m p0, p1, p2 \u001b[38;5;241m=\u001b[39m jnp\u001b[38;5;241m.\u001b[39mzeros((\u001b[38;5;241m3\u001b[39m,nlat), jnp\u001b[38;5;241m.\u001b[39mfloat32)\n\u001b[1;32m     63\u001b[0m \u001b[38;5;28;01mfor\u001b[39;00m i, (m, n) \u001b[38;5;129;01min\u001b[39;00m \u001b[38;5;28menumerate\u001b[39m(ml):\n\u001b[0;32m---> 64\u001b[0m     pmn, (_, _, _, p0, p1, p2) \u001b[38;5;241m=\u001b[39m \u001b[43mchoose_eqn\u001b[49m\u001b[43m(\u001b[49m\u001b[43mi\u001b[49m\u001b[43m,\u001b[49m\u001b[43m \u001b[49m\u001b[43mm\u001b[49m\u001b[43m,\u001b[49m\u001b[43m \u001b[49m\u001b[43mn\u001b[49m\u001b[43m,\u001b[49m\u001b[43m \u001b[49m\u001b[43mp0\u001b[49m\u001b[43m,\u001b[49m\u001b[43m \u001b[49m\u001b[43mp1\u001b[49m\u001b[43m,\u001b[49m\u001b[43m \u001b[49m\u001b[43mp2\u001b[49m\u001b[43m)\u001b[49m\n\u001b[1;32m     65\u001b[0m     \u001b[38;5;28mprint\u001b[39m(i, m, n, pmn[nlat\u001b[38;5;241m/\u001b[39m\u001b[38;5;241m/\u001b[39m\u001b[38;5;241m2\u001b[39m])\n",
      "Cell \u001b[0;32mIn[32], line 57\u001b[0m, in \u001b[0;36mmake_lt_recur.<locals>.choose_eqn\u001b[0;34m(i, m, n, p0, p1, p2)\u001b[0m\n\u001b[1;32m     56\u001b[0m \u001b[38;5;28;01mdef\u001b[39;00m \u001b[38;5;21mchoose_eqn\u001b[39m(i, m, n, p0, p1, p2):\n\u001b[0;32m---> 57\u001b[0m     \u001b[38;5;28;01mreturn\u001b[39;00m \u001b[43mswitch\u001b[49m\u001b[43m(\u001b[49m\n\u001b[1;32m     58\u001b[0m \u001b[43m        \u001b[49m\u001b[38;5;28;43mmin\u001b[39;49m\u001b[43m(\u001b[49m\u001b[38;5;241;43m3\u001b[39;49m\u001b[43m,\u001b[49m\u001b[43m \u001b[49m\u001b[43mn\u001b[49m\u001b[43m \u001b[49m\u001b[38;5;241;43m-\u001b[39;49m\u001b[43m \u001b[49m\u001b[43mm\u001b[49m\u001b[43m)\u001b[49m\u001b[43m,\u001b[49m\n\u001b[1;32m     59\u001b[0m \u001b[43m        \u001b[49m\u001b[43m[\u001b[49m\u001b[43meq13\u001b[49m\u001b[43m,\u001b[49m\u001b[43m \u001b[49m\u001b[43meq14\u001b[49m\u001b[43m,\u001b[49m\u001b[43m \u001b[49m\u001b[43meq15_base\u001b[49m\u001b[43m,\u001b[49m\u001b[43m \u001b[49m\u001b[43meq15_iter\u001b[49m\u001b[43m]\u001b[49m\u001b[43m,\u001b[49m\n\u001b[1;32m     60\u001b[0m \u001b[43m        \u001b[49m\u001b[43mi\u001b[49m\u001b[43m,\u001b[49m\u001b[43m \u001b[49m\u001b[43mamm\u001b[49m\u001b[43m[\u001b[49m\u001b[43mm\u001b[49m\u001b[43m]\u001b[49m\u001b[43m,\u001b[49m\u001b[43m \u001b[49m\u001b[43mm\u001b[49m\u001b[43m,\u001b[49m\u001b[43m \u001b[49m\u001b[43mn\u001b[49m\u001b[43m,\u001b[49m\u001b[43m \u001b[49m\u001b[43mp0\u001b[49m\u001b[43m,\u001b[49m\u001b[43m \u001b[49m\u001b[43mp1\u001b[49m\u001b[43m,\u001b[49m\u001b[43m \u001b[49m\u001b[43mp2\u001b[49m\u001b[43m)\u001b[49m\n",
      "Cell \u001b[0;32mIn[32], line 54\u001b[0m, in \u001b[0;36mmake_lt_recur.<locals>.switch\u001b[0;34m(i, fs, *args)\u001b[0m\n\u001b[0;32m---> 54\u001b[0m \u001b[38;5;28;01mdef\u001b[39;00m \u001b[38;5;21mswitch\u001b[39m(i,fs,\u001b[38;5;241m*\u001b[39margs): \u001b[38;5;28;01mreturn\u001b[39;00m \u001b[43mfs\u001b[49m\u001b[43m[\u001b[49m\u001b[43mi\u001b[49m\u001b[43m]\u001b[49m\u001b[43m(\u001b[49m\u001b[38;5;241;43m*\u001b[39;49m\u001b[43margs\u001b[49m\u001b[43m)\u001b[49m\n",
      "Cell \u001b[0;32mIn[32], line 32\u001b[0m, in \u001b[0;36mmake_lt_recur.<locals>.eq14\u001b[0;34m(i, _1, m, n, p0, _2, _3)\u001b[0m\n\u001b[1;32m     30\u001b[0m n \u001b[38;5;241m+\u001b[39m\u001b[38;5;241m=\u001b[39m \u001b[38;5;241m1\u001b[39m\n\u001b[1;32m     31\u001b[0m p1 \u001b[38;5;241m=\u001b[39m amn(m, n) \u001b[38;5;241m*\u001b[39m cx \u001b[38;5;241m*\u001b[39m p0\n\u001b[0;32m---> 32\u001b[0m \u001b[43mcheck_Pmn\u001b[49m\u001b[43m(\u001b[49m\u001b[43mp1\u001b[49m\u001b[43m,\u001b[49m\u001b[43m \u001b[49m\u001b[43mm\u001b[49m\u001b[43m,\u001b[49m\u001b[43m \u001b[49m\u001b[43mn\u001b[49m\u001b[43m,\u001b[49m\u001b[43m \u001b[49m\u001b[43mcx\u001b[49m\u001b[43m)\u001b[49m\n\u001b[1;32m     33\u001b[0m \u001b[38;5;66;03m# print(i, m, n, p1[0]); i+=1\u001b[39;00m\n\u001b[1;32m     34\u001b[0m stop \u001b[38;5;241m=\u001b[39m n \u001b[38;5;241m<\u001b[39m N\n",
      "Cell \u001b[0;32mIn[32], line 11\u001b[0m, in \u001b[0;36m<lambda>\u001b[0;34m(p, m, n, cx)\u001b[0m\n\u001b[1;32m      6\u001b[0m \u001b[38;5;66;03m# instances of this instead of many args, jax will flatten automatically\u001b[39;00m\n\u001b[1;32m      7\u001b[0m \u001b[38;5;66;03m# LTRecurState = namedtuple('LTRecurState', 'stop m n p0 p1 p2'.split(' '))\u001b[39;00m\n\u001b[1;32m      9\u001b[0m \u001b[38;5;28;01mfrom\u001b[39;00m \u001b[38;5;21;01mscipy\u001b[39;00m\u001b[38;5;21;01m.\u001b[39;00m\u001b[38;5;21;01mspecial\u001b[39;00m \u001b[38;5;28;01mimport\u001b[39;00m sph_harm\n\u001b[1;32m     10\u001b[0m check_Pmn \u001b[38;5;241m=\u001b[39m \u001b[38;5;28;01mlambda\u001b[39;00m p, m, n, cx: \\\n\u001b[0;32m---> 11\u001b[0m     \u001b[43mnp\u001b[49m\u001b[38;5;241;43m.\u001b[39;49m\u001b[43mtesting\u001b[49m\u001b[38;5;241;43m.\u001b[39;49m\u001b[43massert_allclose\u001b[49m\u001b[43m(\u001b[49m\u001b[43mp\u001b[49m\u001b[43m,\u001b[49m\u001b[43m \u001b[49m\n\u001b[1;32m     12\u001b[0m \u001b[43m        \u001b[49m\u001b[43msph_harm\u001b[49m\u001b[43m(\u001b[49m\u001b[43mm\u001b[49m\u001b[43m,\u001b[49m\u001b[43m \u001b[49m\u001b[43mn\u001b[49m\u001b[43m,\u001b[49m\u001b[43m \u001b[49m\u001b[38;5;241;43m0\u001b[39;49m\u001b[43m,\u001b[49m\u001b[43m \u001b[49m\u001b[43mnp\u001b[49m\u001b[38;5;241;43m.\u001b[39;49m\u001b[43marccos\u001b[49m\u001b[43m(\u001b[49m\u001b[43mcx\u001b[49m\u001b[43m)\u001b[49m\u001b[43m)\u001b[49m\u001b[38;5;241;43m.\u001b[39;49m\u001b[43mreal\u001b[49m\u001b[43m,\u001b[49m\u001b[43m \u001b[49m\u001b[43mrtol\u001b[49m\u001b[38;5;241;43m=\u001b[39;49m\u001b[38;5;241;43m1e-5\u001b[39;49m\u001b[43m,\u001b[49m\u001b[43m \u001b[49m\u001b[43matol\u001b[49m\u001b[38;5;241;43m=\u001b[39;49m\u001b[38;5;241;43m1e-6\u001b[39;49m\u001b[43m)\u001b[49m\n\u001b[1;32m     15\u001b[0m \u001b[38;5;28;01mdef\u001b[39;00m \u001b[38;5;21mmake_lt_recur\u001b[39m(lmax, nlat):\n\u001b[1;32m     17\u001b[0m     amm \u001b[38;5;241m=\u001b[39m all_amm(lmax)\n",
      "    \u001b[0;31m[... skipping hidden 1 frame]\u001b[0m\n",
      "File \u001b[0;32m~/.local/share/virtualenvs/nfjax-Y-MGz7Lr/lib/python3.10/site-packages/numpy/testing/_private/utils.py:844\u001b[0m, in \u001b[0;36massert_array_compare\u001b[0;34m(comparison, x, y, err_msg, verbose, header, precision, equal_nan, equal_inf)\u001b[0m\n\u001b[1;32m    840\u001b[0m         err_msg \u001b[38;5;241m+\u001b[39m\u001b[38;5;241m=\u001b[39m \u001b[38;5;124m'\u001b[39m\u001b[38;5;130;01m\\n\u001b[39;00m\u001b[38;5;124m'\u001b[39m \u001b[38;5;241m+\u001b[39m \u001b[38;5;124m'\u001b[39m\u001b[38;5;130;01m\\n\u001b[39;00m\u001b[38;5;124m'\u001b[39m\u001b[38;5;241m.\u001b[39mjoin(remarks)\n\u001b[1;32m    841\u001b[0m         msg \u001b[38;5;241m=\u001b[39m build_err_msg([ox, oy], err_msg,\n\u001b[1;32m    842\u001b[0m                             verbose\u001b[38;5;241m=\u001b[39mverbose, header\u001b[38;5;241m=\u001b[39mheader,\n\u001b[1;32m    843\u001b[0m                             names\u001b[38;5;241m=\u001b[39m(\u001b[38;5;124m'\u001b[39m\u001b[38;5;124mx\u001b[39m\u001b[38;5;124m'\u001b[39m, \u001b[38;5;124m'\u001b[39m\u001b[38;5;124my\u001b[39m\u001b[38;5;124m'\u001b[39m), precision\u001b[38;5;241m=\u001b[39mprecision)\n\u001b[0;32m--> 844\u001b[0m         \u001b[38;5;28;01mraise\u001b[39;00m \u001b[38;5;167;01mAssertionError\u001b[39;00m(msg)\n\u001b[1;32m    845\u001b[0m \u001b[38;5;28;01mexcept\u001b[39;00m \u001b[38;5;167;01mValueError\u001b[39;00m:\n\u001b[1;32m    846\u001b[0m     \u001b[38;5;28;01mimport\u001b[39;00m \u001b[38;5;21;01mtraceback\u001b[39;00m\n",
      "\u001b[0;31mAssertionError\u001b[0m: \nNot equal to tolerance rtol=1e-05, atol=1e-06\n\nMismatched elements: 32 / 32 (100%)\nMax absolute difference: 1.16533666\nMax relative difference: 13.99931088\n x: array([ 5.462742e-01,  5.436438e-01,  5.357777e-01,  5.227519e-01,\n        5.046916e-01,  4.817709e-01,  4.542104e-01,  4.222757e-01,\n        3.862742e-01,  3.465527e-01,  3.034937e-01,  2.575119e-01,...\n y: array([ 0.630783,  0.621693,  0.594772,  0.551054,  0.492219,  0.420529,\n        0.338738,  0.249991,  0.157696,  0.065401, -0.023347, -0.105137,\n       -0.176827, -0.235662, -0.27938 , -0.306301, -0.315392, -0.306301,..."
     ]
    }
   ],
   "source": [
    "# TODO may be useful/necessary to do all this as a closure over some constant data arrays?\n",
    "# TODO may be useful to have a pytree to collect arrays?\n",
    "\n",
    "from collections import namedtuple\n",
    "\n",
    "# instances of this instead of many args, jax will flatten automatically\n",
    "# LTRecurState = namedtuple('LTRecurState', 'stop m n p0 p1 p2'.split(' '))\n",
    "\n",
    "from scipy.special import sph_harm\n",
    "check_Pmn = lambda p, m, n, cx: \\\n",
    "    np.testing.assert_allclose(p, \n",
    "        sph_harm(m, n, 0, np.arccos(cx)).real, rtol=1e-5, atol=1e-6)\n",
    "\n",
    "\n",
    "def make_lt_recur(lmax, nlat):\n",
    "    \n",
    "    amm = all_amm(lmax)\n",
    "    cx = lat_grid(nlat)\n",
    "    N = amm.size - 1\n",
    "    ml = np.array([[m, l] for m in range(N+1) for l in range(N+1) if m<=l])\n",
    "\n",
    "    def eq13(i, amm_m, m, n, _1, _2, _3):\n",
    "        n = m\n",
    "        p0 = amm_m*(1 - cx*cx)**(m/2)*(-1)**m\n",
    "        check_Pmn(p0, m, n, cx)\n",
    "        stop = n == N\n",
    "        return p0, (stop, m, n, p0, p1, p2)\n",
    "\n",
    "    def eq14(i, _1, m, n, p0, _2, _3):\n",
    "        n += 1\n",
    "        p1 = amn(m, n) * cx * p0\n",
    "        check_Pmn(p1, m, n, cx)\n",
    "        # print(i, m, n, p1[0]); i+=1\n",
    "        stop = n < N\n",
    "        return p1, (stop, m, n, p0, p1, p2)\n",
    "\n",
    "    def eq15_base(i, _1, m, n, p0, p1, _2):\n",
    "        n += 1\n",
    "        p2 = amn(m, n)*cx*p1 + bmn(m, n)*p0\n",
    "        check_Pmn(p2, m, n, cx)\n",
    "        # print(i, m, n, p2[0]); i+=1\n",
    "        stop = n < N\n",
    "        return p2, (stop, m, n, p0, p1, p2)\n",
    "\n",
    "    def eq15_iter(i, _1, m, n, p0, p1, p2):\n",
    "        p0, p1 = p1, p2\n",
    "        n += 1\n",
    "        p2 = amn(m, n)*cx*p1 + bmn(m, n)*p0\n",
    "        check_Pmn(p2, m, n, cx)\n",
    "        # print(i, m, n, p2[0]); i+=1\n",
    "        stop = n < N\n",
    "        return p2, (stop, m, n, p0, p1, p2)\n",
    "    \n",
    "    def switch(i,fs,*args): return fs[i](*args)\n",
    "    \n",
    "    def choose_eqn(i, m, n, p0, p1, p2):\n",
    "        return switch(\n",
    "            min(3, n - m),\n",
    "            [eq13, eq14, eq15_base, eq15_iter],\n",
    "            i, amm[m], m, n, p0, p1, p2)\n",
    "\n",
    "    p0, p1, p2 = jnp.zeros((3,nlat), jnp.float32)\n",
    "    for i, (m, n) in enumerate(ml):\n",
    "        pmn, (_, _, _, p0, p1, p2) = choose_eqn(i, m, n, p0, p1, p2)\n",
    "        print(i, m, n, pmn[nlat//2])\n",
    "\n",
    "make_lt_recur(6, 32)\n",
    "# what we really want is a scan that accumulates results for m,n array\n",
    "# TODO how to factor forward vs inverse transforms?\n",
    "# TODO test custom gradients vs auto gradient? probably identical esp with scan-based graph"
   ]
  },
  {
   "cell_type": "markdown",
   "id": "25ccdc80",
   "metadata": {},
   "source": [
    "While we're debugging, let's just check we've got the same ordering as SHTns, namely, `m` is the outer stride:"
   ]
  },
  {
   "cell_type": "code",
   "execution_count": 30,
   "id": "e9f76bb0",
   "metadata": {
    "ExecuteTime": {
     "end_time": "2022-12-19T11:53:11.463717Z",
     "start_time": "2022-12-19T11:53:11.457328Z"
    }
   },
   "outputs": [
    {
     "data": {
      "text/plain": [
       "array([[ 0,  0,  0],\n",
       "       [ 1,  0,  1],\n",
       "       [ 2,  0,  2],\n",
       "       [ 3,  0,  3],\n",
       "       [ 4,  0,  4],\n",
       "       [ 5,  0,  5],\n",
       "       [ 6,  0,  6],\n",
       "       [ 7,  1,  1],\n",
       "       [ 8,  1,  2],\n",
       "       [ 9,  1,  3],\n",
       "       [10,  1,  4],\n",
       "       [11,  1,  5],\n",
       "       [12,  1,  6],\n",
       "       [13,  2,  2],\n",
       "       [14,  2,  3],\n",
       "       [15,  2,  4],\n",
       "       [16,  2,  5],\n",
       "       [17,  2,  6],\n",
       "       [18,  3,  3],\n",
       "       [19,  3,  4],\n",
       "       [20,  3,  5],\n",
       "       [21,  3,  6],\n",
       "       [22,  4,  4],\n",
       "       [23,  4,  5],\n",
       "       [24,  4,  6],\n",
       "       [25,  5,  5],\n",
       "       [26,  5,  6],\n",
       "       [27,  6,  6]])"
      ]
     },
     "execution_count": 30,
     "metadata": {},
     "output_type": "execute_result"
    }
   ],
   "source": [
    "sht = shtns.sht(lmax=6)\n",
    "sht.set_grid(nlat=32, nphi=64)\n",
    "np.c_[np.r_[:sht.m.size], sht.m, sht.l]"
   ]
  },
  {
   "cell_type": "markdown",
   "id": "12c6f644",
   "metadata": {},
   "source": [
    "And here from our function:"
   ]
  },
  {
   "cell_type": "code",
   "execution_count": 31,
   "id": "fa9dfd35",
   "metadata": {
    "ExecuteTime": {
     "end_time": "2022-12-19T11:53:56.887316Z",
     "start_time": "2022-12-19T11:53:56.865717Z"
    }
   },
   "outputs": [
    {
     "name": "stdout",
     "output_type": "stream",
     "text": [
      "0 0 0 0.2820948\n",
      "1 0 1 0.48860252\n",
      "2 0 2 0.63078314\n",
      "3 0 3 0.74635273\n",
      "4 0 4 0.8462845\n",
      "5 0 5 0.9356028\n",
      "6 0 6 1.0171077\n",
      "7 1 1 -0.0\n",
      "8 1 2 -0.0\n",
      "9 1 3 0.0\n",
      "10 1 4 0.0\n",
      "11 1 5 0.0\n",
      "12 1 6 0.0\n",
      "13 2 2 0.0\n",
      "14 2 3 0.0\n",
      "15 2 4 0.0\n",
      "16 2 5 0.0\n",
      "17 2 6 0.0\n",
      "18 3 3 -0.0\n",
      "19 3 4 -0.0\n",
      "20 3 5 0.0\n",
      "21 3 6 0.0\n",
      "22 4 4 0.0\n",
      "23 4 5 0.0\n",
      "24 4 6 0.0\n",
      "25 5 5 -0.0\n",
      "26 5 6 -0.0\n",
      "27 6 6 0.0\n"
     ]
    },
    {
     "data": {
      "text/plain": [
       "Array([ 0.0000000e+00,  3.2583479e-04,  4.9519106e-03,  2.2985460e-02,\n",
       "        6.4191215e-02,  1.3311261e-01,  2.2449929e-01,  3.2205141e-01,\n",
       "        4.0137896e-01,  4.3657413e-01,  4.0844810e-01,  3.1174392e-01,\n",
       "        1.5879709e-01, -2.1865398e-02, -1.9192256e-01, -3.1297475e-01,\n",
       "       -3.5678127e-01, -3.1297475e-01, -1.9192256e-01, -2.1865398e-02,\n",
       "        1.5879709e-01,  3.1174392e-01,  4.0844810e-01,  4.3657413e-01,\n",
       "        4.0137896e-01,  3.2205141e-01,  2.2449929e-01,  1.3311261e-01,\n",
       "        6.4191215e-02,  2.2985460e-02,  4.9519106e-03,  3.2583479e-04],      dtype=float32)"
      ]
     },
     "execution_count": 31,
     "metadata": {},
     "output_type": "execute_result"
    }
   ],
   "source": [
    "amm = jnp.array(all_amm(6))\n",
    "cx = jnp.array(lat_grid(32))\n",
    "\n",
    "Pmn(amm, cx)"
   ]
  },
  {
   "cell_type": "code",
   "execution_count": 17,
   "id": "dba28d50",
   "metadata": {
    "ExecuteTime": {
     "end_time": "2022-12-19T11:46:46.395177Z",
     "start_time": "2022-12-19T11:46:34.772724Z"
    }
   },
   "outputs": [
    {
     "name": "stdout",
     "output_type": "stream",
     "text": [
      "1.43 µs ± 11.4 ns per loop (mean ± std. dev. of 7 runs, 1,000,000 loops each)\n"
     ]
    }
   ],
   "source": [
    "%timeit Pmn(amm, cx)"
   ]
  }
 ],
 "metadata": {
  "kernelspec": {
   "display_name": "Python 3 (ipykernel)",
   "language": "python",
   "name": "python3"
  },
  "language_info": {
   "codemirror_mode": {
    "name": "ipython",
    "version": 3
   },
   "file_extension": ".py",
   "mimetype": "text/x-python",
   "name": "python",
   "nbconvert_exporter": "python",
   "pygments_lexer": "ipython3",
   "version": "3.10.8"
  },
  "varInspector": {
   "cols": {
    "lenName": 16,
    "lenType": 16,
    "lenVar": 40
   },
   "kernels_config": {
    "python": {
     "delete_cmd_postfix": "",
     "delete_cmd_prefix": "del ",
     "library": "var_list.py",
     "varRefreshCmd": "print(var_dic_list())"
    },
    "r": {
     "delete_cmd_postfix": ") ",
     "delete_cmd_prefix": "rm(",
     "library": "var_list.r",
     "varRefreshCmd": "cat(var_dic_list()) "
    }
   },
   "types_to_exclude": [
    "module",
    "function",
    "builtin_function_or_method",
    "instance",
    "_Feature"
   ],
   "window_display": false
  }
 },
 "nbformat": 4,
 "nbformat_minor": 5
}
