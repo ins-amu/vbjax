{
 "cells": [
  {
   "cell_type": "markdown",
   "id": "bf4b2d37",
   "metadata": {},
   "source": [
    "For regular chunked stochastic forward simulation, as with the MPR backend, we would create the buffer, and step through it, rewriting the noise samples with the computed time series, something like this"
   ]
  },
  {
   "cell_type": "code",
   "execution_count": 34,
   "id": "8b06f1f1",
   "metadata": {
    "ExecuteTime": {
     "end_time": "2023-01-10T14:18:32.999599Z",
     "start_time": "2023-01-10T14:18:32.947890Z"
    }
   },
   "outputs": [],
   "source": [
    "import jax.numpy as np\n",
    "import jax\n",
    "from jax.test_util import check_grads\n",
    "\n",
    "keys = jax.random.split(jax.random.PRNGKey(0), 10)\n",
    "nn = 84\n",
    "weights = np.abs(jax.random.normal (keys[0], (nn, nn)))+0.5\n",
    "lengths = jax.random.randint(keys[1], (nn, nn), 0, 255)\n",
    "nh = lengths.max() + 1\n",
    "nt = 100\n",
    "buffer = jax.random.normal(keys[2], (nn, nh + nt))\n",
    "nn = weights.shape[0]\n",
    "ns = np.tile(np.arange(nn),(nn,1))"
   ]
  },
  {
   "cell_type": "code",
   "execution_count": 23,
   "id": "087c5b2c",
   "metadata": {
    "ExecuteTime": {
     "end_time": "2023-01-10T13:35:33.949209Z",
     "start_time": "2023-01-10T13:35:24.245896Z"
    }
   },
   "outputs": [
    {
     "name": "stdout",
     "output_type": "stream",
     "text": [
      "117 µs ± 1.13 µs per loop (mean ± std. dev. of 7 runs, 10,000 loops each)\n"
     ]
    }
   ],
   "source": [
    "@jax.jit\n",
    "def run(buffer):\n",
    "    # TODO convert to scan?\n",
    "    for t in range(nt):\n",
    "        x_t = np.mean(weights*buffer[ns, nh + t - lengths], axis=1)\n",
    "        buffer = buffer.at[:, nh + t].set(x_t)\n",
    "    return buffer\n",
    "\n",
    "b1 = run(buffer)\n",
    "%timeit run(buffer)"
   ]
  },
  {
   "cell_type": "code",
   "execution_count": 24,
   "id": "58b4bb41",
   "metadata": {
    "ExecuteTime": {
     "end_time": "2023-01-10T13:35:34.511271Z",
     "start_time": "2023-01-10T13:35:33.950399Z"
    }
   },
   "outputs": [
    {
     "data": {
      "text/plain": [
       "(84, 265)"
      ]
     },
     "execution_count": 24,
     "metadata": {},
     "output_type": "execute_result"
    }
   ],
   "source": [
    "loss = lambda b: np.sum(np.square(b1 - run(b)))\n",
    "gloss = jax.jit(jax.grad(loss))\n",
    "gloss(b1).shape"
   ]
  },
  {
   "cell_type": "code",
   "execution_count": 25,
   "id": "6e415dd9",
   "metadata": {
    "ExecuteTime": {
     "end_time": "2023-01-10T13:35:39.145955Z",
     "start_time": "2023-01-10T13:35:34.512090Z"
    }
   },
   "outputs": [
    {
     "name": "stdout",
     "output_type": "stream",
     "text": [
      "570 µs ± 3.02 µs per loop (mean ± std. dev. of 7 runs, 1,000 loops each)\n"
     ]
    }
   ],
   "source": [
    "%timeit gloss(b1+1)"
   ]
  },
  {
   "cell_type": "code",
   "execution_count": 22,
   "id": "09dad44b",
   "metadata": {
    "ExecuteTime": {
     "end_time": "2023-01-10T13:00:22.110300Z",
     "start_time": "2023-01-10T13:00:22.107755Z"
    }
   },
   "outputs": [],
   "source": [
    "# n=1 run 16us & gloss 52us\n",
    "# n=10 run 118us & gloss 590us\n",
    "# n=100 run 1150 us & gloss 32700us"
   ]
  },
  {
   "cell_type": "markdown",
   "id": "3fb4dab0",
   "metadata": {},
   "source": [
    "The tricky bit with a scan is the carry,"
   ]
  },
  {
   "cell_type": "code",
   "execution_count": 26,
   "id": "39f7f236",
   "metadata": {
    "ExecuteTime": {
     "end_time": "2023-01-10T13:43:59.938538Z",
     "start_time": "2023-01-10T13:43:59.894450Z"
    }
   },
   "outputs": [],
   "source": [
    "jax.lax.scan?"
   ]
  },
  {
   "cell_type": "code",
   "execution_count": 45,
   "id": "9a1aa4ea",
   "metadata": {
    "ExecuteTime": {
     "end_time": "2023-01-10T21:05:53.827547Z",
     "start_time": "2023-01-10T21:05:43.044843Z"
    }
   },
   "outputs": [
    {
     "name": "stdout",
     "output_type": "stream",
     "text": [
      "1.32 ms ± 6.91 µs per loop (mean ± std. dev. of 7 runs, 1,000 loops each)\n"
     ]
    }
   ],
   "source": [
    "def make_run(nt):\n",
    "    def op(buffer, t):\n",
    "        x_t = np.mean(weights*buffer[ns, nh + t - lengths], axis=1)\n",
    "        buffer = buffer.at[:, nh + t].set(x_t)\n",
    "        return buffer, x_t\n",
    "    @jax.jit\n",
    "    def run(buffer):\n",
    "        b, x = jax.lax.scan(op, buffer, np.r_[:nt])\n",
    "        return b\n",
    "    return op, run\n",
    "\n",
    "op, run2 = make_run(nt)\n",
    "run2(buffer).shape\n",
    "%timeit run2(buffer)"
   ]
  },
  {
   "cell_type": "code",
   "execution_count": 38,
   "id": "d29ef570",
   "metadata": {
    "ExecuteTime": {
     "end_time": "2023-01-10T21:03:43.412009Z",
     "start_time": "2023-01-10T21:03:38.911466Z"
    }
   },
   "outputs": [
    {
     "name": "stdout",
     "output_type": "stream",
     "text": [
      "5.03 ms ± 10.5 µs per loop (mean ± std. dev. of 7 runs, 100 loops each)\n"
     ]
    }
   ],
   "source": [
    "loss2 = lambda b: np.sum(np.square(b1 - run2(b)))\n",
    "gloss2 = jax.jit(jax.grad(loss2))\n",
    "gloss2(b1).shape\n",
    "%timeit gloss2(b1+1)"
   ]
  },
  {
   "cell_type": "markdown",
   "id": "261b8969",
   "metadata": {},
   "source": [
    "About 4x slower.. could it be any better with custom vjp? well let''s look at what it's actually doing:"
   ]
  },
  {
   "cell_type": "code",
   "execution_count": 51,
   "id": "e2e9a036",
   "metadata": {
    "ExecuteTime": {
     "end_time": "2023-01-10T21:09:19.595123Z",
     "start_time": "2023-01-10T21:09:19.542379Z"
    }
   },
   "outputs": [
    {
     "data": {
      "text/plain": [
       "{ lambda a:i32[] b:i32[84,84] c:i32[84,84] d:f32[84,84]; e:f32[84,265]. let\n",
       "    f:i32[] = add a 0\n",
       "    g:i32[84,84] = sub f b\n",
       "    h:bool[84,84] = lt c 0\n",
       "    i:i32[84,84] = add c 84\n",
       "    j:i32[84,84] = select_n h c i\n",
       "    k:bool[84,84] = lt g 0\n",
       "    l:i32[84,84] = add g 265\n",
       "    m:i32[84,84] = select_n k g l\n",
       "    n:i32[84,84,1] = broadcast_in_dim[\n",
       "      broadcast_dimensions=(0, 1)\n",
       "      shape=(84, 84, 1)\n",
       "    ] j\n",
       "    o:i32[84,84,1] = broadcast_in_dim[\n",
       "      broadcast_dimensions=(0, 1)\n",
       "      shape=(84, 84, 1)\n",
       "    ] m\n",
       "    p:i32[84,84,2] = concatenate[dimension=2] n o\n",
       "    q:f32[84,84] = gather[\n",
       "      dimension_numbers=GatherDimensionNumbers(offset_dims=(), collapsed_slice_dims=(0, 1), start_index_map=(0, 1))\n",
       "      fill_value=None\n",
       "      indices_are_sorted=False\n",
       "      mode=GatherScatterMode.PROMISE_IN_BOUNDS\n",
       "      slice_sizes=(1, 1)\n",
       "      unique_indices=False\n",
       "    ] e p\n",
       "    r:f32[84,84] = mul d q\n",
       "    s:f32[84] = reduce_sum[axes=(1,)] r\n",
       "    t:f32[84] = div s 84.0\n",
       "    u:i32[] = add a 0\n",
       "    v:bool[] = lt u 0\n",
       "    w:i32[] = add u 265\n",
       "    x:i32[] = select_n v u w\n",
       "    y:i32[1] = broadcast_in_dim[broadcast_dimensions=() shape=(1,)] x\n",
       "    z:f32[84,265] = scatter[\n",
       "      dimension_numbers=ScatterDimensionNumbers(update_window_dims=(0,), inserted_window_dims=(1,), scatter_dims_to_operand_dims=(1,))\n",
       "      indices_are_sorted=True\n",
       "      mode=GatherScatterMode.FILL_OR_DROP\n",
       "      unique_indices=True\n",
       "      update_consts=()\n",
       "      update_jaxpr={ lambda ; ba:f32[] bb:f32[]. let  in (bb,) }\n",
       "    ] e y t\n",
       "    bc:f32[84,265] = integer_pow[y=2] z\n",
       "    bd:f32[84,265] = integer_pow[y=1] z\n",
       "    be:f32[84,265] = mul 2.0 bd\n",
       "    _:f32[] = reduce_sum[axes=(0, 1)] bc\n",
       "    bf:f32[84,265] = broadcast_in_dim[broadcast_dimensions=() shape=(84, 265)] 1.0\n",
       "    bg:f32[84,265] = mul bf be\n",
       "    bh:bool[84,265] = broadcast_in_dim[broadcast_dimensions=() shape=(84, 265)] True\n",
       "    bi:bool[84] = broadcast_in_dim[broadcast_dimensions=() shape=(84,)] False\n",
       "    bj:bool[84,265] = scatter[\n",
       "      dimension_numbers=ScatterDimensionNumbers(update_window_dims=(0,), inserted_window_dims=(1,), scatter_dims_to_operand_dims=(1,))\n",
       "      indices_are_sorted=True\n",
       "      mode=GatherScatterMode.FILL_OR_DROP\n",
       "      unique_indices=True\n",
       "      update_consts=()\n",
       "      update_jaxpr={ lambda ; bk:bool[] bl:bool[]. let  in (bl,) }\n",
       "    ] bh y bi\n",
       "    bm:f32[84,265] = broadcast_in_dim[broadcast_dimensions=() shape=(84, 265)] 0.0\n",
       "    bn:f32[84,265] = select_n bj bm bg\n",
       "    bo:f32[84] = gather[\n",
       "      dimension_numbers=GatherDimensionNumbers(offset_dims=(0,), collapsed_slice_dims=(1,), start_index_map=(1,))\n",
       "      fill_value=0\n",
       "      indices_are_sorted=False\n",
       "      mode=GatherScatterMode.FILL_OR_DROP\n",
       "      slice_sizes=(84, 1)\n",
       "      unique_indices=False\n",
       "    ] bg y\n",
       "    bp:f32[84] = div bo 84.0\n",
       "    bq:f32[84,84] = broadcast_in_dim[broadcast_dimensions=(0,) shape=(84, 84)] bp\n",
       "    br:f32[84,84] = mul d bq\n",
       "    bs:f32[84,84] = reduce_sum[axes=()] br\n",
       "    bt:f32[84,265] = broadcast_in_dim[broadcast_dimensions=() shape=(84, 265)] 0.0\n",
       "    bu:f32[84,265] = scatter-add[\n",
       "      dimension_numbers=ScatterDimensionNumbers(update_window_dims=(), inserted_window_dims=(0, 1), scatter_dims_to_operand_dims=(0, 1))\n",
       "      indices_are_sorted=False\n",
       "      mode=GatherScatterMode.PROMISE_IN_BOUNDS\n",
       "      unique_indices=False\n",
       "      update_consts=()\n",
       "      update_jaxpr={ lambda ; bv:f32[] bw:f32[]. let\n",
       "          bx:f32[] = add bv bw\n",
       "        in (bx,) }\n",
       "    ] bt p bs\n",
       "    by:f32[84,265] = add_any bn bu\n",
       "  in (by,) }"
      ]
     },
     "execution_count": 51,
     "metadata": {},
     "output_type": "execute_result"
    }
   ],
   "source": [
    "f = lambda b: np.sum(np.square(op(b,0)[0]))\n",
    "\n",
    "jax.make_jaxpr(jax.grad(f))(b1)"
   ]
  },
  {
   "cell_type": "markdown",
   "id": "8dad4750",
   "metadata": {},
   "source": [
    "This is interesting because it tells us that we have gather, scatter, scatter, gather here, to compute the gradient.  Can't some of that work be kept from the forward pass?  In any case, the jaxpr here is useful to understand what those clever transformations liek `jax.grad` are doing."
   ]
  }
 ],
 "metadata": {
  "kernelspec": {
   "display_name": "Python 3 (ipykernel)",
   "language": "python",
   "name": "python3"
  },
  "language_info": {
   "codemirror_mode": {
    "name": "ipython",
    "version": 3
   },
   "file_extension": ".py",
   "mimetype": "text/x-python",
   "name": "python",
   "nbconvert_exporter": "python",
   "pygments_lexer": "ipython3",
   "version": "3.10.8"
  },
  "varInspector": {
   "cols": {
    "lenName": 16,
    "lenType": 16,
    "lenVar": 40
   },
   "kernels_config": {
    "python": {
     "delete_cmd_postfix": "",
     "delete_cmd_prefix": "del ",
     "library": "var_list.py",
     "varRefreshCmd": "print(var_dic_list())"
    },
    "r": {
     "delete_cmd_postfix": ") ",
     "delete_cmd_prefix": "rm(",
     "library": "var_list.r",
     "varRefreshCmd": "cat(var_dic_list()) "
    }
   },
   "types_to_exclude": [
    "module",
    "function",
    "builtin_function_or_method",
    "instance",
    "_Feature"
   ],
   "window_display": false
  }
 },
 "nbformat": 4,
 "nbformat_minor": 5
}
