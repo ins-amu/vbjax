{
 "cells": [
  {
   "cell_type": "markdown",
   "id": "bf4b2d37",
   "metadata": {},
   "source": [
    "For regular chunked stochastic forward simulation, as with the MPR backend, we would create the buffer, and step through it, rewriting the noise samples with the computed time series, something like this"
   ]
  },
  {
   "cell_type": "code",
   "execution_count": 1,
   "id": "8b06f1f1",
   "metadata": {
    "ExecuteTime": {
     "end_time": "2023-01-12T09:45:49.794127Z",
     "start_time": "2023-01-12T09:45:48.980041Z"
    }
   },
   "outputs": [
    {
     "name": "stderr",
     "output_type": "stream",
     "text": [
      "No GPU/TPU found, falling back to CPU. (Set TF_CPP_MIN_LOG_LEVEL=0 and rerun for more info.)\n"
     ]
    }
   ],
   "source": [
    "%matplotlib inline\n",
    "%config InlineBackend.figure_format='retina'\n",
    "import matplotlib.pyplot as pl\n",
    "\n",
    "import jax.numpy as np\n",
    "import jax\n",
    "from jax.test_util import check_grads\n",
    "\n",
    "keys = jax.random.split(jax.random.PRNGKey(0), 10)\n",
    "nn = 84\n",
    "weights = np.abs(jax.random.normal (keys[0], (nn, nn)))+0.5\n",
    "lengths = jax.random.randint(keys[1], (nn, nn), 0, 255)\n",
    "nh = lengths.max() + 1\n",
    "nt = 100\n",
    "buffer = jax.random.normal(keys[2], (nn, nh + nt))\n",
    "nn = weights.shape[0]\n",
    "ns = np.tile(np.arange(nn),(nn,1))"
   ]
  },
  {
   "cell_type": "code",
   "execution_count": 2,
   "id": "087c5b2c",
   "metadata": {
    "ExecuteTime": {
     "end_time": "2023-01-12T09:46:01.102765Z",
     "start_time": "2023-01-12T09:45:49.795280Z"
    }
   },
   "outputs": [
    {
     "name": "stdout",
     "output_type": "stream",
     "text": [
      "808 µs ± 33.4 µs per loop (mean ± std. dev. of 7 runs, 1,000 loops each)\n"
     ]
    }
   ],
   "source": [
    "@jax.jit\n",
    "def run(buffer):\n",
    "    # TODO convert to scan?\n",
    "    for t in range(nt):\n",
    "        x_t = np.mean(weights*buffer[ns, nh + t - lengths], axis=1)\n",
    "        buffer = buffer.at[:, nh + t].set(x_t)\n",
    "    return buffer\n",
    "\n",
    "b1 = run(buffer)\n",
    "%timeit run(buffer)"
   ]
  },
  {
   "cell_type": "code",
   "execution_count": 3,
   "id": "58b4bb41",
   "metadata": {
    "ExecuteTime": {
     "end_time": "2023-01-12T09:46:11.198633Z",
     "start_time": "2023-01-12T09:46:01.103749Z"
    }
   },
   "outputs": [
    {
     "name": "stdout",
     "output_type": "stream",
     "text": [
      "24.8 ms ± 4.36 ms per loop (mean ± std. dev. of 7 runs, 10 loops each)\n"
     ]
    }
   ],
   "source": [
    "loss = lambda b: np.sum(np.square(b1 - run(b)))\n",
    "gloss = jax.jit(jax.grad(loss))\n",
    "gloss(b1).shape\n",
    "\n",
    "%timeit gloss(b1+1)"
   ]
  },
  {
   "cell_type": "code",
   "execution_count": 4,
   "id": "09dad44b",
   "metadata": {
    "ExecuteTime": {
     "end_time": "2023-01-12T09:46:13.894515Z",
     "start_time": "2023-01-12T09:46:13.893083Z"
    }
   },
   "outputs": [],
   "source": [
    "# n=1 run 16us & gloss 52us\n",
    "# n=10 run 118us & gloss 590us\n",
    "# n=100 run 1150 us & gloss 32700us"
   ]
  },
  {
   "cell_type": "markdown",
   "id": "3fb4dab0",
   "metadata": {},
   "source": [
    "The tricky bit with a scan is the carry,"
   ]
  },
  {
   "cell_type": "code",
   "execution_count": 5,
   "id": "39f7f236",
   "metadata": {
    "ExecuteTime": {
     "end_time": "2023-01-12T09:46:13.919024Z",
     "start_time": "2023-01-12T09:46:13.895293Z"
    }
   },
   "outputs": [],
   "source": [
    "jax.lax.scan?"
   ]
  },
  {
   "cell_type": "code",
   "execution_count": 6,
   "id": "9a1aa4ea",
   "metadata": {
    "ExecuteTime": {
     "end_time": "2023-01-13T11:42:00.515155Z",
     "start_time": "2023-01-13T11:41:49.639754Z"
    }
   },
   "outputs": [
    {
     "name": "stdout",
     "output_type": "stream",
     "text": [
      "876 µs ± 124 µs per loop (mean ± std. dev. of 7 runs, 1,000 loops each)\n"
     ]
    }
   ],
   "source": [
    "def make_run(nt):\n",
    "    def op(buffer, t):\n",
    "        x_t = np.mean(weights*buffer[ns, nh + t - lengths], axis=1)\n",
    "        buffer = buffer.at[:, nh + t].set(x_t)\n",
    "        return buffer, x_t\n",
    "    @jax.jit\n",
    "    def run(buffer):\n",
    "        b, x = jax.lax.scan(op, buffer, np.r_[:nt])\n",
    "        return b\n",
    "    return op, run\n",
    "\n",
    "op, run2 = make_run(nt)\n",
    "run2(buffer).shape\n",
    "%timeit run2(buffer)"
   ]
  },
  {
   "cell_type": "code",
   "execution_count": 7,
   "id": "d29ef570",
   "metadata": {
    "ExecuteTime": {
     "end_time": "2023-01-13T11:42:04.973547Z",
     "start_time": "2023-01-13T11:42:00.516235Z"
    }
   },
   "outputs": [
    {
     "name": "stdout",
     "output_type": "stream",
     "text": [
      "10.2 ms ± 1.81 ms per loop (mean ± std. dev. of 7 runs, 100 loops each)\n"
     ]
    }
   ],
   "source": [
    "loss2 = lambda b: np.sum(np.square(b1 - run2(b)))\n",
    "gloss2 = jax.jit(jax.grad(loss2))\n",
    "gloss2(b1).shape\n",
    "%timeit gloss2(b1+1)"
   ]
  },
  {
   "cell_type": "markdown",
   "id": "261b8969",
   "metadata": {},
   "source": [
    "About 4x slower.. could it be any better with custom vjp? well let''s look at what it's actually doing:"
   ]
  },
  {
   "cell_type": "code",
   "execution_count": 8,
   "id": "afdba717",
   "metadata": {
    "ExecuteTime": {
     "end_time": "2023-01-12T09:46:29.352597Z",
     "start_time": "2023-01-12T09:46:29.338194Z"
    },
    "scrolled": true
   },
   "outputs": [
    {
     "data": {
      "text/plain": [
       "{ lambda a:i32[] b:i32[84,84] c:i32[84,84] d:f32[84,84]; e:f32[84,355]. let\n",
       "    f:i32[] = add a 0\n",
       "    g:i32[84,84] = sub f b\n",
       "    h:bool[84,84] = lt c 0\n",
       "    i:i32[84,84] = add c 84\n",
       "    j:i32[84,84] = select_n h c i\n",
       "    k:bool[84,84] = lt g 0\n",
       "    l:i32[84,84] = add g 355\n",
       "    m:i32[84,84] = select_n k g l\n",
       "    n:i32[84,84,1] = broadcast_in_dim[\n",
       "      broadcast_dimensions=(0, 1)\n",
       "      shape=(84, 84, 1)\n",
       "    ] j\n",
       "    o:i32[84,84,1] = broadcast_in_dim[\n",
       "      broadcast_dimensions=(0, 1)\n",
       "      shape=(84, 84, 1)\n",
       "    ] m\n",
       "    p:i32[84,84,2] = concatenate[dimension=2] n o\n",
       "    q:f32[84,84] = gather[\n",
       "      dimension_numbers=GatherDimensionNumbers(offset_dims=(), collapsed_slice_dims=(0, 1), start_index_map=(0, 1))\n",
       "      fill_value=None\n",
       "      indices_are_sorted=False\n",
       "      mode=GatherScatterMode.PROMISE_IN_BOUNDS\n",
       "      slice_sizes=(1, 1)\n",
       "      unique_indices=False\n",
       "    ] e p\n",
       "    r:f32[84,84] = mul d q\n",
       "    s:f32[84] = reduce_sum[axes=(1,)] r\n",
       "    t:f32[84] = div s 84.0\n",
       "    u:i32[] = add a 0\n",
       "    v:bool[] = lt u 0\n",
       "    w:i32[] = add u 355\n",
       "    x:i32[] = select_n v u w\n",
       "    y:i32[1] = broadcast_in_dim[broadcast_dimensions=() shape=(1,)] x\n",
       "    z:f32[84,355] = scatter[\n",
       "      dimension_numbers=ScatterDimensionNumbers(update_window_dims=(0,), inserted_window_dims=(1,), scatter_dims_to_operand_dims=(1,))\n",
       "      indices_are_sorted=True\n",
       "      mode=GatherScatterMode.FILL_OR_DROP\n",
       "      unique_indices=True\n",
       "      update_consts=()\n",
       "      update_jaxpr={ lambda ; ba:f32[] bb:f32[]. let  in (bb,) }\n",
       "    ] e y t\n",
       "    bc:f32[84,355] = integer_pow[y=2] z\n",
       "    bd:f32[84,355] = integer_pow[y=1] z\n",
       "    be:f32[84,355] = mul 2.0 bd\n",
       "    _:f32[] = reduce_sum[axes=(0, 1)] bc\n",
       "    bf:f32[84,355] = broadcast_in_dim[broadcast_dimensions=() shape=(84, 355)] 1.0\n",
       "    bg:f32[84,355] = mul bf be\n",
       "    bh:bool[84,355] = broadcast_in_dim[broadcast_dimensions=() shape=(84, 355)] True\n",
       "    bi:bool[84] = broadcast_in_dim[broadcast_dimensions=() shape=(84,)] False\n",
       "    bj:bool[84,355] = scatter[\n",
       "      dimension_numbers=ScatterDimensionNumbers(update_window_dims=(0,), inserted_window_dims=(1,), scatter_dims_to_operand_dims=(1,))\n",
       "      indices_are_sorted=True\n",
       "      mode=GatherScatterMode.FILL_OR_DROP\n",
       "      unique_indices=True\n",
       "      update_consts=()\n",
       "      update_jaxpr={ lambda ; bk:bool[] bl:bool[]. let  in (bl,) }\n",
       "    ] bh y bi\n",
       "    bm:f32[84,355] = broadcast_in_dim[broadcast_dimensions=() shape=(84, 355)] 0.0\n",
       "    bn:f32[84,355] = select_n bj bm bg\n",
       "    bo:f32[84] = gather[\n",
       "      dimension_numbers=GatherDimensionNumbers(offset_dims=(0,), collapsed_slice_dims=(1,), start_index_map=(1,))\n",
       "      fill_value=0\n",
       "      indices_are_sorted=False\n",
       "      mode=GatherScatterMode.FILL_OR_DROP\n",
       "      slice_sizes=(84, 1)\n",
       "      unique_indices=False\n",
       "    ] bg y\n",
       "    bp:f32[84] = div bo 84.0\n",
       "    bq:f32[84,84] = broadcast_in_dim[broadcast_dimensions=(0,) shape=(84, 84)] bp\n",
       "    br:f32[84,84] = mul d bq\n",
       "    bs:f32[84,84] = reduce_sum[axes=()] br\n",
       "    bt:f32[84,355] = broadcast_in_dim[broadcast_dimensions=() shape=(84, 355)] 0.0\n",
       "    bu:f32[84,355] = scatter-add[\n",
       "      dimension_numbers=ScatterDimensionNumbers(update_window_dims=(), inserted_window_dims=(0, 1), scatter_dims_to_operand_dims=(0, 1))\n",
       "      indices_are_sorted=False\n",
       "      mode=GatherScatterMode.PROMISE_IN_BOUNDS\n",
       "      unique_indices=False\n",
       "      update_consts=()\n",
       "      update_jaxpr={ lambda ; bv:f32[] bw:f32[]. let\n",
       "          bx:f32[] = add bv bw\n",
       "        in (bx,) }\n",
       "    ] bt p bs\n",
       "    by:f32[84,355] = add_any bn bu\n",
       "  in (by,) }"
      ]
     },
     "execution_count": 8,
     "metadata": {},
     "output_type": "execute_result"
    }
   ],
   "source": [
    "f = lambda b: np.sum(np.square(op(b,0)[0]))\n",
    "\n",
    "jax.make_jaxpr(jax.grad(f))(b1)"
   ]
  },
  {
   "cell_type": "markdown",
   "id": "7f5d24da",
   "metadata": {},
   "source": [
    "This is interesting because it tells us that we have gather, scatter, scatter, gather here, to compute the gradient.  Can't some of that work be kept from the forward pass?  In any case, the jaxpr here is useful to understand what those clever transformations liek `jax.grad` are doing.\n",
    "\n",
    "## custom vjp of scan `op`\n",
    "\n",
    "If we have a scan forward, we have to have a scan backward, but we can amortize the cost by saving some of the work?\n",
    "\n",
    "Read https://jax.readthedocs.io/en/latest/notebooks/Custom_derivative_rules_for_Python_code.html carefully first, and make sure we know how to handle multiple inputs & outputs,"
   ]
  },
  {
   "cell_type": "code",
   "execution_count": 9,
   "id": "34c2d27f",
   "metadata": {
    "ExecuteTime": {
     "end_time": "2023-01-12T09:46:29.427845Z",
     "start_time": "2023-01-12T09:46:29.353652Z"
    }
   },
   "outputs": [],
   "source": [
    "# simple example with two outputs, how to do?\n",
    "@jax.custom_vjp\n",
    "def foo(a, b):\n",
    "    return 2*a+b, 3*a+0.5*b\n",
    "\n",
    "def foo_fwd(a, b):\n",
    "    return foo(a, b), None\n",
    "\n",
    "def foo_bwd(res, g):\n",
    "    g_1, g_2 = g\n",
    "    return (2*g[0]+3*g[1], g[0] + 0.5*g[1])\n",
    "\n",
    "foo.defvjp(foo_fwd, foo_bwd)\n",
    "\n",
    "def bar(a, b):\n",
    "    c, d = foo(a, b)\n",
    "    return 2*c + 3*d\n",
    "\n",
    "jax.grad(bar, [0,1])(3.,4.)\n",
    "\n",
    "jax.test_util.check_grads(bar, (3.0, 4.0), order=1, modes=('rev',))"
   ]
  },
  {
   "cell_type": "markdown",
   "id": "14fa4d5f",
   "metadata": {},
   "source": [
    "With that simple example in mind we can handle `op(buffer,t) -> (c, x)`, though the data flow is more complicated, so the resulting backwards pass is also:"
   ]
  },
  {
   "cell_type": "code",
   "execution_count": 10,
   "id": "44b19116",
   "metadata": {
    "ExecuteTime": {
     "end_time": "2023-01-13T11:34:19.883528Z",
     "start_time": "2023-01-13T11:34:19.692356Z"
    }
   },
   "outputs": [
    {
     "name": "stdout",
     "output_type": "stream",
     "text": [
      "\n",
      "Not equal to tolerance rtol=0.002, atol=0.002\n",
      "VJP cotangent projection\n",
      "Mismatched elements: 1 / 1 (100%)\n",
      "Max absolute difference: 0.04602623\n",
      "Max relative difference: 0.00213106\n",
      " x: array(21.551826, dtype=float32)\n",
      " y: array(21.597853, dtype=float32)\n"
     ]
    },
    {
     "data": {
      "text/plain": [
       "<matplotlib.colorbar.Colorbar at 0x7fcea8385c90>"
      ]
     },
     "execution_count": 10,
     "metadata": {},
     "output_type": "execute_result"
    },
    {
     "data": {
      "image/png": "[encoded data removed]",
      "text/plain": [
       "<Figure size 800x200 with 2 Axes>"
      ]
     },
     "metadata": {
      "image/png": {
       "height": 212,
       "width": 614
      }
     },
     "output_type": "display_data"
    }
   ],
   "source": [
    "import numpy as onp\n",
    "\n",
    "def make_bar(custom_bwd=False):\n",
    "    \n",
    "    cvjp = jax.custom_vjp if custom_bwd else (lambda f: f)\n",
    "    \n",
    "    @cvjp\n",
    "    def op(buffer, t):\n",
    "        nx = np.sum(weights*buffer[ns, nh + t - lengths], axis=1)\n",
    "        # only seems to be required with check_grads below\n",
    "        if isinstance(buffer, onp.ndarray):\n",
    "            buffer = np.array(buffer)\n",
    "        buffer = buffer.at[:, nh + t + 1].set(nx)\n",
    "        return buffer, nx\n",
    "\n",
    "    if custom_bwd:\n",
    "        def op_fwd(buffer, t):\n",
    "            return op(buffer, t), (t,)\n",
    "\n",
    "        def op_bwd(res, g):\n",
    "            t, = res\n",
    "            g_buf, g_x = g  # shaped (nn, nh+nt) & (nn, )\n",
    "            \n",
    "            # buffer[:, nh + t + 1] = nx\n",
    "            g_nx = g_x + g_buf[:, nh + t + 1]\n",
    "            \n",
    "            # output is independent of the buffer at time t+1 (wtf! but true)\n",
    "            g_buf = g_buf.at[:, nh + t + 1].set(0)\n",
    "            \n",
    "            # x_t = np.sum(weights*buffer[ns, nh + t - lengths], axis=1)\n",
    "            g_buf = g_buf.at[ns, nh + t - lengths].add(weights * g_nx[:, None])\n",
    "            \n",
    "            # t is integer, no gradient possible\n",
    "            g_t = None  \n",
    "\n",
    "            # done\n",
    "            return g_buf, g_t\n",
    "\n",
    "        op.defvjp(op_fwd, op_bwd)\n",
    "\n",
    "    # np.sum(x) works\n",
    "    # np.sum(b) works too\n",
    "    def bar(b):\n",
    "        b, x = op(b, 0)\n",
    "        return 0.3*np.sum(b)+0.2*np.sum(x)\n",
    "    \n",
    "    return bar\n",
    "\n",
    "bar1 = make_bar(False)\n",
    "bar2 = make_bar(True)\n",
    "\n",
    "jax.grad(bar1)(b1)\n",
    "#jax.test_util.check_grads(bar1, (b1, ), order=1, modes=('rev',))\n",
    "\n",
    "jax.grad(bar2)(b1);\n",
    "try:\n",
    "    jax.test_util.check_grads(bar2, (b1, ), order=1, modes=('rev',))\n",
    "except Exception as e:\n",
    "    print(e)\n",
    "\n",
    "gb1 = jax.grad(bar1)(b1)\n",
    "gb2 = jax.grad(bar2)(b1)\n",
    "\n",
    "pl.figure(figsize=(8,2)); pl.imshow(np.abs(gb1-gb2), aspect='auto', interpolation='none'); pl.colorbar()"
   ]
  },
  {
   "cell_type": "markdown",
   "id": "36341165",
   "metadata": {},
   "source": [
    "Now it's working let's see if it was worthwhile:"
   ]
  },
  {
   "cell_type": "code",
   "execution_count": 10,
   "id": "48629b55",
   "metadata": {
    "ExecuteTime": {
     "end_time": "2023-01-13T12:04:11.653531Z",
     "start_time": "2023-01-13T12:03:56.818474Z"
    }
   },
   "outputs": [
    {
     "name": "stdout",
     "output_type": "stream",
     "text": [
      "758 µs ± 20.4 µs per loop (mean ± std. dev. of 7 runs, 1,000 loops each)\n",
      "5.79 ms ± 582 µs per loop (mean ± std. dev. of 7 runs, 100 loops each)\n"
     ]
    }
   ],
   "source": [
    "# copy-pasted from above w/ our custom vjp inserted\n",
    "def make_run(nt):\n",
    "    @jax.custom_vjp\n",
    "    def op(buffer, t):\n",
    "        nx = np.sum(weights*buffer[ns, nh + t - lengths], axis=1)\n",
    "        buffer = buffer.at[:, nh + t + 1].set(nx)\n",
    "        return buffer, nx\n",
    "\n",
    "    def op_fwd(buffer, t): \n",
    "        b, x = op(buffer, t)\n",
    "        return (b, x), (t, )\n",
    "\n",
    "    def op_bwd(res, g):\n",
    "        t,  = res\n",
    "        g_buf, g_x = g  # shaped (nn, nh+nt) & (nn, )\n",
    "        g_nx = g_x + g_buf[:, nh + t + 1]\n",
    "        # output is independent of the buffer at time t+1 (wtf! but true)\n",
    "        g_buf = g_buf.at[:, nh + t + 1].set(0)  \n",
    "        g_buf = g_buf.at[ns, nh + t - lengths].add(weights * g_nx[:, None])\n",
    "        return g_buf, None\n",
    "\n",
    "    op.defvjp(op_fwd, op_bwd)\n",
    "\n",
    "    @jax.jit\n",
    "    def run(buffer):\n",
    "        b, x = jax.lax.scan(op, buffer, np.r_[:nt])\n",
    "        return b\n",
    "    return op, run\n",
    "\n",
    "op, run2 = make_run(nt)\n",
    "run2(buffer).shape\n",
    "%timeit run2(buffer)\n",
    "\n",
    "loss2 = lambda b: np.sum(np.square(b1 - run2(b)))\n",
    "gloss2 = jax.jit(jax.grad(loss2))\n",
    "gloss2(b1).shape\n",
    "%timeit gloss2(b1+1)"
   ]
  },
  {
   "cell_type": "markdown",
   "id": "9ffc0c08",
   "metadata": {},
   "source": [
    "So it's about 10% faster to implement by hand.. perhaps due to non stride 1 access on `g_buf`?  Removing those (and making the result incorrect) drops from 4.9 ms to 3.2 ms, which is still >2x the forward pass, suggesting unnecessary memory overhead; and using linear indexing would help as well."
   ]
  },
  {
   "cell_type": "code",
   "execution_count": 11,
   "id": "dcca15a7",
   "metadata": {
    "ExecuteTime": {
     "end_time": "2023-01-13T12:09:50.846906Z",
     "start_time": "2023-01-13T12:09:06.056402Z"
    }
   },
   "outputs": [
    {
     "name": "stdout",
     "output_type": "stream",
     "text": [
      "============ 10\n",
      "112 µs ± 25.5 µs per loop (mean ± std. dev. of 7 runs, 10,000 loops each)\n",
      "605 µs ± 90.1 µs per loop (mean ± std. dev. of 7 runs, 1,000 loops each)\n",
      "============ 100\n",
      "660 µs ± 12.6 µs per loop (mean ± std. dev. of 7 runs, 1,000 loops each)\n",
      "5.25 ms ± 163 µs per loop (mean ± std. dev. of 7 runs, 100 loops each)\n",
      "============ 1000\n",
      "8.12 ms ± 588 µs per loop (mean ± std. dev. of 7 runs, 100 loops each)\n",
      "65.9 ms ± 8.46 ms per loop (mean ± std. dev. of 7 runs, 1 loop each)\n"
     ]
    }
   ],
   "source": [
    "for nt in [10, 100, 1000]:\n",
    "    print('============', nt)\n",
    "    buffer = jax.random.normal(keys[2], (nn, nh + nt))\n",
    "    op, run2 = make_run(nt)\n",
    "    run2(buffer)\n",
    "    %timeit run2(buffer)\n",
    "    loss2 = lambda b: np.sum(np.square(buffer - run2(b)))\n",
    "    gloss2 = jax.jit(jax.grad(loss2))\n",
    "    %timeit gloss2(buffer+1)"
   ]
  },
  {
   "cell_type": "markdown",
   "id": "014438fb",
   "metadata": {},
   "source": [
    "The last thing to try is to do the `defvjp` on top of the scan,"
   ]
  },
  {
   "cell_type": "code",
   "execution_count": 12,
   "id": "26585833",
   "metadata": {
    "ExecuteTime": {
     "end_time": "2023-01-13T14:58:56.499635Z",
     "start_time": "2023-01-13T14:58:40.465261Z"
    }
   },
   "outputs": [
    {
     "name": "stdout",
     "output_type": "stream",
     "text": [
      "1.36 ms ± 192 µs per loop (mean ± std. dev. of 7 runs, 1,000 loops each)\n",
      "6.58 ms ± 1.47 ms per loop (mean ± std. dev. of 7 runs, 100 loops each)\n"
     ]
    }
   ],
   "source": [
    "def make_run(nh, nt):\n",
    "    \n",
    "    def op(buffer, t):\n",
    "        nx = np.sum(weights*buffer[ns, nh + t - lengths], axis=1)\n",
    "        buffer = buffer.at[:, nh + t + 1].set(nx)\n",
    "        return buffer, nx\n",
    "\n",
    "    def op_fwd(buffer, t): \n",
    "        b, x = op(buffer, t)\n",
    "        return (b, x), (t, )\n",
    "\n",
    "    def op_bwd(res, g):\n",
    "        t,  = res\n",
    "        g_buf, g_x = g  # shaped (nn, nh+nt) & (nn, )\n",
    "        g_nx = g_x + g_buf[:, nh + t + 1]\n",
    "        # output is independent of the buffer at time t+1 (wtf! but true)\n",
    "        g_buf = g_buf.at[:, nh + t + 1].set(0)  \n",
    "        g_buf = g_buf.at[ns, nh + t - lengths].add(weights * g_nx[:, None])\n",
    "        return g_buf, None\n",
    "\n",
    "    # op.defvjp(op_fwd, op_bwd)\n",
    "    \n",
    "    ts_fwd = np.r_[:nt]\n",
    "    ts_rev = ts_fwd[::-1]\n",
    "    \n",
    "    @jax.custom_vjp\n",
    "    def run(buffer):\n",
    "        b, x = jax.lax.scan(op, buffer, ts_fwd)\n",
    "        return b\n",
    "    \n",
    "    # so with this run, we don't worry about gradients for x\n",
    "    def run_fwd(buffer):\n",
    "        buffer = run(buffer)\n",
    "        return buffer, ()\n",
    "\n",
    "    g_x_bwd = np.zeros((nn,))\n",
    "    \n",
    "    def run_bwd_op(g_buf, t):\n",
    "        g_buf, _ = op_bwd((t, ), (g_buf, g_x_bwd))\n",
    "        return g_buf, g_x_bwd\n",
    "    \n",
    "    def run_bwd(res, g_buffer):\n",
    "        g_buffer, _ = jax.lax.scan(run_bwd_op, g_buffer, ts_rev)\n",
    "        return g_buffer,\n",
    "    \n",
    "    run.defvjp(run_fwd, run_bwd)\n",
    "    \n",
    "    return run\n",
    "\n",
    "\n",
    "nh, nt = 255, 100\n",
    "buffer = jax.random.normal(keys[2], (nn, nh + nt))\n",
    "run2 = make_run(nh, nt)\n",
    "run2(buffer).shape\n",
    "%timeit run2(buffer)\n",
    "\n",
    "loss2 = lambda b: np.sum(np.square(buffer - run2(b)))\n",
    "gloss2 = jax.jit(jax.grad(loss2))\n",
    "gloss2(buffer).shape\n",
    "%timeit gloss2(buffer+1)"
   ]
  },
  {
   "cell_type": "markdown",
   "id": "34c67d97",
   "metadata": {},
   "source": [
    "So writing out full backwards pass is still 3x the forwards pass, close the the 2x we might want (20% faster than original).  If we write one big function what happens?"
   ]
  },
  {
   "cell_type": "code",
   "execution_count": 17,
   "id": "afed3fba",
   "metadata": {
    "ExecuteTime": {
     "end_time": "2023-01-13T17:17:41.650738Z",
     "start_time": "2023-01-13T17:17:26.422769Z"
    }
   },
   "outputs": [
    {
     "name": "stdout",
     "output_type": "stream",
     "text": [
      "1.09 ms ± 88.6 µs per loop (mean ± std. dev. of 7 runs, 1,000 loops each)\n",
      "5.57 ms ± 1.03 ms per loop (mean ± std. dev. of 7 runs, 100 loops each)\n"
     ]
    }
   ],
   "source": [
    "def make_run_fwd_bwd(nt, ns, nh, weights, lengths): \n",
    "    @jax.jit\n",
    "    def run_fwd(buffer):\n",
    "        for t in range(nt):\n",
    "            nx = np.sum(weights*buffer[ns, nh + t - lengths], axis=1)\n",
    "            buffer = buffer.at[:, nh + t + 1].set(nx)\n",
    "        return buffer\n",
    "\n",
    "    @jax.jit\n",
    "    def run_bwd(g_buf):\n",
    "        for t in reversed(range(nt)):\n",
    "            g_nx = g_buf[:, nh + t + 1]\n",
    "            # output is independent of the buffer at time t+1\n",
    "            g_buf = g_buf.at[:, nh + t + 1].set(0)  \n",
    "            g_buf = g_buf.at[ns, nh + t - lengths].add(weights * g_nx[:, None])\n",
    "        return g_buf\n",
    "    return run_fwd, run_bwd\n",
    "\n",
    "run_fwd, run_bwd = make_run_fwd_bwd(nt, ns, nh, weights, lengths)\n",
    "run_fwd(buffer)\n",
    "%timeit run_fwd(buffer)\n",
    "\n",
    "g_buf = np.ones_like(buffer)\n",
    "run_bwd(g_buf)\n",
    "%timeit run_bwd(g_buf)"
   ]
  },
  {
   "cell_type": "markdown",
   "id": "426c7bb8",
   "metadata": {},
   "source": [
    "It's a little bit faster when we let the JIT work across loop iterations, though diminishing returns at 10 to 20 iterations.  The bwd is about two times slower: the `add` requires a read in addition to a write.\n",
    "\n",
    "That the JIT can speed things up with multiple iterations available suggests that we could do away with the custom bwd completely by doing a few iterations within the scan op:"
   ]
  },
  {
   "cell_type": "code",
   "execution_count": 18,
   "id": "cec475fa",
   "metadata": {
    "ExecuteTime": {
     "end_time": "2023-01-13T17:41:24.546327Z",
     "start_time": "2023-01-13T17:41:09.867860Z"
    }
   },
   "outputs": [
    {
     "name": "stdout",
     "output_type": "stream",
     "text": [
      "853 µs ± 87 µs per loop (mean ± std. dev. of 7 runs, 1,000 loops each)\n"
     ]
    }
   ],
   "source": [
    "def make_run(nT):\n",
    "    @jax.jit\n",
    "    def op(buffer, T):\n",
    "        for t in range(10):\n",
    "            x_t = np.sum(weights*buffer[ns, nh + T*10 + t - lengths], axis=1)\n",
    "            buffer = buffer.at[:, nh + t].set(x_t)\n",
    "        return buffer, x_t\n",
    "    @jax.jit\n",
    "    def run(buffer):\n",
    "        b, _ = jax.lax.scan(op, buffer, np.r_[:nT])\n",
    "        return b\n",
    "    return run\n",
    "\n",
    "run2 = make_run(nt//10)\n",
    "run2(buffer).shape\n",
    "%timeit run2(buffer)"
   ]
  },
  {
   "cell_type": "code",
   "execution_count": 19,
   "id": "d05900fd",
   "metadata": {
    "ExecuteTime": {
     "end_time": "2023-01-13T17:29:48.231707Z",
     "start_time": "2023-01-13T17:29:42.940440Z"
    }
   },
   "outputs": [
    {
     "name": "stdout",
     "output_type": "stream",
     "text": [
      "8.1 ms ± 870 µs per loop (mean ± std. dev. of 7 runs, 100 loops each)\n"
     ]
    }
   ],
   "source": [
    "loss = lambda b: np.sum(np.square(buffer - run2(b)))\n",
    "gloss = jax.jit(jax.grad(loss))\n",
    "gloss(buffer).shape\n",
    "%timeit gloss(buffer+1)"
   ]
  },
  {
   "cell_type": "markdown",
   "id": "ad69e965",
   "metadata": {},
   "source": [
    "So that idea doesn't pan out.  It seems like the best option is to choose one of the following\n",
    "\n",
    "- let jax diff through it, lose 2x\n",
    "- use full custom impl, gain 2x but require checking with test_grads\n",
    "\n",
    "For full on flexibility prototyping it's good to set custom bwd aside, leave it as an exercise for motivated user to add in afterward."
   ]
  },
  {
   "cell_type": "code",
   "execution_count": null,
   "id": "939a0897",
   "metadata": {
    "ExecuteTime": {
     "end_time": "2023-01-13T17:35:15.482550Z",
     "start_time": "2023-01-13T17:35:15.478107Z"
    }
   },
   "outputs": [],
   "source": [
    "steps_per_s = 100 / 1.32 * 1e3\n",
    "steps_per_s"
   ]
  },
  {
   "cell_type": "markdown",
   "id": "ee0f0752",
   "metadata": {},
   "source": [
    "That's roughly same speed as FastTVB, so we're in the ballpark.  Let's see what kinds of batching we can do."
   ]
  },
  {
   "cell_type": "code",
   "execution_count": 20,
   "id": "3e5d8ab6",
   "metadata": {},
   "outputs": [],
   "source": [
    "@jax.jit\n",
    "def run(buffer):\n",
    "    # TODO convert to scan?\n",
    "    for t in range(nt):\n",
    "        x_t = np.mean(weights[:, :, None]*buffer[ns, nh + t - lengths], axis=1)\n",
    "        buffer = buffer.at[:, nh + t].set(x_t)\n",
    "    return buffer"
   ]
  },
  {
   "cell_type": "code",
   "execution_count": 29,
   "id": "6e849f57",
   "metadata": {
    "ExecuteTime": {
     "end_time": "2023-01-13T17:43:31.749510Z",
     "start_time": "2023-01-13T17:43:31.743129Z"
    }
   },
   "outputs": [
    {
     "name": "stdout",
     "output_type": "stream",
     "text": [
      "734 µs ± 14.1 µs per loop (mean ± std. dev. of 7 runs, 1,000 loops each)\n",
      "41.1 ms ± 3.09 ms per loop (mean ± std. dev. of 7 runs, 10 loops each)\n",
      "for nb =  1\n",
      " \n",
      "2.37 ms ± 191 µs per loop (mean ± std. dev. of 7 runs, 100 loops each)\n",
      "78.7 ms ± 2.29 ms per loop (mean ± std. dev. of 7 runs, 10 loops each)\n",
      "for nb =  2\n",
      " \n",
      "3.9 ms ± 282 µs per loop (mean ± std. dev. of 7 runs, 100 loops each)\n",
      "106 ms ± 11.3 ms per loop (mean ± std. dev. of 7 runs, 10 loops each)\n",
      "for nb =  4\n",
      " \n"
     ]
    }
   ],
   "source": [
    "for nb in [1, 2, 4]:\n",
    "    nh, nt = 255, 100\n",
    "    buffer = jax.random.normal(keys[2], (nn, nh + nt, nb))\n",
    "    b1 = run(buffer)\n",
    "    loss = jax.jit(jax.grad(lambda b: np.sum(np.square(b1 - run(b)))))\n",
    "    loss(buffer)\n",
    "    %timeit run(buffer)\n",
    "    %timeit loss(buffer)\n",
    "    print('for nb = ', nb)\n",
    "    print(' ')"
   ]
  },
  {
   "cell_type": "markdown",
   "id": "978c7f7a",
   "metadata": {},
   "source": [
    "that's the unrolled version, and the scan:"
   ]
  },
  {
   "cell_type": "code",
   "execution_count": 43,
   "id": "63f0ad5f",
   "metadata": {},
   "outputs": [
    {
     "name": "stdout",
     "output_type": "stream",
     "text": [
      "\n",
      " 1 True 1\n",
      "731 µs ± 83.4 µs per loop (mean ± std. dev. of 7 runs, 1,000 loops each)\n",
      "12.7 ms ± 440 µs per loop (mean ± std. dev. of 7 runs, 100 loops each)\n",
      "\n",
      " 1 True 8\n",
      "6.01 ms ± 621 µs per loop (mean ± std. dev. of 7 runs, 100 loops each)\n",
      "41.4 ms ± 3.47 ms per loop (mean ± std. dev. of 7 runs, 10 loops each)\n",
      "\n",
      " 1 False 1\n",
      "1.1 ms ± 25.3 µs per loop (mean ± std. dev. of 7 runs, 1,000 loops each)\n",
      "12.4 ms ± 260 µs per loop (mean ± std. dev. of 7 runs, 100 loops each)\n",
      "\n",
      " 1 False 8\n",
      "8.25 ms ± 295 µs per loop (mean ± std. dev. of 7 runs, 100 loops each)\n",
      "65.5 ms ± 5.31 ms per loop (mean ± std. dev. of 7 runs, 10 loops each)\n",
      "\n",
      " 4 True 1\n",
      "773 µs ± 69.1 µs per loop (mean ± std. dev. of 7 runs, 1,000 loops each)\n",
      "18.8 ms ± 3.09 ms per loop (mean ± std. dev. of 7 runs, 10 loops each)\n",
      "\n",
      " 4 True 8\n",
      "10.6 ms ± 2.4 ms per loop (mean ± std. dev. of 7 runs, 100 loops each)\n",
      "83.7 ms ± 24.9 ms per loop (mean ± std. dev. of 7 runs, 10 loops each)\n",
      "\n",
      " 4 False 1\n",
      "1.34 ms ± 618 µs per loop (mean ± std. dev. of 7 runs, 100 loops each)\n",
      "20.1 ms ± 3.4 ms per loop (mean ± std. dev. of 7 runs, 100 loops each)\n",
      "\n",
      " 4 False 8\n",
      "9.95 ms ± 862 µs per loop (mean ± std. dev. of 7 runs, 100 loops each)\n",
      "122 ms ± 23.4 ms per loop (mean ± std. dev. of 7 runs, 10 loops each)\n"
     ]
    }
   ],
   "source": [
    "def make_run(nt, bcast=False, unroll=1):\n",
    "    def op(buffer, t):\n",
    "        w = weights[:,:,None] if bcast else weights\n",
    "        x_t = np.mean(w*buffer[ns, nh + t - lengths], axis=1)\n",
    "        buffer = buffer.at[:, nh + t].set(x_t)\n",
    "        return buffer, x_t\n",
    "    @jax.jit\n",
    "    def run(buffer):\n",
    "        b, x = jax.lax.scan(op, buffer, np.r_[:nt], unroll=unroll)\n",
    "        return b\n",
    "    return op, run\n",
    "\n",
    "for unroll in [1, 4]:\n",
    "    for bcast in [True, False]:\n",
    "        for nb in [1, 8]:\n",
    "            print('\\n', unroll, bcast, nb)\n",
    "            nh, nt = 255, 100\n",
    "            buffer = jax.random.normal(keys[2], (nn, nh + nt, nb))\n",
    "            _, run = make_run(nt, bcast=bcast, unroll=unroll)\n",
    "            if not bcast:\n",
    "                run = jax.vmap(run, 2, 2)\n",
    "            b1 = run(buffer)\n",
    "            loss = jax.jit(jax.grad(lambda b: np.sum(np.square(b1 - run(b)))))\n",
    "            loss(buffer)\n",
    "            %timeit run(buffer)\n",
    "            %timeit loss(buffer)"
   ]
  },
  {
   "cell_type": "markdown",
   "id": "1d520afb",
   "metadata": {},
   "source": [
    "The scan with broadcast w/o unroll is the best version all around.  Can we compose this with the integrators to avoid building delays into the integrators directly?\n",
    "\n",
    "- need an explicit notion of which time step we're at\n",
    "- intermediate Heun evaluation needs to use next time point\n",
    "- needs to work with the coupling functions.\n",
    "\n",
    "The Kuramoto test would be a good one."
   ]
  },
  {
   "cell_type": "code",
   "execution_count": null,
   "id": "d8d5c120",
   "metadata": {},
   "outputs": [],
   "source": [
    "def cfun_pre(x_j, x_i):\n",
    "    return np.sin(x_j - x_i)\n",
    "\n",
    "def cfun_post(gx):\n",
    "    return 0.1 * gx\n",
    "    \n",
    "\n",
    "def make_run(nt):\n",
    "    \n",
    "    def op(buffer, t):\n",
    "        x_j = buffer[ns, nh + t - lengths]\n",
    "        x_i = buffer[:, nh + t]\n",
    "        cxij = cfun_pre(x_j, x_i)\n",
    "        gx = np.sum(weights[:,:,None] * cxij, axis=1)\n",
    "        gx = cfun_post(gx)\n",
    "        # pass to dfun\n",
    "        # how to get update just once per call?\n",
    "        \n",
    "        # maybe the set needs to happen each time, to keep things clean\n",
    "        # do it on entry to op?\n",
    "        # maybe this is worth a diagram given the data flow etc\n",
    "        \n",
    "        buffer = buffer.at[:, nh + t].set(x_t)\n",
    "        return buffer, x_t\n",
    "    \n",
    "    # the scan will be handled by sde/ode loops\n",
    "    @jax.jit\n",
    "    def run(buffer):\n",
    "        b, x = jax.lax.scan(op, buffer, np.r_[:nt])\n",
    "        return b\n",
    "    return op, run"
   ]
  },
  {
   "cell_type": "markdown",
   "id": "878c6a29",
   "metadata": {},
   "source": [
    "The difficulty is that we want to call `op` functionally, with `buffer` as the carry for `scan`.  That means our schemes need to be more like this:"
   ]
  },
  {
   "cell_type": "code",
   "execution_count": 156,
   "id": "20e89448",
   "metadata": {},
   "outputs": [
    {
     "name": "stdout",
     "output_type": "stream",
     "text": [
      "54.1 ms ± 6.06 ms per loop (mean ± std. dev. of 7 runs, 10 loops each)\n",
      "981 ms ± 90.6 ms per loop (mean ± std. dev. of 7 runs, 1 loop each)\n"
     ]
    },
    {
     "data": {
      "image/png": "[encoded data removed]",
      "text/plain": [
       "<Figure size 640x480 with 1 Axes>"
      ]
     },
     "metadata": {
      "image/png": {
       "height": 413,
       "width": 547
      }
     },
     "output_type": "display_data"
    }
   ],
   "source": [
    "dt = 0.1\n",
    "p = -0.9\n",
    "\n",
    "def cfun(xt, t):\n",
    "    return 0.1*np.mean(weights[:,:,None]*xt[ns, nh + t - lengths], axis=1)\n",
    "\n",
    "def dfun(xt, t):\n",
    "    return xt, p*xt[:,nh+t] + cfun(xt,t)\n",
    "\n",
    "def step(xt, t):\n",
    "    x = xt[:, nh+t]\n",
    "    \n",
    "    # predictor step\n",
    "    xt, d1 = dfun(xt, t)\n",
    "    xi = x + dt * d1\n",
    "    xt = xt.at[:, nh+t+1].set(xi)\n",
    "    \n",
    "    # corrector\n",
    "    xt, d2 = dfun(xt, t+1)\n",
    "    nx = x + dt*0.5*(d1 + d2)\n",
    "    xt = xt.at[:, nh+t+1].set(nx)\n",
    "    return xt, nx\n",
    "\n",
    "ts = np.r_[:1000]\n",
    "key = jax.random.PRNGKey(42)\n",
    "xt0 = jax.random.normal(key, shape=(nn, nh + ts.size, 1))*0.1 + 1\n",
    "run = jax.jit(lambda xt: jax.lax.scan(step, xt, ts, unroll=20)[0])\n",
    "xt1 = run(xt0)\n",
    "loss = lambda xt: np.sum(np.square(xt1 - run(xt)))\n",
    "\n",
    "gloss = jax.jit(jax.grad(loss))\n",
    "assert loss(xt0) == 0.0\n",
    "\n",
    "%timeit run(xt0)\n",
    "%timeit gloss(xt0)\n",
    "\n",
    "%matplotlib inline\n",
    "pl.plot(xt1[:, nh:, 0].T);"
   ]
  },
  {
   "cell_type": "code",
   "execution_count": 155,
   "id": "40060956",
   "metadata": {},
   "outputs": [
    {
     "data": {
      "text/plain": [
       "(76923.07692307692, 'iter / s')"
      ]
     },
     "execution_count": 155,
     "metadata": {},
     "output_type": "execute_result"
    }
   ],
   "source": [
    "2*1000 / 0.026, 'iter / s'"
   ]
  },
  {
   "cell_type": "markdown",
   "id": "b45236ba",
   "metadata": {},
   "source": [
    "This is in ballpark of FastTVB or the Numba backends for the forward pass but 15-20x slower for the backwards pass, since there's a large memory overhead."
   ]
  },
  {
   "cell_type": "code",
   "execution_count": null,
   "id": "07f9cab6",
   "metadata": {},
   "outputs": [],
   "source": []
  }
 ],
 "metadata": {
  "kernelspec": {
   "display_name": "Python 3 (ipykernel)",
   "language": "python",
   "name": "python3"
  },
  "language_info": {
   "codemirror_mode": {
    "name": "ipython",
    "version": 3
   },
   "file_extension": ".py",
   "mimetype": "text/x-python",
   "name": "python",
   "nbconvert_exporter": "python",
   "pygments_lexer": "ipython3",
   "version": "3.10.6"
  },
  "varInspector": {
   "cols": {
    "lenName": 16,
    "lenType": 16,
    "lenVar": 40
   },
   "kernels_config": {
    "python": {
     "delete_cmd_postfix": "",
     "delete_cmd_prefix": "del ",
     "library": "var_list.py",
     "varRefreshCmd": "print(var_dic_list())"
    },
    "r": {
     "delete_cmd_postfix": ") ",
     "delete_cmd_prefix": "rm(",
     "library": "var_list.r",
     "varRefreshCmd": "cat(var_dic_list()) "
    }
   },
   "types_to_exclude": [
    "module",
    "function",
    "builtin_function_or_method",
    "instance",
    "_Feature"
   ],
   "window_display": false
  }
 },
 "nbformat": 4,
 "nbformat_minor": 5
}
